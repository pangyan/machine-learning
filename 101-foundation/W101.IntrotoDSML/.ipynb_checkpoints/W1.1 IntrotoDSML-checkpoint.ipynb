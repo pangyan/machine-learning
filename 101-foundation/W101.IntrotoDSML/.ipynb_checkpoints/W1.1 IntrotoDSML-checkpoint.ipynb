{
 "cells": [
  {
   "cell_type": "markdown",
   "metadata": {},
   "source": [
    "# Welcome to 101 Machine Learning Foundations\n",
    "\n",
    "### Agenda for Today\n",
    "\n",
    "1) Course Details and timelines\n",
    "\n",
    "2) Introduction to Data Science and Machine Learning\n",
    "\n",
    "3) Python 101 w/ Python 3"
   ]
  },
  {
   "cell_type": "markdown",
   "metadata": {},
   "source": [
    "## Course Details\n",
    "\n",
    "This course will be structured in three distinct but interconnected parts:\n",
    "\n",
    "1) **Data Collection & Cleaning:** Finding data to analyise, how to collect your own customised datasets, and join the community!\n",
    "\n",
    "2) **Analysis:** Be it basic quick wins, or fancy Machine Learning Algorithms, analysis is the bread and butter of this field and how you find insight that everyone else missed.\n",
    "\n",
    "3) **Visualisations:** Insight without presentation skills is like writing a book no one will ever read\n",
    "\n",
    "\n",
    "## Class Schedule (First 3 weeks):\n",
    "\n",
    "**1st Class:** Intro. to Data Science and Machine Learning & Python 101\n",
    "\n",
    "**2nd Class:** Pandas 101 + Real Life Dataset\n",
    "\n",
    "**3rd Class:** Data Collection: Scraping with BS4\n",
    "\n",
    "**4th Class:** Visualisations with Python\n",
    "\n",
    "**5th Class:** Project Preparation\n",
    "\n",
    "**6th Class:** Project Presentations"
   ]
  },
  {
   "cell_type": "markdown",
   "metadata": {},
   "source": [
    "## The Average Class\n",
    "\n",
    "We have structured these classes in three segments:\n",
    "\n",
    "1) **New concepts/topics:** We will introduce and walk through new concepts in three stages: theory behind the concept, where and how it's used, and code deployment\n",
    "\n",
    "2) **In-class activities:** There will be in-class activities for you to familiarise yourself with these concepts and reinforce how they work.\n",
    "\n",
    "3) **Feedback and Questionnaire:** Please remember to fill out the feedback form before you leave so we can imrpove the class for all present."
   ]
  },
  {
   "cell_type": "markdown",
   "metadata": {},
   "source": [
    "## Course Resources\n",
    "\n",
    "1) **Slack:** An instant messaging app used by many teams and companies for collaborating. You have all been sent invites so please sign up and have it open during class. We will be posting class materials and datasets here. https://rebootai.slack.com. Feel free to ask your teammates for help on slack!\n",
    "\n",
    "\n",
    "2) **Garry:** Our lovely chatbot, Garry, is a little slow currently. But he can live up to his name if you help us train him. He doesn't know  much yet but please ask it questions so he can learn and become a useful TA. You can find him in slack. \n",
    "\n",
    "3) **Facial Recognition System:** We are trying to build an AI image recognition system to help our students. At the end of the course, after you guys present your project, we will have an exciting project based on the data we collect from this. Don't worry, we are not recording anything. Those points you see on your face, that's what we will be collecting the coordinates of. The system can be found at https://reboot-emotions.herokuapp.com/\n",
    "\n",
    "4) **Surveys:** At the end of each class, please fill out a survery before you leave. This will help us improve and tailor the curriculum for your customised needs as we move along. \n",
    "\n",
    "5) **Google/Slack:** If you are ever stuck, it would be good idea to google your errors and try debug them in that fashion. We're not lazy, promise, but it will help you understand why you are getting errors in the first place, and self debugging is a great way to learn how to code.\n",
    "\n",
    "6) **Instructors:** We will of course be there to help in any case. "
   ]
  },
  {
   "cell_type": "markdown",
   "metadata": {},
   "source": [
    "# Why do Data Science/Machine Learning exist?\n",
    "\n",
    "Data Science and Big Data have become buzz words, but it's important to understand how they have come about. Data science is a massive field now because:\n",
    "\n",
    "\n",
    "## Data Creation is incresing Exponentially\n",
    "\n",
    "Data Creation is increasing exponentially at an astounding rate. By 2020, experts forecast that every human will be creating 1.7 mbps of data a DAY! That's 13 million GBs a day, or 5 billion Gbs a year. \n",
    "\n",
    "<img src=\"dns.png\">\n",
    "\n",
    "But that's just humans, who only create a small fraction of all data. IoT with wearables, sensors and enterprise systems create 80% of total data on the virtual sphere, taking these numbers to astounding scales. \n",
    "\n",
    "All this data is really useful for companies, governments and institutions to study and analyse, and this is why everyone is actively looking for professionals in data science. \n",
    "\n",
    "\n",
    "## Changing Data Types\n",
    "\n",
    "This new data is not the same as data being created in previous decades. 21st century data does not lie in neat SQL tables with nifty primary keys and customised query languages. Rather, it is unstructured, messy and very complicated to process. Working with this explosion requires advanced processing skills, and needs a whole team of data minded people to sift through.\n",
    "\n",
    "Between data collection, data warehousnig, data cleaning, data wrangling, data analytics and Machine Learning, these are more things than most people can gain expertise over. \n",
    "\n"
   ]
  },
  {
   "cell_type": "markdown",
   "metadata": {},
   "source": [
    "## What is Data Science?\n",
    "\n",
    "Wikipedia defines Data Science as \"an interdisciplinary field about scientific methods, processes, and systems to extract knowledge or insights from data in various forms, either structured or unstructured\" \n",
    "\n",
    "A Data Scientist is very inter-disciplinary and has understanding of Mathematical Modelling, Computer Science, the industry he/she works in and a problem solving approach.\n",
    "\n",
    "<img src = \"mds.png\">"
   ]
  },
  {
   "cell_type": "markdown",
   "metadata": {},
   "source": [
    "## Why do we do Data Science/Machine Learning?\n",
    "\n",
    "It is important to remember that any data science project must answer a relevant question to help something in some way. There is a lot of noise, and numerous alleys to get lost in, so going in with a clear purpose is crucial. \n",
    "\n",
    "What can you do with Data Science?\n",
    "\n",
    "1. Healthcare: Finding Genomes. 23 specific genes isolated from 42,000 blood samples (~ 50,000 genes per sample, ~63 billion rows)\n",
    "2. Pricing illiquid instruments accurately using Ensemble Learning\n",
    "3. Sentimental Analysis of news stories and public perception to drive decisions on policy making\n",
    "4. Using Machine Learning techniques of millions of transactions, to create better fraud detection techniques\n",
    "5. Crisis management: Improved disaster response, e.g. Nepal 2015 earthquake and Ebloa outbreak\n",
    "\n",
    "\n",
    "## Why should I take Data Science?\n",
    "\n",
    "What does it mean for the average person? \n",
    "\n",
    "1) There will be a 50% gap between demand and supply by 2025 for data scientists \n",
    "\n",
    "2) Demand for Machine Learning and AI engineers will baloon\n",
    "\n",
    "3) Demand for people with sound data skills/understanding will be much higher\n",
    "\n",
    "As organistaions become more data driven, there will be many opportunities in the field, from data warehousers, to data cleaners to of course Data Scientists."
   ]
  },
  {
   "cell_type": "markdown",
   "metadata": {},
   "source": [
    "Extra Readings: \n",
    "\n",
    "http://www.datasciencecentral.com/profiles/blogs/spark-or-hadoop-which-is-the-best-framework\n",
    "\n",
    "https://blog.microfocus.com/how-much-data-is-created-on-the-internet-each-day/\n",
    "\n",
    "https://www.forbes.com/sites/bernardmarr/2015/09/30/big-data-20-mind-boggling-facts-everyone-must-read/#s3ba003f617b1\n",
    "\n",
    "https://blog.alexa.com/know-data-science-important/\n",
    "\n",
    "https://www.forbes.com/sites/bernardmarr/2015/09/30/big-data-20-mind-boggling-facts-everyone-must-read/#s3ba003f617b1\n",
    "\n",
    "https://appdevelopermagazine.com/4773/2016/12/23/more-data-will-be-created-in-2017-than-the-previous-5,000-years-of-humanity-/\n",
    "\n",
    "Videos:\n",
    "\n",
    "https://www.youtube.com/watch?v=L7CdHnuR4pE\n",
    "\n",
    "https://www.youtube.com/watch?v=i2jwZcWicSY\n"
   ]
  },
  {
   "cell_type": "code",
   "execution_count": null,
   "metadata": {
    "collapsed": true
   },
   "outputs": [],
   "source": []
  }
 ],
 "metadata": {
  "kernelspec": {
   "display_name": "Python 3",
   "language": "python",
   "name": "python3"
  },
  "language_info": {
   "codemirror_mode": {
    "name": "ipython",
    "version": 3
   },
   "file_extension": ".py",
   "mimetype": "text/x-python",
   "name": "python",
   "nbconvert_exporter": "python",
   "pygments_lexer": "ipython3",
   "version": "3.6.1"
  }
 },
 "nbformat": 4,
 "nbformat_minor": 2
}
