{
 "cells": [
  {
   "cell_type": "markdown",
   "metadata": {},
   "source": [
    "# Week 1.1 - Python 3 in Jupyter Notebooks"
   ]
  },
  {
   "cell_type": "markdown",
   "metadata": {},
   "source": [
    "## 1.0 Notebook Basics"
   ]
  },
  {
   "cell_type": "markdown",
   "metadata": {},
   "source": [
    "### 1.1 Cells\n",
    "\n",
    "#### Click HERE.\n",
    "Notice when you click how this section highlights with a border. The area within the border is a single cell. By seperating our code into cells, we can do one thing at a time, making our code more flexible to partially execute, and more easy to read and debug.\n",
    "\n",
    "Also notice that above this cell the dropdown below 'Kernel' and 'Widgets' reads 'Markdown'. That means this cell is for 'text markdown' for humans to read rather than code for computers to read. When in a cell, hit Shift + Enter (at the same time) to execute that cell and automatically move to the next one. In this case, since the cell is 'Markdown' there is no code to execute, so Shift + Enter will just move to the next cell."
   ]
  },
  {
   "cell_type": "code",
   "execution_count": null,
   "metadata": {
    "collapsed": true,
    "scrolled": true
   },
   "outputs": [],
   "source": [
    "# Notice that in this cell, the dropdown indicates this cell is for 'Code'.\n",
    "# That means this cell is looking for Python code and is ready to execute it.\n",
    "# Unlike the markdown in the cell above, what you are reading is a code comment, created with a single 'hashtag' sign.\n",
    "\n",
    "# Here is some actual Python code, can you guess what it does?\n",
    "# When you are ready, hit Shift + Enter and see what happens...\n",
    "print(3 + 5)"
   ]
  },
  {
   "cell_type": "markdown",
   "metadata": {},
   "source": [
    "The above value reading '8' is not a cell itself, but a display of the output of the above cell. This makes it easier to see what our code does as we go along cell by cell."
   ]
  },
  {
   "cell_type": "markdown",
   "metadata": {},
   "source": [
    "### 1.2 Troubleshooting\n",
    "\n",
    "There are many other useful features of notebooks we will use later, but for now the most useful are for troubleshooting when you have trouble executing your notebook or it freezes or gets stuck.\n",
    "\n",
    "In these cases go to 'Kernel' in the main toolbar > 'Restart'.\n",
    "\n",
    "'Restart & Run All' is also very useful, as this will restart the notebook and execute each and every cell. Remember that cells execute individually, so the order in which cells are executed matter. Any cell in the middle of the sheet that depends on a calculation, variable, or value from a previous cell will need that previous cell executed before it can be executed."
   ]
  },
  {
   "cell_type": "markdown",
   "metadata": {},
   "source": [
    "## 2.0 Data Types and Variables"
   ]
  },
  {
   "cell_type": "markdown",
   "metadata": {},
   "source": [
    "### 2.1 Data Types in Python\n",
    "\n",
    "There are 5 standard types of data in python, 2 simple types and 3 complex types\n",
    "\n",
    "#### Simple Data Types (Single Values)\n",
    "* Numbers - any number ex. 1, 0, 3.14, .9999, etc.\n",
    "* Strings - sets of  characters ex. \"Hello World\" or \"5.0\"\n",
    "\n",
    "#### Complex Data Types (Groups of Values)\n",
    "* Lists - a list of other elements, very similar to what other languages call 'arrays' or 'hashes' ex. [1,2,3]\n",
    "\n",
    "* Tuples - identical to lists except while 'lists' can be changed, once created tuples can not be changed, 'read-only' lists ex. (1,2,3)\n",
    "\n",
    "* Dictionary - as the name implies, dictionaries have lookup terms or 'keys', and definitions or 'values' assigned to each key. Very similar to what other languages refer to as 'key-value pairs', 'objects', or 'maps'. ex. dict = {'class_name': 'Foundations', 'class_number': 101}\n",
    "\n",
    "##### For now, we'll focus on Simple Data Types (numbers and strings)"
   ]
  },
  {
   "cell_type": "markdown",
   "metadata": {},
   "source": [
    "### 2.2 Assigning Variables\n",
    "\n",
    "Variables in Python are assigned by indicating:\n",
    "\n",
    "[variable name] = [variable value]\n",
    "\n",
    "For example:\n",
    "\n",
    "x = 3\n",
    "\n",
    "Creates a variable called 'x' with a value of 3"
   ]
  },
  {
   "cell_type": "markdown",
   "metadata": {},
   "source": [
    "#### Number Variables\n",
    "There are two main types of numbers we will encounter in Python: \n",
    "* integers ex. 1, 2, 3, 4\n",
    "* floats ex. 3.1, .98"
   ]
  },
  {
   "cell_type": "code",
   "execution_count": null,
   "metadata": {
    "collapsed": true
   },
   "outputs": [],
   "source": [
    "# This creates a variable called 'x' which is an integer of 3\n",
    "x = 3\n",
    "# This creates a variable called 'y' which is a float of 2.1\n",
    "y = 2.1\n",
    "\n",
    "# We can use the print() function to display the value of a variable\n",
    "print(x)\n",
    "print(y)\n",
    "\n",
    "# For printing more than one variable at a time seperate variables by commas\n",
    "print(x, y)"
   ]
  },
  {
   "cell_type": "markdown",
   "metadata": {},
   "source": [
    "#### String Variables\n",
    "\n",
    "Strings are marked by either single '' or double \"\" quotation marks."
   ]
  },
  {
   "cell_type": "code",
   "execution_count": 1,
   "metadata": {},
   "outputs": [
    {
     "name": "stdout",
     "output_type": "stream",
     "text": [
      "This is a string with single quotes\n",
      "This is a string with double quotes\n"
     ]
    }
   ],
   "source": [
    "string = 'This is a string with single quotes'\n",
    "string2 = \"This is a string with double quotes\"\n",
    "\n",
    "print(string)\n",
    "print(string2)"
   ]
  },
  {
   "cell_type": "markdown",
   "metadata": {},
   "source": [
    "#### Multiple Assignments\n",
    "\n",
    "In addition to assinging one variable at a time, we can also assign multiple values to multiple variables at once."
   ]
  },
  {
   "cell_type": "markdown",
   "metadata": {},
   "source": [
    "##### Assigning Same Value"
   ]
  },
  {
   "cell_type": "code",
   "execution_count": null,
   "metadata": {
    "collapsed": true
   },
   "outputs": [],
   "source": [
    "a = b = c = 'These are all the same'\n",
    "print(a)\n",
    "print(b)\n",
    "print(c)"
   ]
  },
  {
   "cell_type": "code",
   "execution_count": null,
   "metadata": {
    "collapsed": true
   },
   "outputs": [],
   "source": [
    "# Now we will change c and see what happens\n",
    "c = 'This is c'\n",
    "print(a)\n",
    "print(b)\n",
    "print(c)"
   ]
  },
  {
   "cell_type": "markdown",
   "metadata": {},
   "source": [
    "##### Assigning Different Values"
   ]
  },
  {
   "cell_type": "code",
   "execution_count": null,
   "metadata": {
    "collapsed": true
   },
   "outputs": [],
   "source": [
    "a, b, c = 1,2,3\n",
    "print(a)\n",
    "print(b)\n",
    "print(c)"
   ]
  },
  {
   "cell_type": "markdown",
   "metadata": {},
   "source": [
    "### 2.3 Converting Data Types\n",
    "\n",
    "Real world data sets are often messy and poorly formatted, and converting between different types of data is a vital part of data grooming. For instance you might want a float (ex 1.0) to only be stored as an integer (1), or you might have a numerical value stored in a string (\"25.1\") that you'd like stored as an actual number you can do math with."
   ]
  },
  {
   "cell_type": "code",
   "execution_count": 3,
   "metadata": {},
   "outputs": [
    {
     "name": "stdout",
     "output_type": "stream",
     "text": [
      "1\n",
      "1.0\n",
      "1.999999\n"
     ]
    }
   ],
   "source": [
    "x = 1.999999\n",
    "y = 1\n",
    "\n",
    "# Convert to integer\n",
    "x_int = int(x)\n",
    "\n",
    "# Convert to float\n",
    "y_float = float(y)\n",
    "\n",
    "# Convert to string\n",
    "x_string = str(x)\n",
    "\n",
    "print(x_int)\n",
    "print(y_float)\n",
    "print(x_string)"
   ]
  },
  {
   "cell_type": "code",
   "execution_count": null,
   "metadata": {
    "collapsed": true
   },
   "outputs": [],
   "source": [
    "z = \"25.1\"\n",
    "\n",
    "# Convert to float (from string)\n",
    "z_float = float(z)\n",
    "print(z_float)\n",
    "\n",
    "# Convert to integer (from string)\n",
    "z_integer = int(\"25\")\n",
    "print(z_integer)\n",
    "\n",
    "# Note if the string represents a float, it must first be converted to float even if you eventually want an integer\n",
    "z_integer2 = int(float(z))\n",
    "print(z_integer2)"
   ]
  },
  {
   "cell_type": "markdown",
   "metadata": {},
   "source": [
    "## 3.0 Operations"
   ]
  },
  {
   "cell_type": "markdown",
   "metadata": {},
   "source": [
    "### 3.1 Addition\n",
    "Numbers can be added and strings can be combined (concatenated) with the '+' sign\n"
   ]
  },
  {
   "cell_type": "code",
   "execution_count": null,
   "metadata": {
    "collapsed": true
   },
   "outputs": [],
   "source": [
    "2.4 + 3"
   ]
  },
  {
   "cell_type": "code",
   "execution_count": null,
   "metadata": {
    "collapsed": true
   },
   "outputs": [],
   "source": [
    "a,b = 2.4,3\n",
    "a + b"
   ]
  },
  {
   "cell_type": "code",
   "execution_count": null,
   "metadata": {
    "collapsed": true
   },
   "outputs": [],
   "source": [
    "# We can also reassign a variable value while also doing an operation on it.\n",
    "# This updates the value of variable 'b' to 'b' original value plus 1\n",
    "b = b + 1\n",
    "print(b)"
   ]
  },
  {
   "cell_type": "code",
   "execution_count": null,
   "metadata": {
    "collapsed": true
   },
   "outputs": [],
   "source": [
    "# Example of concatenating strings\n",
    "greeting = \"Hello\"\n",
    "name = \"(your name here)\"\n",
    "combined = greeting + \" \" + name\n",
    "\n",
    "print(greeting + \" \" + name)\n",
    "print(combined)"
   ]
  },
  {
   "cell_type": "code",
   "execution_count": 4,
   "metadata": {},
   "outputs": [
    {
     "ename": "TypeError",
     "evalue": "must be str, not int",
     "output_type": "error",
     "traceback": [
      "\u001b[1;31m---------------------------------------------------------------------------\u001b[0m",
      "\u001b[1;31mTypeError\u001b[0m                                 Traceback (most recent call last)",
      "\u001b[1;32m<ipython-input-4-bd45fe21c44a>\u001b[0m in \u001b[0;36m<module>\u001b[1;34m()\u001b[0m\n\u001b[0;32m      2\u001b[0m \u001b[1;33m\u001b[0m\u001b[0m\n\u001b[0;32m      3\u001b[0m \u001b[1;31m# Operating on different data types, like trying to add a string to a number, will create a type error...\u001b[0m\u001b[1;33m\u001b[0m\u001b[1;33m\u001b[0m\u001b[0m\n\u001b[1;32m----> 4\u001b[1;33m \u001b[1;34m\"2.0\"\u001b[0m \u001b[1;33m+\u001b[0m \u001b[1;36m3\u001b[0m\u001b[1;33m\u001b[0m\u001b[0m\n\u001b[0m",
      "\u001b[1;31mTypeError\u001b[0m: must be str, not int"
     ]
    }
   ],
   "source": [
    "# THIS CELL WILL CAUSE AN ERROR\n",
    "\n",
    "# Operating on different data types, like trying to add a string to a number, will create a type error...\n",
    "\"2.0\" + 3"
   ]
  },
  {
   "cell_type": "code",
   "execution_count": null,
   "metadata": {
    "collapsed": true
   },
   "outputs": [],
   "source": [
    "# We must first convert data types to an apples to apples comparison\n",
    "# Adding a string and number into a float\n",
    "float(\"2.0\") + 3"
   ]
  },
  {
   "cell_type": "code",
   "execution_count": null,
   "metadata": {
    "collapsed": true
   },
   "outputs": [],
   "source": [
    "# Combining a string with a number into a concatenated string\n",
    "\"the number is \" + str(3)"
   ]
  },
  {
   "cell_type": "markdown",
   "metadata": {},
   "source": [
    "### 3.2 Multiplication\n",
    "\n",
    "Numbers can be multipled and strings can be repeated with the '*' signs\n"
   ]
  },
  {
   "cell_type": "code",
   "execution_count": null,
   "metadata": {
    "collapsed": true
   },
   "outputs": [],
   "source": [
    "x = 2\n",
    "y = 3\n",
    "\n",
    "print(2 * 3)\n",
    "print(x * 3)\n",
    "print(x * y)\n",
    "print(x * x * x)"
   ]
  },
  {
   "cell_type": "code",
   "execution_count": null,
   "metadata": {
    "collapsed": true
   },
   "outputs": [],
   "source": [
    "# Remember, different data types can not be combined without converting\n",
    "# This will print the string 2 times, not multiply\n",
    "print(\"Repeat this string\" * 2)\n",
    "print(\"2.0\" * 2)\n",
    "\n",
    "# This will multiply\n",
    "print(float(\"2.0\") * 2)"
   ]
  },
  {
   "cell_type": "markdown",
   "metadata": {},
   "source": [
    "### 3.3 Division\n",
    "\n",
    "Numbers can be divided with the '/' sign"
   ]
  },
  {
   "cell_type": "code",
   "execution_count": null,
   "metadata": {
    "collapsed": true
   },
   "outputs": [],
   "source": [
    "x = 4\n",
    "y = 3\n",
    "\n",
    "print(4 / 3)\n",
    "print(x / 3)\n",
    "print(x / y)"
   ]
  },
  {
   "cell_type": "code",
   "execution_count": 5,
   "metadata": {},
   "outputs": [
    {
     "name": "stdout",
     "output_type": "stream",
     "text": [
      "1.3333333333333333\n",
      "1\n"
     ]
    }
   ],
   "source": [
    "# In Python 3.x, as we saw above an integer / integer returns a float (when required)\n",
    "# In Python 2.x however, an integer / integer would always return an integer\n",
    "# To emulate this behavior, Python 3 includes a special 'integer division' operation with '//'\n",
    "# You can think of this as 'integer quotient without remainder'\n",
    "print(4 / 3)\n",
    "print(4 // 3)"
   ]
  },
  {
   "cell_type": "markdown",
   "metadata": {},
   "source": [
    "### 3.4 Modulo\n",
    "\n",
    "Modulo finds the remainder after division. Python uses the '%' sign to denote the modulo operation."
   ]
  },
  {
   "cell_type": "code",
   "execution_count": null,
   "metadata": {
    "collapsed": true
   },
   "outputs": [],
   "source": [
    "x = 11\n",
    "y = 3\n",
    "# 11 divided by 3 is equal to 3 with a remainder of 2\n",
    "\n",
    "print(11 % 3)\n",
    "print(x % 3)\n",
    "print(x % y)"
   ]
  },
  {
   "cell_type": "code",
   "execution_count": null,
   "metadata": {
    "collapsed": true
   },
   "outputs": [],
   "source": [
    "# Integer division and modulo make a powerful combination.\n",
    "# Sometimes you want to know both how many times a number evenly fits into another and its leftover.\n",
    "\n",
    "print(\"5 goes into 19 \" + str(19 // 5) + \" full times, with a remainder of \" + str(19 % 5))"
   ]
  },
  {
   "cell_type": "markdown",
   "metadata": {},
   "source": [
    "### 3.5 Exponents\n",
    "\n",
    "Raising to powers uses a double asterisk '**'"
   ]
  },
  {
   "cell_type": "code",
   "execution_count": null,
   "metadata": {
    "collapsed": true
   },
   "outputs": [],
   "source": [
    "x = 4\n",
    "\n",
    "# Squared\n",
    "print(x ** 2)\n",
    "\n",
    "# Cubed\n",
    "print(x ** 3)\n",
    "\n",
    "# Square root\n",
    "print(x ** .5)\n",
    "\n",
    "# Raised to the 'y' power\n",
    "y = 3\n",
    "print(x ** y)"
   ]
  },
  {
   "cell_type": "markdown",
   "metadata": {},
   "source": [
    "### 3.6 Special Note on Floating Number Math in Computer Science"
   ]
  },
  {
   "cell_type": "code",
   "execution_count": 6,
   "metadata": {},
   "outputs": [
    {
     "name": "stdout",
     "output_type": "stream",
     "text": [
      "0.21000000000000002\n"
     ]
    }
   ],
   "source": [
    "# What do you think will return when we divide 2.1 by 10?\n",
    "print(2.1 /10)"
   ]
  },
  {
   "cell_type": "markdown",
   "metadata": {},
   "source": [
    "This answer probably looks strange to you. The reason for the (very) tiny imprecision is highly technical, but boils down to the mechanics of how computers work- while in math there are infinite decimal numbers between 0 and 1, computers have finite resources, and must use a finite set of binary encodings to represent an infinite range of numbers. Obviously infinite possibilities can't all be expressed on a 1:1 basis by a set of finite options, so some tradeoff in precision must be made, with finite values representing specific ranges of infinite numbers. This is imprecise but without it there'd be no way to represent all possible floats with binary encoding.\n",
    "\n",
    "This 'limitation' is inherent to any and all computer representations of numbers, and is not unique to Python. For a much more detailed explanation you can read about it here:\n",
    "https://en.wikipedia.org/wiki/Floating-point_arithmetic\n",
    "\n",
    "But for a simple example we can look at a how these numbers are stored by the computer:"
   ]
  },
  {
   "cell_type": "code",
   "execution_count": null,
   "metadata": {
    "collapsed": true
   },
   "outputs": [],
   "source": [
    "# In math, these two calculations are identical\n",
    "print(2.2 * 3.0)\n",
    "print(2.0 * 3.3)\n",
    "\n",
    "# But because of how float arithmetic works in computer science, to the computer they are two different\n",
    "# hex decimal values, representing two different ranges of infinite values\n",
    "print(float.hex(2.2 * 3.0))\n",
    "print(float.hex(2.0 * 3.3))"
   ]
  },
  {
   "cell_type": "markdown",
   "metadata": {},
   "source": [
    "There are two important things to keep in mind about floating variables in Python 3:\n",
    "1. Due to above imprecision, remember that not every number or calculation result can be exactly represented as a float (infinite possibilties can't be expressed by a set of finite options). Since Python considers y / 10 as NOT equal to .21, you must be careful about comparing between values that are calculated with floats, as that can cause issues which are frustrating to debug\n",
    "2. Remember that while Python 3 automatically returns a float when an integer is divided by another integer, ie 3 / 10 = .3, be aware that in earlier version of Python 2.x, math with integers would always return an integer solution. Ie. in Python 2.x (NOT Python 3), 3 / 10 = 0, but 3.0 / 10 = .3"
   ]
  },
  {
   "cell_type": "markdown",
   "metadata": {},
   "source": [
    "## 4.0 Conditionals and Logic Statements\n",
    "\n",
    "Logic, such as if statements which trigger when conditions are True or False is a useful tool for tailoring applications to different situations."
   ]
  },
  {
   "cell_type": "markdown",
   "metadata": {},
   "source": [
    "### 4.1 Equivalence\n",
    "\n",
    "In Python one '=' sign is used to assign a value to a variable, while two signs '==' is used to check for equivalence."
   ]
  },
  {
   "cell_type": "code",
   "execution_count": null,
   "metadata": {
    "collapsed": true
   },
   "outputs": [],
   "source": [
    "# This assigns the value of 5 to x\n",
    "x = 5\n",
    "# This checks if x is equal to 5\n",
    "print(x == 5)\n",
    "# This checks if x is equal to 3\n",
    "print(x == 3)"
   ]
  },
  {
   "cell_type": "markdown",
   "metadata": {},
   "source": [
    "We can also use the following signs for checking various other equivalances (or the lack thereof):\n",
    "* Greater Than >\n",
    "* Less Than <\n",
    "* Greater Than or Equal >=\n",
    "* Less than or Equal <=\n",
    "* Not Equal !="
   ]
  },
  {
   "cell_type": "code",
   "execution_count": null,
   "metadata": {
    "collapsed": true
   },
   "outputs": [],
   "source": [
    "print(x > 3)\n",
    "print(x < 5.1)\n",
    "print(x >= 5)\n",
    "print(x <= 5)\n",
    "print(x != 5.1)"
   ]
  },
  {
   "cell_type": "markdown",
   "metadata": {},
   "source": [
    "These also work for strings"
   ]
  },
  {
   "cell_type": "code",
   "execution_count": 7,
   "metadata": {},
   "outputs": [
    {
     "name": "stdout",
     "output_type": "stream",
     "text": [
      "True\n",
      "True\n"
     ]
    }
   ],
   "source": [
    "str1 = 'This is a string'\n",
    "str2 = 'This is a string'\n",
    "str3 = 'This is a different string'\n",
    "\n",
    "print(str1 == str2)\n",
    "print(str3 != str1)"
   ]
  },
  {
   "cell_type": "markdown",
   "metadata": {},
   "source": [
    "### 4.2 And/Or\n",
    "\n",
    "Python also has logic for compound conditional statements, where multiple statements must be true (and), or any one statement must be true (or). The syntax is very simple in Python, you just use the plain english phrases 'and' and 'or' in your code. Remember:\n",
    "\n",
    "* True AND True = True\n",
    "* True AND False = False\n",
    "* False AND True = False\n",
    "* False AND False = False\n",
    "\n",
    "\n",
    "* True OR True = True\n",
    "* True OR False = True\n",
    "* False OR True = True\n",
    "* False OR False = False"
   ]
  },
  {
   "cell_type": "code",
   "execution_count": 8,
   "metadata": {},
   "outputs": [
    {
     "name": "stdout",
     "output_type": "stream",
     "text": [
      "True\n",
      "False\n",
      "True\n",
      "False\n"
     ]
    }
   ],
   "source": [
    "x = 5\n",
    "y = 3\n",
    "print(x == 5 and y > 2)\n",
    "print(x == 0 and y > 2)\n",
    "print(x == 0 or y > 2)\n",
    "print(x < 5 or y > 3)"
   ]
  },
  {
   "cell_type": "markdown",
   "metadata": {},
   "source": [
    "### 4.3 Booleans\n",
    "\n",
    "While not a standard 'data type', Python variables can also represent states of 'True' or 'False'."
   ]
  },
  {
   "cell_type": "code",
   "execution_count": null,
   "metadata": {
    "collapsed": true
   },
   "outputs": [],
   "source": [
    "x = True\n",
    "y = 3 < 0\n",
    "print(x)\n",
    "print(y)"
   ]
  },
  {
   "cell_type": "code",
   "execution_count": null,
   "metadata": {
    "collapsed": true
   },
   "outputs": [],
   "source": [
    "print(x and y)\n",
    "print(x or y)"
   ]
  },
  {
   "cell_type": "markdown",
   "metadata": {},
   "source": [
    "### 4.4 'If' Statements\n",
    "\n",
    "If Statements are vital parts of any programming language, in Python their structure is very simple:\n",
    "\n",
    "if (condition):\n",
    "\n",
    "    (what to do if condition is true)"
   ]
  },
  {
   "cell_type": "code",
   "execution_count": null,
   "metadata": {
    "collapsed": true
   },
   "outputs": [],
   "source": [
    "x = 4\n",
    "if x > 3:\n",
    "    print('x is greater than 3')"
   ]
  },
  {
   "cell_type": "markdown",
   "metadata": {},
   "source": [
    "This is fine, but what if we want to check multiple conditions? That's where 'elif' comes in, bascially 'else if'- meaning if the above conditions have been false, evaluate the 'else if' condition:"
   ]
  },
  {
   "cell_type": "code",
   "execution_count": 9,
   "metadata": {},
   "outputs": [
    {
     "name": "stdout",
     "output_type": "stream",
     "text": [
      "x is smaller than 3\n"
     ]
    }
   ],
   "source": [
    "x = 2\n",
    "if x > 3:\n",
    "    print('x is greater than 3')\n",
    "elif x == 3:\n",
    "    print('x is equal to 3')\n",
    "elif x < 3:\n",
    "    print('x is smaller than 3')"
   ]
  },
  {
   "cell_type": "markdown",
   "metadata": {},
   "source": [
    "We can keep adding 'elif' checks all we want, but if we want a 'catch-all' type check, we can simply use 'else'.\n",
    "\n",
    "For our if statement so far we have checked if x if greater than 3 and then checked if its equal to 3. Only one possibility remains, that x is less than 3. Since we know that, we don't need to write a second 'elif' to check whether x is less than 3, we already know it must be:"
   ]
  },
  {
   "cell_type": "code",
   "execution_count": null,
   "metadata": {
    "collapsed": true
   },
   "outputs": [],
   "source": [
    "# You could write it this way, but the downside is you have another check when you don't need one...\n",
    "x = 2\n",
    "if x > 3:\n",
    "    print('x is greater than 3')\n",
    "elif x == 3:\n",
    "    print('x is equal to 3')\n",
    "elif x < 3:\n",
    "    print('x is less than 3')"
   ]
  },
  {
   "cell_type": "code",
   "execution_count": null,
   "metadata": {
    "collapsed": true
   },
   "outputs": [],
   "source": [
    "# Alternatively, using else, we could write the same if statement as...\n",
    "x = 2\n",
    "if x > 3:\n",
    "    print('x is greater than 3')\n",
    "elif x == 3:\n",
    "    print('x is equal to 3')\n",
    "else:\n",
    "    print('x is less than 3')\n",
    "    \n",
    "# If the first 'if' and all 'elif' are false, the else will return no matter what"
   ]
  },
  {
   "cell_type": "code",
   "execution_count": null,
   "metadata": {
    "collapsed": true
   },
   "outputs": [],
   "source": [
    "# These examples may seem simple, but we can combine booleans and 'and/or' to make sophisticated logic checks\n",
    "\n",
    "x = 3\n",
    "y = 2\n",
    "z = True\n",
    "if x > 0 and y >= 2 and x != y and x * y < 10 and z:\n",
    "    print('All conditions met')\n",
    "elif x <= 0:\n",
    "    print('x is too small')\n",
    "elif y < 2:\n",
    "    print('y is too small')\n",
    "elif x == y:\n",
    "    print('x and y are equal')\n",
    "elif z != True:\n",
    "    print('z is false')\n",
    "else:\n",
    "    print('the product of x and y is too large')"
   ]
  },
  {
   "cell_type": "markdown",
   "metadata": {},
   "source": [
    "## In Class Activity #1 - Multiples Check\n",
    "\n",
    "Using what we have just covered, can you write an if statement that checks whether x is a multiple of both 3 and 5? For example 9 is a multiple is 3 but not 5, 10 is a multiple of 5 but not 3. 15, is a multiple of both 3 and 5.\n",
    "\n",
    "Hint: What is true when a number is an even multiple of another number? How can that be expressed mathematically?"
   ]
  },
  {
   "cell_type": "code",
   "execution_count": 11,
   "metadata": {},
   "outputs": [
    {
     "name": "stdout",
     "output_type": "stream",
     "text": [
      "False\n"
     ]
    }
   ],
   "source": [
    "x = 14\n",
    "\n",
    "if (x % 3 == 0 and x % 5 == 0):\n",
    "    print(True)\n",
    "else:\n",
    "    print(False)"
   ]
  },
  {
   "cell_type": "markdown",
   "metadata": {},
   "source": [
    "## In Class Activity #2 - Equivalence Check\n",
    "\n",
    "Remember from earlier that in Python the numbers .21 and 2.1/10 are not considered the exact same. In fact, an equivalence check will demonstrate this:"
   ]
  },
  {
   "cell_type": "code",
   "execution_count": 15,
   "metadata": {},
   "outputs": [
    {
     "name": "stdout",
     "output_type": "stream",
     "text": [
      "0.21\n",
      "0.21000000000000002\n",
      "True\n"
     ]
    }
   ],
   "source": [
    "x = .21\n",
    "y = 2.1/10\n",
    "threshold = 0.0000000001\n",
    "print(str(x))\n",
    "print(str(y))\n",
    "print(abs(x-y) < threshold)"
   ]
  },
  {
   "cell_type": "markdown",
   "metadata": {},
   "source": [
    "Can you think of a better way to test for equivalence between two floats? Try coding it below.\n",
    "\n",
    "Hint: What is true when two numbers are exactly equivalent? How can that be expressed mathematically? Even if you can't get an exact check, how can you check for approximate equivalence?"
   ]
  },
  {
   "cell_type": "code",
   "execution_count": 17,
   "metadata": {},
   "outputs": [
    {
     "name": "stdout",
     "output_type": "stream",
     "text": [
      "False\n"
     ]
    }
   ],
   "source": [
    "x = .21\n",
    "y = 2.2/10\n",
    "threshold = 0.0000000001\n",
    "\n",
    "if (abs(x - y) < threshold):\n",
    "    print(True)\n",
    "else:\n",
    "    print(False)"
   ]
  },
  {
   "cell_type": "markdown",
   "metadata": {},
   "source": [
    "## 5.0 Loops\n",
    "\n",
    "Loops are a fundamental programming concept, they let us repeat certain actions in order to apply the same calculations to multiple numbers, continually update values, parse through groups of data and more.\n",
    "\n",
    "There are three kinds of loops:\n",
    "* For Loops - Run from a starting point to a clear, predefined ending point. Ex. For each and every item in a list go through and do something.\n",
    "* While Loops - Begin running when something is true, and continue running as long as that condition remains true (it may not be known how long the condition will remain true). Ex. While there is unprocessed data, continue processing\n",
    "* Recursive Loops - Self calling functions (we'll get into these later)\n",
    "\n",
    "For now we'll focus on For and While Loops"
   ]
  },
  {
   "cell_type": "markdown",
   "metadata": {},
   "source": [
    "###### Note: Be careful of getting stuck in infinite loops (especially easy with While Loops). These are loops that keep running forever, usually because the programmer miscodes the condition that ends the loop. If you get stuck in one, remember to go to Kerel > Restart"
   ]
  },
  {
   "cell_type": "markdown",
   "metadata": {},
   "source": [
    "### 5.1 For Loops - run from a starting point to a clear ending "
   ]
  },
  {
   "cell_type": "code",
   "execution_count": 20,
   "metadata": {},
   "outputs": [
    {
     "ename": "TypeError",
     "evalue": "unsupported operand type(s) for +: 'range' and 'int'",
     "output_type": "error",
     "traceback": [
      "\u001b[1;31m---------------------------------------------------------------------------\u001b[0m",
      "\u001b[1;31mTypeError\u001b[0m                                 Traceback (most recent call last)",
      "\u001b[1;32m<ipython-input-20-b1480c8eebff>\u001b[0m in \u001b[0;36m<module>\u001b[1;34m()\u001b[0m\n\u001b[0;32m      1\u001b[0m \u001b[0mx\u001b[0m \u001b[1;33m=\u001b[0m \u001b[1;36m5\u001b[0m\u001b[1;33m\u001b[0m\u001b[0m\n\u001b[1;32m----> 2\u001b[1;33m \u001b[1;32mfor\u001b[0m \u001b[0mi\u001b[0m \u001b[1;32min\u001b[0m \u001b[1;33m(\u001b[0m\u001b[0mrange\u001b[0m\u001b[1;33m(\u001b[0m\u001b[0mx\u001b[0m\u001b[1;33m)\u001b[0m \u001b[1;33m+\u001b[0m \u001b[1;36m1\u001b[0m\u001b[1;33m)\u001b[0m\u001b[1;33m:\u001b[0m\u001b[1;33m\u001b[0m\u001b[0m\n\u001b[0m\u001b[0;32m      3\u001b[0m     \u001b[0mprint\u001b[0m\u001b[1;33m(\u001b[0m\u001b[0mi\u001b[0m\u001b[1;33m)\u001b[0m\u001b[1;33m\u001b[0m\u001b[0m\n",
      "\u001b[1;31mTypeError\u001b[0m: unsupported operand type(s) for +: 'range' and 'int'"
     ]
    }
   ],
   "source": [
    "x = 5\n",
    "for i in (range(x) + 1):\n",
    "    print(i)"
   ]
  },
  {
   "cell_type": "code",
   "execution_count": null,
   "metadata": {
    "collapsed": true
   },
   "outputs": [],
   "source": [
    "y = 'Strings can be looped through too'\n",
    "for char in y:\n",
    "    if char == 'a' or char =='e' or char == 'i' or char == 'o' or char =='u':\n",
    "        print(char)"
   ]
  },
  {
   "cell_type": "markdown",
   "metadata": {},
   "source": [
    "### 5.2 While Loops - run for as long as a certain condition is True."
   ]
  },
  {
   "cell_type": "code",
   "execution_count": null,
   "metadata": {
    "collapsed": true
   },
   "outputs": [],
   "source": [
    "# Since unlike For loops to ending point or range is not directly specified when first called, they need to include\n",
    "# A specific way to eventually change their condition to False, otherwise you will get stuck in an infitinite loop!\n",
    "\n",
    "student_knows_ML_basics = False\n",
    "class_weeks = 0\n",
    "\n",
    "while student_knows_ML_basics == False:\n",
    "    class_weeks += 1\n",
    "    if class_weeks == 6:\n",
    "        # If this was removed, the while loop would never stop since student_knows_ML_basics would be False forever\n",
    "        student_knows_ML_basics = True\n",
    "    # This print is inside the while, so it will trigger each loop\n",
    "    print(class_weeks)\n",
    "    \n",
    "# Note that these are outside the While, and thus will only execute after the entire While Loop has finished running\n",
    "print(student_knows_ML_basics)\n",
    "print(class_weeks)"
   ]
  },
  {
   "cell_type": "markdown",
   "metadata": {},
   "source": [
    "## In Class Activity #3 - Loops and Conditionals\n",
    "\n",
    "Using what we have just covered, can you create a loop that prints out only even numbers between 1 and 10?\n",
    "\n",
    "Hint: Break this down into smaller chunks: a) go through numbers 1 to 10, b) check if even and print. If you feel confused, try doing part 'b' first, without worrying about the loop."
   ]
  },
  {
   "cell_type": "code",
   "execution_count": 22,
   "metadata": {},
   "outputs": [
    {
     "name": "stdout",
     "output_type": "stream",
     "text": [
      "2\n",
      "4\n",
      "6\n",
      "8\n",
      "10\n"
     ]
    }
   ],
   "source": [
    "x = 10\n",
    "\n",
    "for i in range(1, x + 1):\n",
    "    if (i % 2 == 0):\n",
    "        print(i)"
   ]
  },
  {
   "cell_type": "markdown",
   "metadata": {},
   "source": [
    "## 6.0 Functions\n",
    "\n",
    "Functions are the bread and butter of programming. They allow you to make repeatable, customizable processes that you can execute on demand on dynamic inputs. Functions allow us to make our code flexible such that we don't need to hardcode values, taking in a preset type of number of inputs, executing precoded logic on those inputs, and returning outputs.\n",
    "\n",
    "#### Anatomy of a function:\n",
    "\n",
    "def function_name(inputs):\n",
    "\n",
    "    [logic to execute]\n",
    "    \n",
    "    return [outputs]\n",
    "    \n",
    "#### Everyday Example\n",
    "\n",
    "You can think of swiping your Octopus card paying for the MTR as triggering a function.\n",
    "\n",
    "You swipe your card to trigger the function with a certain input (card balance and distance travelled taken as input), logic is run (calculate cost based on distance travelled, subtract cost from balance, open turnstile doors, etc), and an output is returned (new balance on card).\n",
    "\n",
    "Let's try writing that function now:"
   ]
  },
  {
   "cell_type": "code",
   "execution_count": 24,
   "metadata": {
    "collapsed": true
   },
   "outputs": [],
   "source": [
    "def mtr(balance, cost):\n",
    "    open_turnstile = False\n",
    "    if balance > 0 and balance - cost > -50:\n",
    "        open_turnstile = True\n",
    "        return balance - cost, open_turnstile\n",
    "    else:\n",
    "        return 'Insufficient Fare', open_turnstile"
   ]
  },
  {
   "cell_type": "code",
   "execution_count": 25,
   "metadata": {},
   "outputs": [
    {
     "data": {
      "text/plain": [
       "(7, True)"
      ]
     },
     "execution_count": 25,
     "metadata": {},
     "output_type": "execute_result"
    }
   ],
   "source": [
    "# We have defined the function above, but we haven't executed, run, or triggered it.\n",
    "# It's ready to run, all it needs is for us to call it with specific inputs\n",
    "\n",
    "mtr(12,5)"
   ]
  },
  {
   "cell_type": "markdown",
   "metadata": {},
   "source": [
    "## In Class Activity #4 - Simple Function\n",
    "\n",
    "Why do functions matter, why would we want to use them? Remember early when we printed out how many times 5 goes into 19 evenly, and the remainder? Imagine this was something we needed to do frequently but with different numbers.\n",
    "\n",
    "For example, imagine someone is buying 7 HKD bottles of water and pays us with a 20 HKD bill, we need to calculate how many bottles of water to give them, and how much change to return:"
   ]
  },
  {
   "cell_type": "code",
   "execution_count": null,
   "metadata": {
    "collapsed": true
   },
   "outputs": [],
   "source": [
    "print(\"$20 can buy \" + str(20 // 7) + \" bottles of water at 7 HKD each, with \" + str(20 % 7) +\" HKD in change.\")"
   ]
  },
  {
   "cell_type": "markdown",
   "metadata": {
    "collapsed": true
   },
   "source": [
    "Imagine we run a store though, and this calculation is something we need to do again and again and again for various different costs of items and different payments recieved. If we write a function we can just call the function with different inputs each time, rather than have to write the entire code above for every possible combination of payments and item costs.\n",
    "\n",
    "Hint: Use the above example as a starting place. For the first step, how would you make it general so that it can incorporate variables with value rather than hard coded numbers like 20 and 7. Once you have that, ask yourself where the values for these variables come from..."
   ]
  },
  {
   "cell_type": "code",
   "execution_count": 2,
   "metadata": {},
   "outputs": [
    {
     "name": "stdout",
     "output_type": "stream",
     "text": [
      "$20 can buy 5 bottles of water at 4 HKD each, with 0 HKD in change.\n"
     ]
    }
   ],
   "source": [
    "# Your function should print something in the form of:\n",
    "# $20 can buy 2 bottles of water at 7 HKD each, with 6 HKD in change.\n",
    "def processPayment(moneyOnHand, costPerBottle):\n",
    "    print(\"$\" + str(moneyOnHand) + \" can buy \" + str(moneyOnHand // costPerBottle) + \" bottles of water at \" + str(costPerBottle) + \" HKD each, with \" + str(moneyOnHand % costPerBottle) +\" HKD in change.\")\n",
    "    \n",
    "processPayment(20, 4)"
   ]
  },
  {
   "cell_type": "markdown",
   "metadata": {},
   "source": [
    "\n",
    "## In Class Activity #5 - Nesting Functions\n",
    "\n",
    "Imagine we want a seperate function to first see if a payment amount is enough, and to only process the sale with our processPayments function if the payment is first enough (ie is the payment at least enough to buy 1 of the item based on item cost). This could all be lumped into one function, but that's not always the best thing to do, and for now try and make it two different functions.\n",
    "\n",
    "This requires writing a new, paymentCheck function and rewriting our processPayment function"
   ]
  },
  {
   "cell_type": "code",
   "execution_count": 12,
   "metadata": {},
   "outputs": [
    {
     "data": {
      "text/plain": [
       "'Sorry, you do not have enough money.'"
      ]
     },
     "execution_count": 12,
     "metadata": {},
     "output_type": "execute_result"
    }
   ],
   "source": [
    "def paymentCheck(money, cost):\n",
    "    if (money >= cost):\n",
    "        return True\n",
    "    else:\n",
    "        return False\n",
    "\n",
    "# Now you can add a call to paymentCheck inside your processPayment function:\n",
    "\n",
    "def processPayment(money, cost):\n",
    "    # for example:\n",
    "    if paymentCheck(money, cost):\n",
    "    # will call function inside processPayment and you can use its returned value to add to processPayment's own logic\n",
    "        return (\"$\" + str(money) + \" can buy \" + str(money // cost) + \" bottles of water at \" + str(cost) + \" HKD each, with \" + str(money % cost) +\" HKD in change.\")\n",
    "    else:\n",
    "        return (\"Sorry, you do not have enough money.\")\n",
    "\n",
    "processPayment(4, 7)\n"
   ]
  },
  {
   "cell_type": "markdown",
   "metadata": {},
   "source": [
    "# 7.0 Groups of Values - Lists, Tuples, and Dictionaries"
   ]
  },
  {
   "cell_type": "markdown",
   "metadata": {},
   "source": [
    "### Remember earlier we looked at the 5 data types in Python 3 and skipped groups of values, now it's time to revisit them...\n",
    "\n",
    "#### Simple Data Types (Single Values)\n",
    "* Numbers - any number ex. 1, 0, 3.14, .9999, etc.\n",
    "* Strings - sets of  characters ex. \"Hello World\" or \"5.0\"\n",
    "\n",
    "#### Complex Data Types (Groups of Values)\n",
    "* Lists - a list of other elements, very similar to what other languages call 'arrays' or 'hashes' ex. [1,2,3]\n",
    "\n",
    "* Tuples - identical to lists except while 'lists' can be changed, once created tuples can not be changed, 'read-only' lists ex. (1,2,3)\n",
    "\n",
    "* Dictionary - as the name implies, dictionaries have lookup terms or 'keys', and definitions or 'values' assigned to each key. Very similar to what other languages refer to as 'key-value pairs', 'objects', or 'maps'. ex. dict = {'class_name': 'Foundations', 'class_number': 101}\n",
    "\n",
    "### These are nothing new or fancy, they are each just combinations (groups) of simple data types"
   ]
  },
  {
   "cell_type": "markdown",
   "metadata": {},
   "source": [
    "## 7.1 Lists\n",
    "\n",
    "Lists, as their name implies, are just lists or collections of values such as a list of ID numbers, names, etc.\n",
    "\n",
    "Lists are indicated by beginning with '[' and ending with ']' brackets, and each item within them is seperated by a comma ','. "
   ]
  },
  {
   "cell_type": "code",
   "execution_count": null,
   "metadata": {
    "collapsed": true
   },
   "outputs": [],
   "source": [
    "x = []\n",
    "\n",
    "# x is now an empty list\n",
    "\n",
    "y = [1,3,5,7,11,13,17]\n",
    "\n",
    "# y is now a list of 7 different numbers\n",
    "\n",
    "z = [\"this\",\"is\",\"a\",\"list\",\"of\",\"strings\"]\n",
    "\n",
    "# z is now a list of strings"
   ]
  },
  {
   "cell_type": "code",
   "execution_count": null,
   "metadata": {
    "collapsed": true
   },
   "outputs": [],
   "source": [
    "# The ordering of lists is important/remembered by the computer. Each item in a list has a coordinate value\n",
    "# The first item in the list is at the '0' index position\n",
    "\n",
    "example_list = [\"item 1\",\"item 2\",\"item 3\",\"item 4\",\"item n\"]\n",
    "#index position:   0        1        2        3        n-1"
   ]
  },
  {
   "cell_type": "code",
   "execution_count": null,
   "metadata": {
    "collapsed": true
   },
   "outputs": [],
   "source": [
    "# Index positions matter because they can be used to grab item(s) based on their position in the list\n",
    "\n",
    "# Grab a single item with [position]\n",
    "print(z[0])\n",
    "print(z[1])\n",
    "print(z[2])\n",
    "\n",
    "# Grab multiple values with [start_position:end_position] (note doesn't include end position)\n",
    "print(z[0:2])"
   ]
  },
  {
   "cell_type": "code",
   "execution_count": null,
   "metadata": {
    "collapsed": true
   },
   "outputs": [],
   "source": [
    "# Let's say you wanted to get the last item of a list, but don't know for sure how long the list is\n",
    "\n",
    "# You can use len() to get the length of an array:\n",
    "print(len(z))\n",
    "\n",
    "# And use it to return last item...\n",
    "print(z[len(z)-1])\n",
    "\n",
    "# Or index positions actually go from -len(z) to len(z) - 1, so using -1 index position returns last item in list:\n",
    "print(z[-1])"
   ]
  },
  {
   "cell_type": "code",
   "execution_count": null,
   "metadata": {
    "collapsed": true
   },
   "outputs": [],
   "source": [
    "# Lists, like simple varaibles, can be changed, edited, or updated.\n",
    "\n",
    "# By combining index reference with variable assignment, we can change a given item in list\n",
    "print(z)\n",
    "z[0] = \"changed!\"\n",
    "print(z)\n",
    "z[0] = \"this\"\n",
    "print(z)"
   ]
  },
  {
   "cell_type": "code",
   "execution_count": null,
   "metadata": {
    "collapsed": true
   },
   "outputs": [],
   "source": [
    "# New items can also be added to lists\n",
    "\n",
    "print(z)\n",
    "\n",
    "# Append adds item to end of list\n",
    "z.append(\"new_append\")\n",
    "print(z)\n",
    "\n",
    "# Insert adds item to a given index position\n",
    "z.insert(0, \"new_at_position_0\")\n",
    "print(z)\n",
    "\n",
    "z.insert(4, \"new_at_position_4\")\n",
    "print(z)"
   ]
  },
  {
   "cell_type": "code",
   "execution_count": null,
   "metadata": {
    "collapsed": true
   },
   "outputs": [],
   "source": [
    "# Items can also be deleted/removed from lists\n",
    "\n",
    "# Removes - removes an item BASED ON ITS VALUE not its position. It removes the FIRST matching value\n",
    "z.remove(\"new_at_position_4\")\n",
    "print(z)"
   ]
  },
  {
   "cell_type": "code",
   "execution_count": null,
   "metadata": {
    "collapsed": true
   },
   "outputs": [],
   "source": [
    "# Del - removes an item BASED ON ITS INDEX POSITION not its value\n",
    "del z[-1]\n",
    "print(z)"
   ]
  },
  {
   "cell_type": "code",
   "execution_count": null,
   "metadata": {
    "collapsed": true
   },
   "outputs": [],
   "source": [
    "# Pop - the same as del, except in addition to removing item it also seperately RETURNS THE REMOVED VALUE\n",
    "\n",
    "print(z.pop(0))\n",
    "print(z)"
   ]
  },
  {
   "cell_type": "markdown",
   "metadata": {},
   "source": [
    "## 7.2 Tuples\n",
    "\n",
    "Tuples are virtually identical to lists, with the MAJOR difference than tuples are 'immutable,' meaning they can not be changed, edited, or modified in any way. You can think of Tuples as READ-ONLY Lists.\n",
    "\n",
    "Like lists, items are seperated by commas ',' and are contained with '(' starting and ')' ending"
   ]
  },
  {
   "cell_type": "code",
   "execution_count": 13,
   "metadata": {},
   "outputs": [
    {
     "name": "stdout",
     "output_type": "stream",
     "text": [
      "tuple\n",
      "('this', 'is', 'a')\n"
     ]
    }
   ],
   "source": [
    "example_tuple = ('this','is','a','tuple')\n",
    "\n",
    "# We can still reference items by index position, just like a list\n",
    "print(example_tuple[3])\n",
    "print(example_tuple[0:3])"
   ]
  },
  {
   "cell_type": "code",
   "execution_count": 14,
   "metadata": {},
   "outputs": [
    {
     "ename": "TypeError",
     "evalue": "'tuple' object does not support item assignment",
     "output_type": "error",
     "traceback": [
      "\u001b[1;31m---------------------------------------------------------------------------\u001b[0m",
      "\u001b[1;31mTypeError\u001b[0m                                 Traceback (most recent call last)",
      "\u001b[1;32m<ipython-input-14-4b51ebbb4dcf>\u001b[0m in \u001b[0;36m<module>\u001b[1;34m()\u001b[0m\n\u001b[0;32m      1\u001b[0m \u001b[1;31m# But we can not make changes to it, including changing its current item values...\u001b[0m\u001b[1;33m\u001b[0m\u001b[1;33m\u001b[0m\u001b[0m\n\u001b[1;32m----> 2\u001b[1;33m \u001b[0mexample_tuple\u001b[0m\u001b[1;33m[\u001b[0m\u001b[1;36m0\u001b[0m\u001b[1;33m]\u001b[0m \u001b[1;33m=\u001b[0m \u001b[1;34m'new_value'\u001b[0m\u001b[1;33m\u001b[0m\u001b[0m\n\u001b[0m",
      "\u001b[1;31mTypeError\u001b[0m: 'tuple' object does not support item assignment"
     ]
    }
   ],
   "source": [
    "# But we can not make changes to it, including changing its current item values...\n",
    "example_tuple[0] = 'new_value'"
   ]
  },
  {
   "cell_type": "code",
   "execution_count": null,
   "metadata": {
    "collapsed": true
   },
   "outputs": [],
   "source": [
    "# ...removing its current items...\n",
    "del example_tuple[0]"
   ]
  },
  {
   "cell_type": "code",
   "execution_count": null,
   "metadata": {
    "collapsed": true
   },
   "outputs": [],
   "source": [
    "# or even adding new items.\n",
    "\n",
    "example_tuple.append('new_item')"
   ]
  },
  {
   "cell_type": "markdown",
   "metadata": {},
   "source": [
    "## 7.3 Dictionaries\n",
    "\n",
    "Lists and tuples both store values which are remembered in certain positions. Ie the first item has index position 0, the nth item index position n-1.\n",
    "\n",
    "Unlike lists and tuples though, Dictionaries store values based on 'keys' rather than index position. Just like their name implies, Dictionaries have a lookup term called the 'key', and an associated definition to the lookup term called the 'value'."
   ]
  },
  {
   "cell_type": "code",
   "execution_count": null,
   "metadata": {
    "collapsed": true
   },
   "outputs": [],
   "source": [
    "teacher_list =[\"dhruv\",\"matt\"]\n",
    "# index position:  0      1\n",
    "\n",
    "teacher_dictionary= {'instructor1': 'Dhruv', 'instructor2': 'Matt'}\n",
    "# no index positions, keys are used instead\n",
    "\n",
    "print(teacher_list[1])\n",
    "print(teacher_dictionary['instructor2'])"
   ]
  },
  {
   "cell_type": "code",
   "execution_count": 16,
   "metadata": {},
   "outputs": [
    {
     "data": {
      "text/plain": [
       "3"
      ]
     },
     "execution_count": 16,
     "metadata": {},
     "output_type": "execute_result"
    }
   ],
   "source": [
    "# Dictionaries have lengths, ie. the number of key-value pairs stored...\n",
    "len(teacher_dictionary)"
   ]
  },
  {
   "cell_type": "code",
   "execution_count": 17,
   "metadata": {},
   "outputs": [
    {
     "ename": "KeyError",
     "evalue": "0",
     "output_type": "error",
     "traceback": [
      "\u001b[1;31m---------------------------------------------------------------------------\u001b[0m",
      "\u001b[1;31mKeyError\u001b[0m                                  Traceback (most recent call last)",
      "\u001b[1;32m<ipython-input-17-4a62118f8026>\u001b[0m in \u001b[0;36m<module>\u001b[1;34m()\u001b[0m\n\u001b[0;32m      1\u001b[0m \u001b[1;31m# But they DO NOT REMEMBER the positions information is stored.\u001b[0m\u001b[1;33m\u001b[0m\u001b[1;33m\u001b[0m\u001b[0m\n\u001b[1;32m----> 2\u001b[1;33m \u001b[0mprint\u001b[0m\u001b[1;33m(\u001b[0m\u001b[0mteacher_dictionary\u001b[0m\u001b[1;33m[\u001b[0m\u001b[1;36m0\u001b[0m\u001b[1;33m]\u001b[0m\u001b[1;33m)\u001b[0m\u001b[1;33m\u001b[0m\u001b[0m\n\u001b[0m",
      "\u001b[1;31mKeyError\u001b[0m: 0"
     ]
    }
   ],
   "source": [
    "# But they DO NOT REMEMBER the positions information is stored.\n",
    "print(teacher_dictionary[0])"
   ]
  },
  {
   "cell_type": "code",
   "execution_count": null,
   "metadata": {
    "collapsed": true
   },
   "outputs": [],
   "source": [
    "# In a sense, you can link of lists as a special type of dictionaries with sorted key values according to position\n",
    "teacher_dictionary= {0: 'Dhruv', 1: 'Matt'}\n",
    "\n",
    "# Notice key values are now called 0 and 1, essentially every dictionary is able to do what a list can do (and more) \n",
    "print(teacher_dictionary[0])\n",
    "\n",
    "#In reality you should NEVER do this, if you have 'unlabelled' information use a list, if data has labels, use a dict"
   ]
  },
  {
   "cell_type": "code",
   "execution_count": 34,
   "metadata": {},
   "outputs": [
    {
     "name": "stdout",
     "output_type": "stream",
     "text": [
      "{'instructor1': 'Dhruv Sahi', 'instructor2': \"Matt O'Connor\", 'instructor3': 'You?'}\n",
      "Dhruv Sahi\n"
     ]
    }
   ],
   "source": [
    "# Editing dictionary entries is easy\n",
    "teacher_dictionary= {'instructor1': 'Dhruv', 'instructor2': 'Matt'}\n",
    "\n",
    "# 1- Reassign an existing key's value\n",
    "teacher_dictionary['instructor1'] = 'Dhruv Sahi'\n",
    "teacher_dictionary['instructor2'] = \"Matt O'Connor\" # Notice you can interchange single and double quotes for strings\n",
    "\n",
    "# 2- Add a new key value\n",
    "teacher_dictionary['instructor3'] = 'You?'\n",
    "\n",
    "print(teacher_dictionary)\n",
    "print(teacher_dictionary['instructor1'])"
   ]
  },
  {
   "cell_type": "markdown",
   "metadata": {},
   "source": [
    "\n",
    "\n",
    "## 7.4 Loops with Lists, Tuples, and Dictionaries\n",
    "\n",
    "Earlier we worked with some example of loops, looping through simple data types: numbers and strings\n",
    "\n",
    "But groups of data can also be looped through as well"
   ]
  },
  {
   "cell_type": "code",
   "execution_count": 20,
   "metadata": {},
   "outputs": [
    {
     "name": "stdout",
     "output_type": "stream",
     "text": [
      "this\n",
      "is\n",
      "a\n",
      "list\n",
      "5\n"
     ]
    },
    {
     "ename": "TypeError",
     "evalue": "must be str, not int",
     "output_type": "error",
     "traceback": [
      "\u001b[1;31m---------------------------------------------------------------------------\u001b[0m",
      "\u001b[1;31mTypeError\u001b[0m                                 Traceback (most recent call last)",
      "\u001b[1;32m<ipython-input-20-9f0a6aeda7ab>\u001b[0m in \u001b[0;36m<module>\u001b[1;34m()\u001b[0m\n\u001b[0;32m      7\u001b[0m \u001b[1;32mfor\u001b[0m \u001b[0mitem\u001b[0m \u001b[1;32min\u001b[0m \u001b[0mx\u001b[0m\u001b[1;33m:\u001b[0m\u001b[1;33m\u001b[0m\u001b[0m\n\u001b[0;32m      8\u001b[0m     \u001b[0mprint\u001b[0m\u001b[1;33m(\u001b[0m\u001b[0mitem\u001b[0m\u001b[1;33m)\u001b[0m\u001b[1;33m\u001b[0m\u001b[0m\n\u001b[1;32m----> 9\u001b[1;33m     \u001b[0mtemp\u001b[0m \u001b[1;33m=\u001b[0m \u001b[0mtemp\u001b[0m \u001b[1;33m+\u001b[0m \u001b[0mitem\u001b[0m\u001b[1;33m\u001b[0m\u001b[0m\n\u001b[0m\u001b[0;32m     10\u001b[0m \u001b[1;33m\u001b[0m\u001b[0m\n\u001b[0;32m     11\u001b[0m \u001b[0mprint\u001b[0m \u001b[1;33m(\u001b[0m\u001b[0mtemp\u001b[0m\u001b[1;33m)\u001b[0m\u001b[1;33m\u001b[0m\u001b[0m\n",
      "\u001b[1;31mTypeError\u001b[0m: must be str, not int"
     ]
    }
   ],
   "source": [
    "# List\n",
    "x = [\"this\",\"is\",\"a\",\"list\",5]\n",
    "\n",
    "# Python is smart enough to see x is a list and 'item' is in a for statement, it nows to call each thing in x 'item'\n",
    "# We could replace 'item' with anything we wanted to call it thoughemp\n",
    "temp = \"\"\n",
    "for item in x:\n",
    "    print(item)\n",
    "    temp = temp + item\n",
    "    \n",
    "print (temp)"
   ]
  },
  {
   "cell_type": "code",
   "execution_count": null,
   "metadata": {
    "collapsed": true
   },
   "outputs": [],
   "source": [
    "# Tuple\n",
    "y = (\"this\",\"is\",\"a\",\"tuple\")\n",
    "\n",
    "for any_word in y:\n",
    "    print(any_word)"
   ]
  },
  {
   "cell_type": "code",
   "execution_count": null,
   "metadata": {
    "collapsed": true
   },
   "outputs": [],
   "source": [
    "# Dictionary\n",
    "z = {\n",
    "    'teachers': 2,\n",
    "    'students': 10,\n",
    "    'weeks': 6\n",
    "}\n",
    "\n",
    "for i_can_call_this_anything_it_knows_i_mean_each_thing_inside_z in z:\n",
    "    print(i_can_call_this_anything_it_knows_i_mean_each_thing_inside_z)"
   ]
  },
  {
   "cell_type": "code",
   "execution_count": null,
   "metadata": {
    "collapsed": true
   },
   "outputs": [],
   "source": [
    "# Dictionaries - Special Iteration\n",
    "# Since unlike lists and tuples, each dictionary item is really storing 2 pieces of info: lookup key and its value\n",
    "\n",
    "for item in z:\n",
    "    print(item, z[item])\n",
    "\n",
    "# Or, alternatively\n",
    "for key, value in z.items(): # this one is faster\n",
    "    print(key, value)"
   ]
  },
  {
   "cell_type": "markdown",
   "metadata": {},
   "source": [
    "## 7.5 Nested Lists (Lists of Lists)\n",
    "\n",
    "In addition to having lists of simple data types, we can also have lists of lists, or dictionaries with values that are lists, or even other dictionaries...\n",
    "\n",
    "For example, suppose we want to store student/teacher information like first name, last name, ID, etc..."
   ]
  },
  {
   "cell_type": "code",
   "execution_count": 21,
   "metadata": {},
   "outputs": [
    {
     "name": "stdout",
     "output_type": "stream",
     "text": [
      "['Dhruv', 'Sahi']\n",
      "O'Connor\n"
     ]
    }
   ],
   "source": [
    "# Each person is a list of attributes\n",
    "\n",
    "matt = [\"Matt\", \"O'Connor\"]\n",
    "dhruv = [\"Dhruv\", \"Sahi\"]\n",
    "\n",
    "instructors = [matt,dhruv]\n",
    "\n",
    "# We now have a list of lists\n",
    "print(instructors[1])\n",
    "print(instructors[0][1])"
   ]
  },
  {
   "cell_type": "code",
   "execution_count": null,
   "metadata": {
    "collapsed": true
   },
   "outputs": [],
   "source": [
    "# Alternatively, we can store this data in dictionary format\n",
    "\n",
    "instructors_dictionary = {\n",
    "    'matt': [\"Matt\", \"O'Connor\"],\n",
    "    'dhruv': [\"Dhruv\", \"Sahi\"]\n",
    "}\n",
    "instructors_dictionary['matt']"
   ]
  },
  {
   "cell_type": "code",
   "execution_count": null,
   "metadata": {
    "collapsed": true
   },
   "outputs": [],
   "source": [
    "# We could even store the information like this, as a dictionary with key-value pairs of further nested key-value pairs\n",
    "\n",
    "instructors_dictionary = {\n",
    "    'instructor1': {\n",
    "        'first': \"Matt\",\n",
    "        'last': \"O'Connor\"\n",
    "    },\n",
    "    'instructor2': {\n",
    "        'first': \"Dhruv\",\n",
    "        'last': \"Sahi\"\n",
    "    }\n",
    "}\n",
    "instructors_dictionary['instructor1']['last']"
   ]
  },
  {
   "cell_type": "markdown",
   "metadata": {},
   "source": [
    "## In Class Activity #6 - Nested Lists/Dictionaries\n",
    "\n",
    "As you can see, there are multiple ways of organizing and storing the same exact data. The key to being able to do analysis on data is to be able to think about which structures best reflect the real world relationships and use cases, organize your data cleanly, and know how to convert between data types since different sources of data and systems will always be slightly different.\n",
    "\n",
    "There is no right or wrong answer to formatting data, only better or worse ways depending on the use cases.\n",
    "\n",
    "As a class, discuss which arrangements of data would be best for the below use cases:\n",
    "\n",
    "* a) An application which finds student information by student ID number\n",
    "* b) An application to displays all students in the class\n",
    "* c) An application which tracks student attendance each week"
   ]
  },
  {
   "cell_type": "markdown",
   "metadata": {},
   "source": [
    "## 7.6 Converting between Lists, Tuples, and Dictionaries\n",
    "\n",
    "Occasionally- especially dealing with multiple providers/sources of data at once- you will need to reformat and convert data between data types."
   ]
  },
  {
   "cell_type": "code",
   "execution_count": 22,
   "metadata": {},
   "outputs": [
    {
     "name": "stdout",
     "output_type": "stream",
     "text": [
      "[1, 2, 3]\n"
     ]
    }
   ],
   "source": [
    "# Convert Tuple to List\n",
    "# Why: you need to make changes to a group of values rather than keep them immutable (tuple)\n",
    "\n",
    "x = (1,2,3)\n",
    "y = list(x)\n",
    "z = tuple(x)\n",
    "print(y)"
   ]
  },
  {
   "cell_type": "code",
   "execution_count": null,
   "metadata": {
    "collapsed": true
   },
   "outputs": [],
   "source": [
    "# Convert List to Tuple\n",
    "# Why: want to preserve a fix set of items to ensure your data doesn't accidentally get changed\n",
    "\n",
    "x = [1,2,3]\n",
    "y = tuple(x)\n",
    "print(y)"
   ]
  },
  {
   "cell_type": "code",
   "execution_count": 35,
   "metadata": {},
   "outputs": [
    {
     "name": "stdout",
     "output_type": "stream",
     "text": [
      "[('first', 'matt'), ('last', 'oconnor')]\n",
      "matt\n"
     ]
    }
   ],
   "source": [
    "# Convert Lists/Tuples to Dictionary\n",
    "# Why: you have two lists of data, one of which is column headers (data labels), and the other which is data\n",
    "\n",
    "# To convert we eventually need data as a list of lists (or tuple of tuples) in the below format:\n",
    "# [[key,value],[key,value]]\n",
    "\n",
    "# Step 1: Let's assume our data isn't yet in that format, we just have two lists like so:\n",
    "\n",
    "x = ['first','last']\n",
    "y = ['matt','oconnor']\n",
    "z = list(zip(x, y))\n",
    "print(z)\n",
    "mydict = dict(z)\n",
    "print (mydict['first'])"
   ]
  },
  {
   "cell_type": "code",
   "execution_count": null,
   "metadata": {
    "collapsed": true
   },
   "outputs": [],
   "source": [
    "# Step 2: Once we have our data in [[key,value],[key,value]] format, we can easily convert to dictionary:\n",
    "\n",
    "dict(z)"
   ]
  },
  {
   "cell_type": "markdown",
   "metadata": {},
   "source": [
    "## In Class Activity #7 - Converting Dictionaries to Lists\n",
    "\n",
    "Now that z is a dictionary, let's say we need to get two seperate lists, one of column names (keys), and one of data (values). How do we convert a dictionary into two seperate lists\n",
    "\n",
    "Ie. Convert:\n",
    "\n",
    "dictionary = {'first': 'matt', 'last': 'oconnor'}\n",
    "\n",
    "Into:\n",
    "\n",
    "headers = [\"first\",\"last\"]\n",
    "\n",
    "data = [\"matt\",\"oconnor\"]"
   ]
  },
  {
   "cell_type": "code",
   "execution_count": 30,
   "metadata": {},
   "outputs": [
    {
     "name": "stdout",
     "output_type": "stream",
     "text": [
      "['first', 'last']\n",
      "['matt', 'oconnor']\n"
     ]
    }
   ],
   "source": [
    "# Convert z back into two lists\n",
    "z = {\"first\": 'matt', 'last': 'oconnor'}\n",
    "headers = []\n",
    "data = []\n",
    "\n",
    "for key, value in z.items():\n",
    "    headers.append(key)\n",
    "    data.append(value)\n",
    "    \n",
    "print(headers)\n",
    "print(data)"
   ]
  },
  {
   "cell_type": "markdown",
   "metadata": {},
   "source": [
    "## In Class Activity #8 - Putting it All Together\n",
    "\n",
    "Write a function that can take in any provided number, and returns whether it is a prime number or not:"
   ]
  },
  {
   "cell_type": "code",
   "execution_count": null,
   "metadata": {
    "collapsed": true
   },
   "outputs": [],
   "source": [
    "# Do not alter this line, when executed just prompts user for input\n",
    "x = input(\"Check if this number is prime:\")\n",
    "# Edit code below to make your function\n",
    "\n",
    "def prime_check(x):\n",
    "    \"insert code here\""
   ]
  },
  {
   "cell_type": "markdown",
   "metadata": {},
   "source": [
    "## In Class Activity #9 - Bonus\n",
    "\n",
    "Turn the below lists into a dictionary and write a function that takes in a user's ID and calculates the average of their scores\n",
    "\n",
    "studentIDs = ['1234','0987']\n",
    "\n",
    "columns = ['first','last','scores']\n",
    "\n",
    "studentInfo = [['jane','doe'],['john','smith']]\n",
    "\n",
    "scores=[[90,80,70,80],[85,90,75,65]]\n",
    "\n",
    "Hint: First think about how you will structure your data/dictionary. Given the arrangement of data and your intended usage of it (what function needs to be able to do), what is the best way to arrange the data?"
   ]
  },
  {
   "cell_type": "code",
   "execution_count": 48,
   "metadata": {},
   "outputs": [
    {
     "name": "stdout",
     "output_type": "stream",
     "text": [
      "[('1234', [90, 80, 70, 80]), ('0987', [85, 90, 75, 65])]\n"
     ]
    },
    {
     "data": {
      "text/plain": [
       "78.75"
      ]
     },
     "execution_count": 48,
     "metadata": {},
     "output_type": "execute_result"
    }
   ],
   "source": [
    "studentIDs = ['1234','0987']\n",
    "columns = ['first','last','scores']\n",
    "studentInfo = [['jane','doe'],['john','smith']]\n",
    "scores=[[90,80,70,80],[85,90,75,65]]\n",
    "\n",
    "z = list(zip(studentIDs, scores))\n",
    "print(z)\n",
    "idScoreDict = dict(z)\n",
    "\n",
    "def calculateAvg(studentID):\n",
    "    total = 0\n",
    "    for item in idScoreDict[studentID]:\n",
    "        total += item\n",
    "    average = total / len(idScoreDict[studentID])\n",
    "    return average\n",
    "    \n",
    "calculateAvg('1234')\n",
    "calculateAvg('0987')"
   ]
  },
  {
   "cell_type": "code",
   "execution_count": null,
   "metadata": {
    "collapsed": true
   },
   "outputs": [],
   "source": []
  }
 ],
 "metadata": {
  "anaconda-cloud": {},
  "kernelspec": {
   "display_name": "Python 3",
   "language": "python",
   "name": "python3"
  },
  "language_info": {
   "codemirror_mode": {
    "name": "ipython",
    "version": 3
   },
   "file_extension": ".py",
   "mimetype": "text/x-python",
   "name": "python",
   "nbconvert_exporter": "python",
   "pygments_lexer": "ipython3",
   "version": "3.6.1"
  }
 },
 "nbformat": 4,
 "nbformat_minor": 1
}
