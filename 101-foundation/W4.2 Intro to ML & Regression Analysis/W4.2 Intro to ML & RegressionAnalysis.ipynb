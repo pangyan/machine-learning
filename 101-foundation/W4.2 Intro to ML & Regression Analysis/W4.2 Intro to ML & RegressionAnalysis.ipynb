{
 "cells": [
  {
   "cell_type": "markdown",
   "metadata": {},
   "source": [
    "# Recap & Agenda\n",
    "\n",
    "### Last Class\n",
    "\n",
    "Last class, we learnt the basics of algorithms and scratch coded an algorithm ourselves. By this point you should generally know how algorithms work and how the process of creating one looks like. \n",
    "<br>\n",
    "The process itself is super important, because making a Machine Learning model is usually a much shorter process than cleaning and wrangling the data. While creating our own algorithm from scratch last class, we covered the following steps:\n",
    "\n",
    "1. Collect/Import data <br>\n",
    "2. Clean & Wrangle data <br>\n",
    "3. EDA <br>\n",
    "4. Normalize data (feature scaling) <br>\n",
    "5. Create algo & generate predictions <br>\n",
    "6. Denormalize data <br>\n",
    "7. Calculate error <br>\n",
    "8. Manually consider ways to improve the model, implement changes, and repeat 1-7 <br>\n",
    "    - if changes improve the model keep them <br>\n",
    "    - if changes make the model worse, throw them out\n",
    "    \n",
    "What is different about Machine learning is that there are pre-made algorithms in Python libraries that we can use, essentially OOB. So in essence, learning Machine Learning is not just about learning how to make algorithms, but also learning what every algorithm does, what its use cases and pros & cons.\n",
    "\n",
    "Furthermore, from a beginner's perspective, it is less important to understand the mechanics and the Maths behind each algorithm and more useful to understand where and how they can be applied to derive insight. \n",
    "\n",
    "\n",
    "### Agenda\n",
    "- Introduction to Machine Learning\n",
    "- Introduction to regressions\n",
    "- Linear Regressions\n",
    "- Multivariate Regressions\n",
    "- Logistic Regressions\n",
    "- Mini-project"
   ]
  },
  {
   "cell_type": "markdown",
   "metadata": {},
   "source": [
    "# 1.0 Introduction to Machine Learning\n",
    "\n",
    "Machine Learning is a subset of Artificial Intelligence where it allows computers and computational systems to learn without being told exactly what to look for or being explicitly programmed. \n",
    "\n",
    "Think of Facebook's facial recognition systems, Amazon's or Netflix's recommendation systems; they're all practial applications of ML. It has exploded to the forefront of company's and people's minds because of the explosion in data creation and storage that the world is seeing for the past years. This will only increase, and ML algorithms are a way to extract actionable insight from this data without extensive human input. \n",
    "\n",
    "**How to think of ML algorithms**\n",
    "\n",
    "Think of someone who uses ML algorithms as a car mechanic, who is trying to diagnose and consequently solve problems with customer's cars. He has a wide array of tools at his disposals. But every single tool is only good for very specific tasks. The mechanic needs to know what tool to apply where so he can easily and efficiently diagnose and solve issues (e.g. he would not be a very good mechanic if he tried painting the car with a hammer). \n",
    "\n",
    "A Machine Learning Engineer is very similar to a mechanic by that analogy. There are hundreds upon hundreds of algorithms and statistical techniques that exist, and it is very important to know which technique to use for what purpose. In this vein, as we introduce numerous Machine Learning algorithms, we will talk about\n",
    "- What it does, some of it's basic mechanics  \n",
    "- Most common use cases\n",
    "- Pros and cons \n",
    "- How to implement it in Python & intepret results\n",
    "\n",
    "\n",
    "### Supervised vs Unsupervised Learning\n",
    "\n",
    "In general, Machine Learning algorithms can be classified into two categories: Supervised and Unsupervised. It's important to understand the differences between them to see how we can categorise these algorithms and see where they can be used. \n",
    "\n",
    "**Supervised Learning**\n",
    "\n",
    "Supervised Learning is when an algorithm reqruies input variables (your Xs) and output variables (your Ys). Supervised algorithms in general try to use the Xs to make predictions on Y, and when you have newly gathered data, they can use the model to predict the Ys. All predictive algorithms by definition then fall into the supervised category. In actuality, this is the category in which most Machine Learning algorithms fall.\n",
    "\n",
    "Examples of Supervised algorithms are regressions, decision trees, KNNs etc. \n",
    "\n",
    "**Unsupervised Learning**\n",
    "\n",
    "This class of algorithms does not require any output variables (Ys), and is not geared for predictions. Rather you are trying to find the inherent patters and distributions in your dataset, which is often then used to inform more predictive ventures. \n",
    "\n",
    "Examples of unsupervised learning algorithms are k-means and hierarchical clustering, gaussian mixture models, some forms of Neural Networks etc.\n"
   ]
  },
  {
   "cell_type": "markdown",
   "metadata": {},
   "source": [
    "# 2.0 Regression Analysis\n",
    "\n",
    "### What are regressions anyways?\n",
    "\n",
    "Regressions are techniques to find the significance of the relationship between a Y (dependent variable), and one (or numerous) X (independent variable). \n",
    "\n",
    "Regression are very popular and are very widely used in many many industries and sectors, because they are very simple ways to build predictive models. It's trivial to check how 'good' your model is, check your error, and tweak it to make it better.\n",
    "\n",
    "For example, let's say we had a data set of houses with four characteristics: square footage, location, building age and price it last sold for. Let's say you're trying to predict price and are trying to find other variables that strogly affect price.\n",
    "\n",
    "To do that, you can run linear regression on price as the dependent variable (your Y), and other variables one by one as X. You can also combine all your variables to run a multivariate regression.\n",
    "\n",
    "To emphasize, the idea behind this is really simple. All you're doing is fitting a straight line to a set of observations. \n",
    "\n",
    "The method usually used is called OLS (Ordinary Least Squares), where it tries to minize the squared errors between the line and each point. That's it! Python does this all for you, and I won't go into the mechanics of this, but it is very useful as you will see!  \n",
    "\n",
    "This is the regression equation:\n",
    "    \n",
    "Y = β0 + β1*X1 + β2*X2 + … + βn*Xn  (same as y = mx + c)\n",
    " \n",
    " X1, X2 ... Xn are called the 'predictor' variables, that we are using to predict the dependent variable. This is because you can use the equation of the line to predict unobserved values."
   ]
  },
  {
   "cell_type": "markdown",
   "metadata": {},
   "source": [
    "### 2.1 Linear Regressions\n",
    "\n",
    "Linear Regressions are the simplest types of regressions where you have one X predicting a Y. Often used to see the impact an independent variable has on the dependent variable, these are more useful for EDA and less practical. \n",
    "\n",
    "**Use Cases & Data Types:** Linear regressins can basically be used anywhere you have continous data (any possible values between a range, range can be between infinities). Y is something you are trying to predict (housing price in the above example), and your X is one of your conitnuous, independent variables.\n",
    "\n",
    "**Pros:** \n",
    "- Simple to understand and execute\n",
    "- Computationally inexpensive\n",
    "- Easy to spot relationships and interpret output\n",
    "\n",
    "**Cons:**\n",
    "- Only a linear fit can be discerned (bad at predicting non-linear datasets, i.e. most)\n",
    "- Very sensitive to outliers\n",
    "- Drawbacks in real life practicalities"
   ]
  },
  {
   "cell_type": "code",
   "execution_count": 1,
   "metadata": {},
   "outputs": [
    {
     "data": {
      "text/html": [
       "<div>\n",
       "<style>\n",
       "    .dataframe thead tr:only-child th {\n",
       "        text-align: right;\n",
       "    }\n",
       "\n",
       "    .dataframe thead th {\n",
       "        text-align: left;\n",
       "    }\n",
       "\n",
       "    .dataframe tbody tr th {\n",
       "        vertical-align: top;\n",
       "    }\n",
       "</style>\n",
       "<table border=\"1\" class=\"dataframe\">\n",
       "  <thead>\n",
       "    <tr style=\"text-align: right;\">\n",
       "      <th></th>\n",
       "      <th>price</th>\n",
       "      <th>sq_feet</th>\n",
       "      <th>quality</th>\n",
       "    </tr>\n",
       "  </thead>\n",
       "  <tbody>\n",
       "    <tr>\n",
       "      <th>0</th>\n",
       "      <td>30992.64</td>\n",
       "      <td>718</td>\n",
       "      <td>38</td>\n",
       "    </tr>\n",
       "    <tr>\n",
       "      <th>1</th>\n",
       "      <td>21187.60</td>\n",
       "      <td>601</td>\n",
       "      <td>30</td>\n",
       "    </tr>\n",
       "    <tr>\n",
       "      <th>2</th>\n",
       "      <td>47161.68</td>\n",
       "      <td>896</td>\n",
       "      <td>41</td>\n",
       "    </tr>\n",
       "    <tr>\n",
       "      <th>3</th>\n",
       "      <td>15338.82</td>\n",
       "      <td>421</td>\n",
       "      <td>19</td>\n",
       "    </tr>\n",
       "    <tr>\n",
       "      <th>4</th>\n",
       "      <td>29759.07</td>\n",
       "      <td>551</td>\n",
       "      <td>49</td>\n",
       "    </tr>\n",
       "  </tbody>\n",
       "</table>\n",
       "</div>"
      ],
      "text/plain": [
       "      price  sq_feet  quality\n",
       "0  30992.64      718       38\n",
       "1  21187.60      601       30\n",
       "2  47161.68      896       41\n",
       "3  15338.82      421       19\n",
       "4  29759.07      551       49"
      ]
     },
     "execution_count": 1,
     "metadata": {},
     "output_type": "execute_result"
    }
   ],
   "source": [
    "import pandas as pd\n",
    "\n",
    "house = pd.read_csv('housing_prices.csv')\n",
    "house.head()  # Clearly, out Y here is price and X's are sq_feet and quality"
   ]
  },
  {
   "cell_type": "code",
   "execution_count": 2,
   "metadata": {},
   "outputs": [
    {
     "data": {
      "image/png": "[encoded data removed]",
      "text/plain": [
       "<matplotlib.figure.Figure at 0x20f6a2195c0>"
      ]
     },
     "metadata": {},
     "output_type": "display_data"
    }
   ],
   "source": [
    "# Let's first see if we can spot a relationship again between quality and price\n",
    "\n",
    "import matplotlib.pyplot as plt\n",
    "\n",
    "plt.figure(figsize=(16,12))\n",
    "plt.scatter(house['quality'],house['price'])\n",
    "plt.xlabel('Quality',fontsize=20)\n",
    "plt.ylabel('Price',fontsize=20)\n",
    "plt.show()\n"
   ]
  },
  {
   "cell_type": "code",
   "execution_count": 3,
   "metadata": {},
   "outputs": [
    {
     "name": "stdout",
     "output_type": "stream",
     "text": [
      "[ 38  30  41  19  49  88  95  80  38  54  56  49  87  21  12  94  21  78\n",
      "  93  48  15  14  32  40  93  51  32  89  58  32  91  80  94  15  50  99\n",
      "  96  22  28  41  61  85  17  83  34  76  23   7  60  68  84  12  42  80\n",
      "  48  72  63  93  30  50  46  99  87  10  87  33  62  88  52  87  14  22\n",
      "   4  80  64  59  85   1   1  21  87   3  50  82  25  20  52  19  15   1\n",
      "  10  79   2  54  96  40  32  76  37 100   3  68  97  37  49  18  19  29\n",
      "  98  97  53  90  29  56  72  28   8  39  78  65  60  52  70  27  89  99\n",
      "  31   8  87  67  10  37  79  15  95  58  15  44  20  58  13  86  77  76\n",
      "  28  48   8   8  95  87  41  47  55  92  34   3 100  21  10  48  93  89\n",
      "  29  12  44  59 100  37   2  36  97  28  60  30  55   1  64  38  97  65\n",
      "  75  57  44  64  33  60  75  84  28  86  50  53  33  61  35  58  96  17\n",
      "  30   5  29  79  75   6  16  49  57  66  97  21   5  32  30  36  25  46\n",
      "  43  55  77  82   7  67  58  54  66  17  57   3  49  11  41  36  18  33\n",
      "  69  57  59  86  54  50  32  26  34  27   2  32  75  82   3  62  66   6\n",
      "  68  92  78  99  17  55   7  40  96  89  59  37  90   2  92  39  81  84\n",
      "  10  70  54  20  49  79  45  94  40   8  82  56  19 100  72  12   5  29\n",
      "  17  98  87  37  48  66  75  96  10  43  74   5  15  17  42  59  30  75\n",
      "  53  63   6  12  33  98  76   8  42  40  91   3 100  98   2  18 100  72\n",
      "  67  68  81  31  62  78  71  12  29  73  45  54  53  15  57   3  76  65\n",
      "  70  73  50  82  12  10  23  70  16  86  33  75  78  49  31   3  11   5\n",
      "  58  98  28  46  62  62  17  38  21  45  63  52  71  33  38   5  85  43\n",
      "  53  32  45  68  26  12  27  65  31  63  37  86  15  29   4  44  16  13\n",
      "   8  70  57  36  70  91  41  64  50  38  95  32  23  44  47  57   9  87\n",
      "  30  25  25  50  81  70  20  28  61  97  73  53   8   5  97  16  72  17\n",
      "  25  82  17  41  22  57  71  68  39  76  50   3  85  83  96  38  71  41\n",
      "  13  47  29  46  57  44  75  40  10  83  39  89  88  74  99   2  20  76\n",
      "   1   5  92  23  93   2   2  60  88  36  87  24  61  22  17  27  32  59\n",
      "  37  48   6   3  90  44  15  65  35  77  58   5  78  88  22  18  32  48\n",
      "  47  30  78  55  63  29   1   3  88  27  25  86  91  28  26   3  53  70\n",
      "  83  26   6  29  76  27  73  31  27  85  44  52  22  78  64   8  59  21\n",
      "  65  35  24  64   7  52  73  74  63  89  14  28  63  55  18  92  10  15\n",
      "  69  38  92  55  70  58  11   7  84  39  84  19  43  68  23  95  90  37\n",
      "  65  10  35  67  35  69  34  20  42  23  81   8  45  68  30  69  68  62\n",
      "  26  71  67  20  44  78  97  24  68  62   4  97  35  13  63  61  32  60\n",
      "  75  80  75   2  70  13  50   6  49  43  66  52  43  26  37  49  11  35\n",
      "  62  10  47   1  39  91  58  31   3  57   2  78 100  10  65  70  79  67\n",
      "  94  31  15  20   5  93   7  80  71  64  18  28  67  56  56  31  71  65\n",
      "  57  22  30  62  45  67  91  31  93  41  46  32  86  55   6  89  31  70\n",
      "  53  99  55  76  90  45  47  29  36  54  34  21  33  87  91  79  32  66\n",
      "  27  90  25  92  47   9  43  67  17  85  66  65  76   6  74  86  28  10\n",
      "  64  26  70  78  28  94  84  89  88  93  18  45  75  40  47  81  17  93\n",
      "  16  91  25  76   4  95  45  79  66  71   2   6  69  54  13  53  58  31\n",
      "  48  49   2  44  64  55  71   9  22  28  52  53  35  87  87  94   5  40\n",
      "  77  76  28  21  93  86  74  10   3  51  44  12  15  50  57  12  12  19\n",
      "  99  30  67  38  21  64  10]\n"
     ]
    }
   ],
   "source": [
    "# Let's clean our data and remove Nulls\n",
    "import numpy as np\n",
    "house_q = house[['price','quality']]\n",
    "house_q = house_q.dropna(how='any')\n",
    "\n",
    "X = np.array(house_q['quality'])\n",
    "Y = np.array(house_q['price'])\n",
    "\n",
    "print(X)\n",
    "\n",
    "X = np.array(house_q['quality']).reshape(799,1)\n",
    "Y = np.array(house_q['price']).reshape(799,1)\n",
    "\n",
    "#print(X)"
   ]
  },
  {
   "cell_type": "code",
   "execution_count": 4,
   "metadata": {
    "collapsed": true
   },
   "outputs": [],
   "source": [
    "#np.array(house_q['price']).reshape"
   ]
  },
  {
   "cell_type": "code",
   "execution_count": 5,
   "metadata": {
    "collapsed": true
   },
   "outputs": [],
   "source": [
    "import sklearn\n",
    "from sklearn.linear_model import LinearRegression\n",
    "\n",
    "lm = LinearRegression()\n",
    "lm = lm.fit(X,Y)\n",
    "\n",
    "#lm.fit?"
   ]
  },
  {
   "cell_type": "code",
   "execution_count": 6,
   "metadata": {},
   "outputs": [
    {
     "name": "stdout",
     "output_type": "stream",
     "text": [
      "Intercept  [ 5361.44901479]\n",
      "Coefficient  [[ 1207.31991775]]\n"
     ]
    }
   ],
   "source": [
    "# Now we can make our equation!\n",
    "\n",
    "print(\"Intercept \", lm.intercept_)\n",
    "print(\"Coefficient \", lm.coef_)"
   ]
  },
  {
   "cell_type": "code",
   "execution_count": 7,
   "metadata": {},
   "outputs": [
    {
     "name": "stdout",
     "output_type": "stream",
     "text": [
      "MSE:  796036028.08\n"
     ]
    }
   ],
   "source": [
    "preds = lm.predict(X)\n",
    "MSE  = np.mean((Y-preds)**2)\n",
    "print('MSE: ', MSE)"
   ]
  },
  {
   "cell_type": "markdown",
   "metadata": {},
   "source": [
    "Remember our custom algorithm's MSE? It was over a billion. We're already doing better! "
   ]
  },
  {
   "cell_type": "code",
   "execution_count": 8,
   "metadata": {},
   "outputs": [
    {
     "data": {
      "image/png": "[encoded data removed]",
      "text/plain": [
       "<matplotlib.figure.Figure at 0x20f6bb552e8>"
      ]
     },
     "metadata": {},
     "output_type": "display_data"
    }
   ],
   "source": [
    "# Let's see what the plot shows\n",
    "\n",
    "plt.figure(figsize=(16,12))\n",
    "plt.scatter(X,Y)\n",
    "plt.plot(X,preds,color='r')\n",
    "plt.xlabel('Quality',fontsize=20)\n",
    "plt.ylabel('Price',fontsize=20)\n",
    "plt.show()"
   ]
  },
  {
   "cell_type": "markdown",
   "metadata": {},
   "source": [
    "Another good way to see how our regression is performing is to use a metric called R-squared. \n",
    "\n",
    "R-squared measures how much of the variance in your dependent variable (Y) is expalained by the variance in your independent variable (X). Essentially, it tells you 'how' good a predictor your X is. "
   ]
  },
  {
   "cell_type": "code",
   "execution_count": 9,
   "metadata": {},
   "outputs": [
    {
     "name": "stdout",
     "output_type": "stream",
     "text": [
      "R^2 Score:  0.599512806993\n"
     ]
    }
   ],
   "source": [
    "from sklearn.metrics import r2_score\n",
    "\n",
    "print(\"R^2 Score: \", r2_score(Y, preds))"
   ]
  },
  {
   "cell_type": "markdown",
   "metadata": {},
   "source": [
    "This tells you that ~60% of the fluctuations and change in price is explained by quality. That's actually pretty good for a single variabe!"
   ]
  },
  {
   "cell_type": "markdown",
   "metadata": {},
   "source": [
    "I'm pretty sure I know the answer to this, but for curiosity's sake, let's try see what sq_feet's MSE & R^2 is"
   ]
  },
  {
   "cell_type": "code",
   "execution_count": 10,
   "metadata": {},
   "outputs": [
    {
     "name": "stdout",
     "output_type": "stream",
     "text": [
      "Intercept  [ 3344.53934357]\n",
      "coefficient  [[ 50.24004577]]\n",
      "MSE:  1441121907.37\n",
      "R^2:  0.274968912081\n"
     ]
    }
   ],
   "source": [
    "X2 = np.array(house['sq_feet']).reshape(799,1)\n",
    "lm.fit(X2,Y)\n",
    "print(\"Intercept \", lm.intercept_)\n",
    "print(\"coefficient \", lm.coef_)\n",
    "print(\"MSE: \", np.mean((Y-lm.predict(X2))**2))\n",
    "print(\"R^2: \", r2_score(Y, lm.predict(X2)))"
   ]
  },
  {
   "cell_type": "markdown",
   "metadata": {},
   "source": [
    "Much worse on all aspects."
   ]
  },
  {
   "cell_type": "markdown",
   "metadata": {},
   "source": [
    "# In-Class Activity 1:\n",
    "\n",
    "Can you use dimensionality reduction (as last time or differently) and see what the MSE for that new variable is?\n",
    "Which variable was the best predictor?\n"
   ]
  },
  {
   "cell_type": "code",
   "execution_count": 11,
   "metadata": {},
   "outputs": [
    {
     "name": "stdout",
     "output_type": "stream",
     "text": [
      "Intercept  [ 5570.56348724]\n",
      "coefficient  [[ 0.98729392]]\n",
      "MSE:  83220290.7152\n",
      "R^2:  0.958131718347\n"
     ]
    }
   ],
   "source": [
    "#Your code below:\n",
    "X3 = np.array(house['sq_feet'] * house['quality']).reshape(799,1)\n",
    "lm.fit(X3,Y)\n",
    "preds3 = lm.predict(X3)\n",
    "print(\"Intercept \", lm.intercept_)\n",
    "print(\"coefficient \", lm.coef_)\n",
    "print(\"MSE: \", np.mean((Y-lm.predict(X3))**2))\n",
    "print(\"R^2: \", r2_score(Y, lm.predict(X3)))\n",
    "\n",
    "\n"
   ]
  },
  {
   "cell_type": "code",
   "execution_count": 12,
   "metadata": {},
   "outputs": [
    {
     "data": {
      "image/png": "[encoded data removed]",
      "text/plain": [
       "<matplotlib.figure.Figure at 0x20f6bb55198>"
      ]
     },
     "metadata": {},
     "output_type": "display_data"
    }
   ],
   "source": [
    "plt.figure(figsize=(16,12))\n",
    "plt.scatter(X3,Y)\n",
    "plt.plot(X3,preds3,color='r')\n",
    "plt.xlabel('Quality',fontsize=20)\n",
    "plt.ylabel('Price',fontsize=20)\n",
    "plt.show()"
   ]
  },
  {
   "cell_type": "markdown",
   "metadata": {},
   "source": [
    "### How can we improve this model?\n",
    "\n",
    "So far we know that we have a certain level of error, but how can we go about improving our model? There is a chance that even if we minimise error, our model might not be actually suited for data that it hasn't seen. How do we avoid that?\n",
    "\n",
    "Any ideas?\n"
   ]
  },
  {
   "cell_type": "markdown",
   "metadata": {},
   "source": [
    "## 2.2 Train/Test Splits \n",
    "\n",
    "Train/Test splits are incredibly important because they allow you to train your model on part of the data, and test it on 'unseen' data that the model hasn't seen yet. This way, you can minimise error and see how good your model performs on unseen data. Remember, any model you build is by definition going to be used to predict unseen data, so it's crucial that Train/Test is done, and that it's done right.\n",
    "\n",
    "The idea is simple: we take our dataset, and split it randomly in a ratio (normally 75:25). We then train a model on the bigger dataset and try minimise error, and then test how good it is at predicting on the test dataset. We get the best of both worlds in that way!"
   ]
  },
  {
   "cell_type": "code",
   "execution_count": 13,
   "metadata": {},
   "outputs": [
    {
     "name": "stdout",
     "output_type": "stream",
     "text": [
      "(599, 1)\n",
      "(599, 1)\n",
      "(200, 1)\n",
      "(200, 1)\n"
     ]
    },
    {
     "name": "stderr",
     "output_type": "stream",
     "text": [
      "C:\\devtool\\app\\Anaconda3\\lib\\site-packages\\sklearn\\cross_validation.py:44: DeprecationWarning: This module was deprecated in version 0.18 in favor of the model_selection module into which all the refactored classes and functions are moved. Also note that the interface of the new CV iterators are different from that of this module. This module will be removed in 0.20.\n",
      "  \"This module will be removed in 0.20.\", DeprecationWarning)\n"
     ]
    }
   ],
   "source": [
    "from sklearn import cross_validation\n",
    "\n",
    "X_train, X_test, Y_train, Y_test = cross_validation.train_test_split(X,Y, test_size = 0.25,  random_state = 2)\n",
    "\n",
    "   \n",
    "print(X_train.shape)\n",
    "print(Y_train.shape)\n",
    "print(X_test.shape)\n",
    "print(Y_test.shape)"
   ]
  },
  {
   "cell_type": "code",
   "execution_count": 14,
   "metadata": {},
   "outputs": [
    {
     "name": "stdout",
     "output_type": "stream",
     "text": [
      "Intercept  [ 6512.64246484]\n",
      "Ccoefficient  [[ 1171.48849612]]\n",
      "MSE on train data:  796162428.803\n",
      "R^2 on train data:  0.582668111295\n"
     ]
    }
   ],
   "source": [
    "# Now, let's build a linear regression model on our test data, and then compare errors\n",
    "\n",
    "lm = LinearRegression()\n",
    "lin = lm.fit(X_train,Y_train)\n",
    "print(\"Intercept \", lin.intercept_)\n",
    "print(\"Ccoefficient \", lin.coef_)\n",
    "print(\"MSE on train data: \", np.mean((Y_train-lin.predict(X_train))**2))\n",
    "print(\"R^2 on train data: \", r2_score(Y_train,lin.predict(X_train)))"
   ]
  },
  {
   "cell_type": "code",
   "execution_count": 15,
   "metadata": {},
   "outputs": [
    {
     "name": "stdout",
     "output_type": "stream",
     "text": [
      "MSE on Test data :  796036028.08\n",
      "R^2 on Test data:  0.63937778417\n"
     ]
    }
   ],
   "source": [
    "predictions = lin.predict(X_test)\n",
    "mse = np.mean(Y_test - predictions)\n",
    "print(\"MSE on Test data : \", MSE)  \n",
    "print(\"R^2 on Test data: \", r2_score(Y_test,lm.predict(X_test)))"
   ]
  },
  {
   "cell_type": "markdown",
   "metadata": {},
   "source": [
    "### That's rather interesting and unique. We're getting a better MSE and R^2 on test data and train data. Not always the case\n",
    "\n",
    "### Note: in most real-life cases, it won't behave like this."
   ]
  },
  {
   "cell_type": "markdown",
   "metadata": {},
   "source": [
    "## In-Class Activity 2: \n",
    "\n",
    "Can you import the bike_rentals dataset and try to predict rental numbers using linear regressions?"
   ]
  },
  {
   "cell_type": "code",
   "execution_count": 16,
   "metadata": {},
   "outputs": [
    {
     "data": {
      "image/png": "[encoded data removed]",
      "text/plain": [
       "<matplotlib.figure.Figure at 0x20f6bc49d30>"
      ]
     },
     "metadata": {},
     "output_type": "display_data"
    }
   ],
   "source": [
    "# Your code below:\n",
    "rentals = pd.read_csv('bike_rentals.csv')\n",
    "rentals.head()  # Clearly, out Y here is price and X's are sq_feet and quality\n",
    "\n",
    "# rentals, day_of_week, season, holiday, temp, humidity\n",
    "\n",
    "rentals_q = rentals[['rentals','day_of_week','season','humidity','holiday', 'temp']]\n",
    "rentals_q = rentals_q.dropna(how='any')\n",
    "\n",
    "X_humidity = np.array(rentals_q['humidity']).reshape(364, 1)\n",
    "X_holiday = np.array(rentals_q['holiday']).reshape(364, 1)\n",
    "X_temp = np.array(rentals_q['temp']).reshape(364, 1)\n",
    "Y = np.array(rentals_q['rentals']).reshape(364, 1)\n",
    "\n",
    "lm = LinearRegression()\n",
    "lin = lm.fit(X_humidity, Y)\n",
    "preds = lin.predict(X_humidity)\n",
    "#print(\"Intercept \", lin.intercept_)\n",
    "#print(\"Ccoefficient \", lin.coef_)\n",
    "#print(\"MSE on data: \", np.mean((Y-lin.predict(X))**2))\n",
    "#print(\"R^2 on data: \", r2_score(Y,lin.predict(X)))\n",
    "\n",
    "f, axes = plt.subplots(nrows=1, ncols=3, figsize=(15, 12), sharey=True)\n",
    "#plt.figure(figsize=(16,12))\n",
    "axes[0].set_title(\"humidity vs rentals\")\n",
    "axes[0].scatter(X_humidity,Y)\n",
    "axes[0].plot(X_humidity,preds,color='r')\n",
    "axes[0].set_xlabel('humidity',fontsize=20)\n",
    "axes[0].set_ylabel('rentals',fontsize=20)\n",
    "\n",
    "\n",
    "#lm = LinearRegression()\n",
    "lin = lm.fit(X_holiday, Y)\n",
    "preds = lin.predict(X_holiday)\n",
    "axes[1].set_title(\"holiday vs rentals\")\n",
    "axes[1].scatter(X_holiday,Y)\n",
    "axes[1].plot(X_holiday,preds,color='r')\n",
    "axes[1].set_xlabel('holiday',fontsize=20)\n",
    "#axes[1].set_ylabel('rentals',fontsize=20)\n",
    "\n",
    "lin = lm.fit(X_temp, Y)\n",
    "preds = lin.predict(X_temp)\n",
    "axes[2].set_title(\"temp vs rentals\")\n",
    "axes[2].scatter(X_temp,Y)\n",
    "axes[2].plot(X_temp,preds,color='r')\n",
    "axes[2].set_xlabel('temp',fontsize=20)\n",
    "#axes[2].set_ylabel('rentals',fontsize=20)\n",
    "\n",
    "plt.show()"
   ]
  },
  {
   "cell_type": "markdown",
   "metadata": {},
   "source": [
    "### 2.3 Multivariate Regressions\n",
    "\n",
    "Frankly, one variable is never really going to be a good predictor in real life. Problems are far more complex and have numerous layers to them. One way to include more than one variable into your regression analysis is the unimaginatively named Multivariate Regression. \n",
    "\n",
    "Think back to our regression equation. We can have as many variables as we like in our Multivariate equation right? \n",
    "\n",
    "We just need to be careful of one thing: multicollinearity. This is when your predictor variables themselves are highly correlated. This can artifically push our R^2 up, and lower our MSE, but also, multicollinearity errors can hide significant coefficients. There are many ways to avoid it, but the best will always be dimensionality reduction.\n",
    "\n",
    "Let's try multivariate regressions first on a trivial case, the housing dataset."
   ]
  },
  {
   "cell_type": "code",
   "execution_count": 17,
   "metadata": {
    "collapsed": true
   },
   "outputs": [],
   "source": [
    "X = house.drop('price',axis=1)\n",
    "Y = house[['price']]"
   ]
  },
  {
   "cell_type": "code",
   "execution_count": 18,
   "metadata": {},
   "outputs": [
    {
     "name": "stdout",
     "output_type": "stream",
     "text": [
      "(599, 2)\n",
      "(599, 1)\n",
      "(200, 2)\n",
      "(200, 1)\n"
     ]
    }
   ],
   "source": [
    "X_train, X_test, Y_train, Y_test = cross_validation.train_test_split(X,Y,test_size = 0.25, random_state = 5)\n",
    "\n",
    "print(X_train.shape)\n",
    "print(Y_train.shape)\n",
    "print(X_test.shape)\n",
    "print(Y_test.shape)"
   ]
  },
  {
   "cell_type": "code",
   "execution_count": 19,
   "metadata": {},
   "outputs": [
    {
     "name": "stdout",
     "output_type": "stream",
     "text": [
      "Our intercept  [-57934.97215963]\n",
      "Our coefficient  [[   50.59370981  1234.76766128]]\n",
      "MSE on train data:  price    2.494853e+08\n",
      "dtype: float64\n",
      "R^2 on train data:  0.873775773931\n"
     ]
    }
   ],
   "source": [
    "lm2 = LinearRegression()\n",
    "\n",
    "linmod = lm2.fit(X_train,Y_train)\n",
    "print(\"Our intercept \", linmod.intercept_)\n",
    "print(\"Our coefficient \", linmod.coef_)\n",
    "print(\"MSE on train data: \", np.mean((Y-linmod.predict(X))**2))\n",
    "print(\"R^2 on train data: \", r2_score(Y_train,linmod.predict(X_train)))"
   ]
  },
  {
   "cell_type": "code",
   "execution_count": 20,
   "metadata": {},
   "outputs": [
    {
     "name": "stdout",
     "output_type": "stream",
     "text": [
      "Our intercept  [-50861.29438801]\n",
      "Our coefficient  [[   50.22224495  1125.87145686]]\n",
      "MSE on train data:  price    2.552224e+08\n",
      "dtype: float64\n",
      "R^2 on train data:  0.882402235979\n"
     ]
    }
   ],
   "source": [
    "linmod3 = lm2.fit(X_test,Y_test)\n",
    "print(\"Our intercept \", linmod3.intercept_)\n",
    "print(\"Our coefficient \", linmod3.coef_)\n",
    "print(\"MSE on train data: \", np.mean((Y-linmod3.predict(X))**2))\n",
    "print(\"R^2 on train data: \", r2_score(Y_test,linmod3.predict(X_test)))"
   ]
  },
  {
   "cell_type": "markdown",
   "metadata": {},
   "source": [
    "Notice our R^2 has improved drastically, but our MSE has increased also. \n",
    "\n",
    "How would we solve this problem?"
   ]
  },
  {
   "cell_type": "markdown",
   "metadata": {},
   "source": [
    "# In-Class Activity 3:\n",
    "\n",
    "Using the bike rental dataset, can you try use all you've learnt to make a good predictive model for number of rentals? Feel free to use linear or multivariate regressions.\n"
   ]
  },
  {
   "cell_type": "code",
   "execution_count": null,
   "metadata": {
    "collapsed": true
   },
   "outputs": [],
   "source": []
  },
  {
   "cell_type": "code",
   "execution_count": 21,
   "metadata": {},
   "outputs": [
    {
     "name": "stdout",
     "output_type": "stream",
     "text": [
      "     weekend  humidity  holiday  temp\n",
      "0          0     0.500        0    21\n",
      "1          0     0.414        1    25\n",
      "2          0     0.352        0    15\n",
      "3          0     0.305        0    26\n",
      "4          1     0.236        1    10\n",
      "5          1     0.279        0    19\n",
      "6          1     0.321        0    25\n",
      "7          0     0.231        0    25\n",
      "8          0     0.192        0    23\n",
      "9          0     0.264        0    27\n",
      "10         0     0.289        0    22\n",
      "11         1     0.223        0    23\n",
      "12         1     0.319        0    19\n",
      "13         1     0.305        0    15\n",
      "14         0     0.280        0    28\n",
      "15         0     0.359        0    27\n",
      "16         0     0.439        0    16\n",
      "17         0     0.415        0    13\n",
      "18         1     0.481        0    30\n",
      "19         1     0.494        0    26\n",
      "20         1     0.482        0    22\n",
      "21         0     0.530        0    18\n",
      "22         0     0.589        0    10\n",
      "23         0     0.527        0    23\n",
      "24         0     0.622        0    16\n",
      "25         1     0.706        0    25\n",
      "26         1     0.658        0    20\n",
      "27         1     0.612        0    25\n",
      "28         0     0.699        0    18\n",
      "29         0     0.689        0    28\n",
      "..       ...       ...      ...   ...\n",
      "334        1     0.523        0    13\n",
      "335        1     0.572        0     3\n",
      "336        0     0.631        0     3\n",
      "337        0     0.706        0    15\n",
      "338        0     0.800        0     2\n",
      "339        0     0.754        0     0\n",
      "340        1     0.783        1    -5\n",
      "341        1     0.782        0    12\n",
      "342        1     0.782        0     7\n",
      "343        0     0.837        0    -2\n",
      "344        0     0.904        0    14\n",
      "345        0     0.896        0    13\n",
      "346        0     0.842        1     4\n",
      "347        1     0.803        0     0\n",
      "348        1     0.833        0    14\n",
      "349        1     0.883        1    14\n",
      "350        0     0.790        0     7\n",
      "351        0     0.699        0     4\n",
      "352        0     0.618        0     0\n",
      "353        0     0.557        0     1\n",
      "354        1     0.549        1    13\n",
      "355        1     0.586        0    10\n",
      "356        1     0.670        0    15\n",
      "357        0     0.752        0     1\n",
      "358        0     0.817        0     5\n",
      "359        0     0.788        0    11\n",
      "360        0     0.714        0    10\n",
      "361        1     0.811        0    10\n",
      "362        1     0.899        0     5\n",
      "363        1     0.814        0    -2\n",
      "\n",
      "[364 rows x 4 columns]\n",
      "(273, 4)\n",
      "(273, 1)\n",
      "(91, 4)\n",
      "(91, 1)\n"
     ]
    }
   ],
   "source": [
    "# Your code below:\n",
    "rentals.head()\n",
    "\n",
    "def convertDayOfWeek(dow):\n",
    "    if (dow == 'Monday' or dow == 'Tuesday' or dow == 'Wednesday' or dow == \"Thursday\"):\n",
    "        return 0\n",
    "    else:\n",
    "        return 1\n",
    "\n",
    "rentals['weekend'] = rentals['day_of_week']\n",
    "rentals['weekend'] = rentals['weekend'].apply(convertDayOfWeek)\n",
    "\n",
    "#print(rentals.head())\n",
    "\n",
    "rentals_q1 = rentals[['rentals','weekend','humidity','holiday', 'temp']]\n",
    "rentals_q1 = rentals_q1.dropna(how='any')\n",
    "\n",
    "X = rentals_q1.drop('rentals', axis=1)\n",
    "Y = rentals_q1[['rentals']]\n",
    "\n",
    "print(X)\n",
    "\n",
    "X_train, X_test, Y_train, Y_test = cross_validation.train_test_split(X,Y,test_size = 0.25, random_state = 5)\n",
    "\n",
    "print(X_train.shape)\n",
    "print(Y_train.shape)\n",
    "print(X_test.shape)\n",
    "print(Y_test.shape)\n",
    "\n",
    "\n",
    "\n",
    "\n",
    "\n"
   ]
  },
  {
   "cell_type": "code",
   "execution_count": 22,
   "metadata": {},
   "outputs": [
    {
     "name": "stdout",
     "output_type": "stream",
     "text": [
      "MSE on train data:  rentals    1023.491894\n",
      "dtype: float64\n",
      "R^2 on train data:  0.595896746224\n",
      "MSE on test data:  rentals    902.663852\n",
      "dtype: float64\n",
      "R^2 on test data:  0.702359912202\n"
     ]
    }
   ],
   "source": [
    "\n",
    "\n",
    "lm = LinearRegression()\n",
    "lin = lm.fit(X_train, Y_train)\n",
    "preds = lin.predict(X_train)\n",
    "#print(\"Intercept \", lin.intercept_)\n",
    "#print(\"Ccoefficient \", lin.coef_)\n",
    "print(\"MSE on train data: \", np.mean((Y_train -preds)**2))\n",
    "print(\"R^2 on train data: \", r2_score(Y_train ,preds))\n",
    "\n",
    "preds = lin.predict(X_test)\n",
    "#print(\"Intercept \", lin.intercept_)\n",
    "#print(\"Ccoefficient \", lin.coef_)\n",
    "print(\"MSE on test data: \", np.mean((Y_test -preds)**2))\n",
    "print(\"R^2 on test data: \", r2_score(Y_test ,preds))\n",
    "\n"
   ]
  },
  {
   "cell_type": "markdown",
   "metadata": {},
   "source": [
    "### 2.4 Logisic Regressions\n",
    "\n",
    "Logsitic regression is a classification algorithm to predict binary outcomes from continuous or categorical data. Unlike linear regressions, logistic regressions only classify your input variables into binaries (yes/no, 1/0), and this makes them quite powerful in numerous real world cases. \n",
    "\n",
    "**Use Cases & Data Types:** Your dependent variable must be binary (1/0), and your independent variables can be continuous, categorical or ordinal. There are many different real life problems that logistic regressions can provide predictions for such as transcation classifications & fraud detection.\n",
    "\n",
    "**Pros:** \n",
    "- Very useful for real life classification problems\n",
    "- Data type insensitive: continuous or categorical predictors\n",
    "- Good for tagging mechanisms \n",
    "\n",
    "**Cons:**\n",
    "- Can be computationally expensive\n",
    "- Easy to overfit (validation is super important)\n",
    "- Can be hard to interpret sometimes"
   ]
  },
  {
   "cell_type": "code",
   "execution_count": 23,
   "metadata": {},
   "outputs": [
    {
     "data": {
      "text/html": [
       "<div>\n",
       "<style>\n",
       "    .dataframe thead tr:only-child th {\n",
       "        text-align: right;\n",
       "    }\n",
       "\n",
       "    .dataframe thead th {\n",
       "        text-align: left;\n",
       "    }\n",
       "\n",
       "    .dataframe tbody tr th {\n",
       "        vertical-align: top;\n",
       "    }\n",
       "</style>\n",
       "<table border=\"1\" class=\"dataframe\">\n",
       "  <thead>\n",
       "    <tr style=\"text-align: right;\">\n",
       "      <th></th>\n",
       "      <th>price</th>\n",
       "      <th>sq_feet</th>\n",
       "      <th>quality</th>\n",
       "      <th>overBudget?</th>\n",
       "    </tr>\n",
       "  </thead>\n",
       "  <tbody>\n",
       "    <tr>\n",
       "      <th>0</th>\n",
       "      <td>30992.64</td>\n",
       "      <td>718</td>\n",
       "      <td>38</td>\n",
       "      <td>0</td>\n",
       "    </tr>\n",
       "    <tr>\n",
       "      <th>1</th>\n",
       "      <td>21187.60</td>\n",
       "      <td>601</td>\n",
       "      <td>30</td>\n",
       "      <td>0</td>\n",
       "    </tr>\n",
       "    <tr>\n",
       "      <th>2</th>\n",
       "      <td>47161.68</td>\n",
       "      <td>896</td>\n",
       "      <td>41</td>\n",
       "      <td>0</td>\n",
       "    </tr>\n",
       "    <tr>\n",
       "      <th>3</th>\n",
       "      <td>15338.82</td>\n",
       "      <td>421</td>\n",
       "      <td>19</td>\n",
       "      <td>0</td>\n",
       "    </tr>\n",
       "    <tr>\n",
       "      <th>4</th>\n",
       "      <td>29759.07</td>\n",
       "      <td>551</td>\n",
       "      <td>49</td>\n",
       "      <td>0</td>\n",
       "    </tr>\n",
       "  </tbody>\n",
       "</table>\n",
       "</div>"
      ],
      "text/plain": [
       "      price  sq_feet  quality  overBudget?\n",
       "0  30992.64      718       38            0\n",
       "1  21187.60      601       30            0\n",
       "2  47161.68      896       41            0\n",
       "3  15338.82      421       19            0\n",
       "4  29759.07      551       49            0"
      ]
     },
     "execution_count": 23,
     "metadata": {},
     "output_type": "execute_result"
    }
   ],
   "source": [
    "# First, i'm going to say that my budget for buying a house is $60,000\n",
    "\n",
    "def expensive(x):\n",
    "    if x> 60000:\n",
    "        return 1\n",
    "    else:\n",
    "        return 0\n",
    "    \n",
    "house['overBudget?'] = house['price'].apply(expensive)\n",
    "house.head()"
   ]
  },
  {
   "cell_type": "code",
   "execution_count": 24,
   "metadata": {},
   "outputs": [
    {
     "data": {
      "text/html": [
       "<div>\n",
       "<style>\n",
       "    .dataframe thead tr:only-child th {\n",
       "        text-align: right;\n",
       "    }\n",
       "\n",
       "    .dataframe thead th {\n",
       "        text-align: left;\n",
       "    }\n",
       "\n",
       "    .dataframe tbody tr th {\n",
       "        vertical-align: top;\n",
       "    }\n",
       "</style>\n",
       "<table border=\"1\" class=\"dataframe\">\n",
       "  <thead>\n",
       "    <tr style=\"text-align: right;\">\n",
       "      <th></th>\n",
       "      <th>sq_feet</th>\n",
       "      <th>quality</th>\n",
       "      <th>overBudget?</th>\n",
       "    </tr>\n",
       "  </thead>\n",
       "  <tbody>\n",
       "    <tr>\n",
       "      <th>0</th>\n",
       "      <td>718</td>\n",
       "      <td>38</td>\n",
       "      <td>0</td>\n",
       "    </tr>\n",
       "    <tr>\n",
       "      <th>1</th>\n",
       "      <td>601</td>\n",
       "      <td>30</td>\n",
       "      <td>0</td>\n",
       "    </tr>\n",
       "    <tr>\n",
       "      <th>2</th>\n",
       "      <td>896</td>\n",
       "      <td>41</td>\n",
       "      <td>0</td>\n",
       "    </tr>\n",
       "    <tr>\n",
       "      <th>3</th>\n",
       "      <td>421</td>\n",
       "      <td>19</td>\n",
       "      <td>0</td>\n",
       "    </tr>\n",
       "    <tr>\n",
       "      <th>4</th>\n",
       "      <td>551</td>\n",
       "      <td>49</td>\n",
       "      <td>0</td>\n",
       "    </tr>\n",
       "  </tbody>\n",
       "</table>\n",
       "</div>"
      ],
      "text/plain": [
       "   sq_feet  quality  overBudget?\n",
       "0      718       38            0\n",
       "1      601       30            0\n",
       "2      896       41            0\n",
       "3      421       19            0\n",
       "4      551       49            0"
      ]
     },
     "execution_count": 24,
     "metadata": {},
     "output_type": "execute_result"
    }
   ],
   "source": [
    "# Dropping price because we don't need it\n",
    "\n",
    "house_dich = house.drop('price',axis=1)\n",
    "house_dich.head()"
   ]
  },
  {
   "cell_type": "code",
   "execution_count": 25,
   "metadata": {
    "collapsed": true
   },
   "outputs": [],
   "source": [
    "X = house[['sq_feet','quality']]  # Seperating out X's and Y's\n",
    "Y = house[['overBudget?']]"
   ]
  },
  {
   "cell_type": "code",
   "execution_count": 26,
   "metadata": {},
   "outputs": [
    {
     "name": "stderr",
     "output_type": "stream",
     "text": [
      "C:\\devtool\\app\\Anaconda3\\lib\\site-packages\\sklearn\\utils\\validation.py:526: DataConversionWarning: A column-vector y was passed when a 1d array was expected. Please change the shape of y to (n_samples, ), for example using ravel().\n",
      "  y = column_or_1d(y, warn=True)\n"
     ]
    },
    {
     "data": {
      "text/plain": [
       "0.92615769712140172"
      ]
     },
     "execution_count": 26,
     "metadata": {},
     "output_type": "execute_result"
    }
   ],
   "source": [
    "# Let's see how accurately we can predict whether a house is over budget using sq_feet and quality\n",
    "\n",
    "from sklearn.linear_model import LogisticRegression\n",
    "from sklearn.cross_validation import train_test_split\n",
    "from sklearn import metrics\n",
    "\n",
    "model = LogisticRegression()\n",
    "model = model.fit(X,Y)\n",
    "model.score(X,Y)"
   ]
  },
  {
   "cell_type": "code",
   "execution_count": 27,
   "metadata": {},
   "outputs": [
    {
     "name": "stdout",
     "output_type": "stream",
     "text": [
      "overBudget?    0.441802\n",
      "dtype: float64\n"
     ]
    }
   ],
   "source": [
    "# First, let's see how many houses are actually over budget for me:\n",
    "\n",
    "print(Y.mean())"
   ]
  },
  {
   "cell_type": "markdown",
   "metadata": {},
   "source": [
    "This is looking decent! Roughly half the houses are over budget for me, but using quality and sq_feet, we've managed to predict 93% of houses correctly."
   ]
  },
  {
   "cell_type": "markdown",
   "metadata": {},
   "source": [
    "### All looks go so far, but take it with a grain of salt until we perform validation"
   ]
  },
  {
   "cell_type": "code",
   "execution_count": 28,
   "metadata": {},
   "outputs": [
    {
     "name": "stdout",
     "output_type": "stream",
     "text": [
      "(535, 2)\n",
      "(264, 2)\n",
      "(535, 1)\n",
      "(264, 1)\n"
     ]
    }
   ],
   "source": [
    "X_train, X_test, Y_train, Y_test = train_test_split(X,Y,test_size = 0.33)\n",
    "print(X_train.shape)\n",
    "print(X_test.shape)\n",
    "print(Y_train.shape)\n",
    "print(Y_test.shape)"
   ]
  },
  {
   "cell_type": "code",
   "execution_count": 29,
   "metadata": {},
   "outputs": [
    {
     "name": "stderr",
     "output_type": "stream",
     "text": [
      "C:\\devtool\\app\\Anaconda3\\lib\\site-packages\\sklearn\\utils\\validation.py:526: DataConversionWarning: A column-vector y was passed when a 1d array was expected. Please change the shape of y to (n_samples, ), for example using ravel().\n",
      "  y = column_or_1d(y, warn=True)\n"
     ]
    },
    {
     "data": {
      "text/plain": [
       "0.92149532710280369"
      ]
     },
     "execution_count": 29,
     "metadata": {},
     "output_type": "execute_result"
    }
   ],
   "source": [
    "model = model.fit(X_train,Y_train)\n",
    "train_preds = model.predict(X_train)\n",
    "model.score(X_train,Y_train)\n"
   ]
  },
  {
   "cell_type": "markdown",
   "metadata": {},
   "source": [
    "A little lower training score than before, but let's see how our test score is"
   ]
  },
  {
   "cell_type": "code",
   "execution_count": 30,
   "metadata": {},
   "outputs": [
    {
     "name": "stdout",
     "output_type": "stream",
     "text": [
      "0.924242424242\n"
     ]
    }
   ],
   "source": [
    "test_pred = model.predict(X_test)\n",
    "print(model.score(X_test,Y_test))"
   ]
  },
  {
   "cell_type": "code",
   "execution_count": 31,
   "metadata": {},
   "outputs": [
    {
     "name": "stdout",
     "output_type": "stream",
     "text": [
      "[1 0 1 0 0 1 0 1 0 1 1 1 1 0 1 0 0 0 0 1 1 1 0 1 1 0 1 1 0 0 1 1 1 0 0 0 1\n",
      " 1 0 0 1 1 1 1 1 1 0 0 0 0 1 1 0 0 1 0 0 0 0 0 0 0 0 0 0 0 1 1 1 0 1 1 0 0\n",
      " 0 0 1 0 0 0 0 0 0 0 1 0 0 0 0 1 1 1 0 0 1 0 1 0 1 0 0 0 0 1 1 1 0 0 0 0 1\n",
      " 1 1 0 0 0 0 1 1 0 1 1 0 0 0 0 1 0 0 1 0 0 0 1 1 1 1 0 0 0 0 0 0 0 0 0 0 0\n",
      " 0 1 0 0 0 1 1 0 0 1 1 0 1 0 1 0 0 0 1 0 1 0 0 0 0 1 1 1 0 1 1 1 1 1 0 1 1\n",
      " 0 1 0 0 0 1 1 1 1 0 1 0 0 0 0 0 1 1 0 0 0 1 0 0 1 1 1 0 0 1 0 0 1 0 0 0 0\n",
      " 1 0 0 1 0 1 1 0 1 1 1 1 1 0 1 1 1 0 1 0 0 0 1 1 1 0 1 0 1 1 1 0 0 0 0 0 0\n",
      " 0 1 1 0 1]\n"
     ]
    }
   ],
   "source": [
    "print(test_pred)"
   ]
  },
  {
   "cell_type": "code",
   "execution_count": 32,
   "metadata": {},
   "outputs": [
    {
     "name": "stdout",
     "output_type": "stream",
     "text": [
      "[[ 0.36924944  0.63075056]\n",
      " [ 0.55399126  0.44600874]\n",
      " [ 0.02896551  0.97103449]\n",
      " [ 0.95639288  0.04360712]\n",
      " [ 0.87854818  0.12145182]\n",
      " [ 0.02001796  0.97998204]\n",
      " [ 0.94743232  0.05256768]\n",
      " [ 0.04498233  0.95501767]\n",
      " [ 0.9175207   0.0824793 ]\n",
      " [ 0.4938871   0.5061129 ]\n",
      " [ 0.00379136  0.99620864]\n",
      " [ 0.25870213  0.74129787]\n",
      " [ 0.27116149  0.72883851]\n",
      " [ 0.78717155  0.21282845]\n",
      " [ 0.25370343  0.74629657]\n",
      " [ 0.92982086  0.07017914]\n",
      " [ 0.99826923  0.00173077]\n",
      " [ 0.99193783  0.00806217]\n",
      " [ 0.97520791  0.02479209]\n",
      " [ 0.01152575  0.98847425]\n",
      " [ 0.00980578  0.99019422]\n",
      " [ 0.24165623  0.75834377]\n",
      " [ 0.50718657  0.49281343]\n",
      " [ 0.01856334  0.98143666]\n",
      " [ 0.31967826  0.68032174]\n",
      " [ 0.87509704  0.12490296]\n",
      " [ 0.15685586  0.84314414]\n",
      " [ 0.31083436  0.68916564]\n",
      " [ 0.86776622  0.13223378]\n",
      " [ 0.87091837  0.12908163]\n",
      " [ 0.16065441  0.83934559]\n",
      " [ 0.23248841  0.76751159]\n",
      " [ 0.20014301  0.79985699]\n",
      " [ 0.7144951   0.2855049 ]\n",
      " [ 0.7879219   0.2120781 ]\n",
      " [ 0.86745103  0.13254897]\n",
      " [ 0.12729609  0.87270391]\n",
      " [ 0.01998415  0.98001585]\n",
      " [ 0.99460609  0.00539391]\n",
      " [ 0.8262335   0.1737665 ]\n",
      " [ 0.41049732  0.58950268]\n",
      " [ 0.06379896  0.93620104]\n",
      " [ 0.00380649  0.99619351]\n",
      " [ 0.00719157  0.99280843]\n",
      " [ 0.39387005  0.60612995]\n",
      " [ 0.23697511  0.76302489]\n",
      " [ 0.95659058  0.04340942]\n",
      " [ 0.59817436  0.40182564]\n",
      " [ 0.96035456  0.03964544]\n",
      " [ 0.97535834  0.02464166]\n",
      " [ 0.00635746  0.99364254]\n",
      " [ 0.03957807  0.96042193]\n",
      " [ 0.76207391  0.23792609]\n",
      " [ 0.70231825  0.29768175]\n",
      " [ 0.09446903  0.90553097]\n",
      " [ 0.86053167  0.13946833]\n",
      " [ 0.89969134  0.10030866]\n",
      " [ 0.87007173  0.12992827]\n",
      " [ 0.99414545  0.00585455]\n",
      " [ 0.90908179  0.09091821]\n",
      " [ 0.75252153  0.24747847]\n",
      " [ 0.81158379  0.18841621]\n",
      " [ 0.8662112   0.1337888 ]\n",
      " [ 0.78120936  0.21879064]\n",
      " [ 0.61214025  0.38785975]\n",
      " [ 0.6220542   0.3779458 ]\n",
      " [ 0.37872369  0.62127631]\n",
      " [ 0.40538452  0.59461548]\n",
      " [ 0.3298036   0.6701964 ]\n",
      " [ 0.70700071  0.29299929]\n",
      " [ 0.12356735  0.87643265]\n",
      " [ 0.16855093  0.83144907]\n",
      " [ 0.79635541  0.20364459]\n",
      " [ 0.96375465  0.03624535]\n",
      " [ 0.97620786  0.02379214]\n",
      " [ 0.69002485  0.30997515]\n",
      " [ 0.1874303   0.8125697 ]\n",
      " [ 0.79049898  0.20950102]\n",
      " [ 0.58216067  0.41783933]\n",
      " [ 0.56070286  0.43929714]\n",
      " [ 0.93098441  0.06901559]\n",
      " [ 0.97204968  0.02795032]\n",
      " [ 0.89556089  0.10443911]\n",
      " [ 0.85492602  0.14507398]\n",
      " [ 0.03089326  0.96910674]\n",
      " [ 0.58823113  0.41176887]\n",
      " [ 0.96262962  0.03737038]\n",
      " [ 0.86328999  0.13671001]\n",
      " [ 0.92633739  0.07366261]\n",
      " [ 0.09502317  0.90497683]\n",
      " [ 0.36316114  0.63683886]\n",
      " [ 0.26821222  0.73178778]\n",
      " [ 0.9104539   0.0895461 ]\n",
      " [ 0.88647419  0.11352581]\n",
      " [ 0.00656754  0.99343246]\n",
      " [ 0.51728977  0.48271023]\n",
      " [ 0.20687231  0.79312769]\n",
      " [ 0.58108056  0.41891944]\n",
      " [ 0.14094271  0.85905729]\n",
      " [ 0.9871621   0.0128379 ]\n",
      " [ 0.52482994  0.47517006]\n",
      " [ 0.97424744  0.02575256]\n",
      " [ 0.559907    0.440093  ]\n",
      " [ 0.04514293  0.95485707]\n",
      " [ 0.0828777   0.9171223 ]\n",
      " [ 0.34635204  0.65364796]\n",
      " [ 0.94351766  0.05648234]\n",
      " [ 0.64449812  0.35550188]\n",
      " [ 0.58702284  0.41297716]\n",
      " [ 0.80947444  0.19052556]\n",
      " [ 0.45132246  0.54867754]\n",
      " [ 0.07985316  0.92014684]\n",
      " [ 0.40388113  0.59611887]\n",
      " [ 0.50579948  0.49420052]\n",
      " [ 0.99058869  0.00941131]\n",
      " [ 0.818138    0.181862  ]\n",
      " [ 0.67524711  0.32475289]\n",
      " [ 0.40339807  0.59660193]\n",
      " [ 0.215271    0.784729  ]\n",
      " [ 0.98967422  0.01032578]\n",
      " [ 0.13573782  0.86426218]\n",
      " [ 0.14473403  0.85526597]\n",
      " [ 0.74803552  0.25196448]\n",
      " [ 0.9169338   0.0830662 ]\n",
      " [ 0.9486488   0.0513512 ]\n",
      " [ 0.94822242  0.05177758]\n",
      " [ 0.06535221  0.93464779]\n",
      " [ 0.95332637  0.04667363]\n",
      " [ 0.95922729  0.04077271]\n",
      " [ 0.41020495  0.58979505]\n",
      " [ 0.53944055  0.46055945]\n",
      " [ 0.70901685  0.29098315]\n",
      " [ 0.79045236  0.20954764]\n",
      " [ 0.47430207  0.52569793]\n",
      " [ 0.00728678  0.99271322]\n",
      " [ 0.21522087  0.78477913]\n",
      " [ 0.32431643  0.67568357]\n",
      " [ 0.92315497  0.07684503]\n",
      " [ 0.5824769   0.4175231 ]\n",
      " [ 0.63064094  0.36935906]\n",
      " [ 0.98725043  0.01274957]\n",
      " [ 0.91755518  0.08244482]\n",
      " [ 0.69002158  0.30997842]\n",
      " [ 0.94806132  0.05193868]\n",
      " [ 0.65184244  0.34815756]\n",
      " [ 0.70590829  0.29409171]\n",
      " [ 0.92864021  0.07135979]\n",
      " [ 0.9569208   0.0430792 ]\n",
      " [ 0.99867689  0.00132311]\n",
      " [ 0.10636712  0.89363288]\n",
      " [ 0.88876398  0.11123602]\n",
      " [ 0.63163014  0.36836986]\n",
      " [ 0.9924689   0.0075311 ]\n",
      " [ 0.43531144  0.56468856]\n",
      " [ 0.03277153  0.96722847]\n",
      " [ 0.91236805  0.08763195]\n",
      " [ 0.95827045  0.04172955]\n",
      " [ 0.01009116  0.98990884]\n",
      " [ 0.00970686  0.99029314]\n",
      " [ 0.79346686  0.20653314]\n",
      " [ 0.30684137  0.69315863]\n",
      " [ 0.99293912  0.00706088]\n",
      " [ 0.00429239  0.99570761]\n",
      " [ 0.87444087  0.12555913]\n",
      " [ 0.99623032  0.00376968]\n",
      " [ 0.68621906  0.31378094]\n",
      " [ 0.08383369  0.91616631]\n",
      " [ 0.80192248  0.19807752]\n",
      " [ 0.39464519  0.60535481]\n",
      " [ 0.99732169  0.00267831]\n",
      " [ 0.56665706  0.43334294]\n",
      " [ 0.9768883   0.0231117 ]\n",
      " [ 0.82207291  0.17792709]\n",
      " [ 0.02757243  0.97242757]\n",
      " [ 0.39912286  0.60087714]\n",
      " [ 0.17045346  0.82954654]\n",
      " [ 0.99070433  0.00929567]\n",
      " [ 0.03330551  0.96669449]\n",
      " [ 0.4030852   0.5969148 ]\n",
      " [ 0.0112862   0.9887138 ]\n",
      " [ 0.38071808  0.61928192]\n",
      " [ 0.0062744   0.9937256 ]\n",
      " [ 0.96671114  0.03328886]\n",
      " [ 0.39094676  0.60905324]\n",
      " [ 0.48495031  0.51504969]\n",
      " [ 0.92449333  0.07550667]\n",
      " [ 0.25083442  0.74916558]\n",
      " [ 0.59948909  0.40051091]\n",
      " [ 0.95045502  0.04954498]\n",
      " [ 0.97384991  0.02615009]\n",
      " [ 0.06948153  0.93051847]\n",
      " [ 0.18481538  0.81518462]\n",
      " [ 0.49819098  0.50180902]\n",
      " [ 0.03422677  0.96577323]\n",
      " [ 0.93214787  0.06785213]\n",
      " [ 0.25107306  0.74892694]\n",
      " [ 0.73758244  0.26241756]\n",
      " [ 0.99470577  0.00529423]\n",
      " [ 0.55497896  0.44502104]\n",
      " [ 0.89305784  0.10694216]\n",
      " [ 0.72223175  0.27776825]\n",
      " [ 0.01562463  0.98437537]\n",
      " [ 0.27387544  0.72612456]\n",
      " [ 0.75253293  0.24746707]\n",
      " [ 0.95311316  0.04688684]\n",
      " [ 0.52065223  0.47934777]\n",
      " [ 0.08167246  0.91832754]\n",
      " [ 0.96364882  0.03635118]\n",
      " [ 0.89635165  0.10364835]\n",
      " [ 0.14194797  0.85805203]\n",
      " [ 0.03039584  0.96960416]\n",
      " [ 0.17487259  0.82512741]\n",
      " [ 0.99775815  0.00224185]\n",
      " [ 0.98097609  0.01902391]\n",
      " [ 0.11158373  0.88841627]\n",
      " [ 0.99774976  0.00225024]\n",
      " [ 0.57204697  0.42795303]\n",
      " [ 0.03161147  0.96838853]\n",
      " [ 0.93774826  0.06225174]\n",
      " [ 0.93294682  0.06705318]\n",
      " [ 0.98073702  0.01926298]\n",
      " [ 0.93214787  0.06785213]\n",
      " [ 0.06815422  0.93184578]\n",
      " [ 0.77713279  0.22286721]\n",
      " [ 0.74354375  0.25645625]\n",
      " [ 0.16292114  0.83707886]\n",
      " [ 0.97138392  0.02861608]\n",
      " [ 0.15383782  0.84616218]\n",
      " [ 0.0942975   0.9057025 ]\n",
      " [ 0.88380582  0.11619418]\n",
      " [ 0.09608146  0.90391854]\n",
      " [ 0.41352097  0.58647903]\n",
      " [ 0.00237054  0.99762946]\n",
      " [ 0.01362651  0.98637349]\n",
      " [ 0.01546411  0.98453589]\n",
      " [ 0.66509605  0.33490395]\n",
      " [ 0.20479109  0.79520891]\n",
      " [ 0.3288786   0.6711214 ]\n",
      " [ 0.1496243   0.8503757 ]\n",
      " [ 0.73850094  0.26149906]\n",
      " [ 0.14127899  0.85872101]\n",
      " [ 0.76786956  0.23213044]\n",
      " [ 0.67425954  0.32574046]\n",
      " [ 0.52172024  0.47827976]\n",
      " [ 0.48465233  0.51534767]\n",
      " [ 0.35134195  0.64865805]\n",
      " [ 0.37789772  0.62210228]\n",
      " [ 0.95607794  0.04392206]\n",
      " [ 0.07129436  0.92870564]\n",
      " [ 0.7386492   0.2613508 ]\n",
      " [ 0.16415436  0.83584564]\n",
      " [ 0.11242439  0.88757561]\n",
      " [ 0.04267898  0.95732102]\n",
      " [ 0.89474262  0.10525738]\n",
      " [ 0.93818524  0.06181476]\n",
      " [ 0.86373346  0.13626654]\n",
      " [ 0.9940532   0.0059468 ]\n",
      " [ 0.98351154  0.01648846]\n",
      " [ 0.90030229  0.09969771]\n",
      " [ 0.97282585  0.02717415]\n",
      " [ 0.31442625  0.68557375]\n",
      " [ 0.27537761  0.72462239]\n",
      " [ 0.98390331  0.01609669]\n",
      " [ 0.00928413  0.99071587]]\n"
     ]
    }
   ],
   "source": [
    "probs = model.predict_proba(X_test)\n",
    "print(probs)"
   ]
  },
  {
   "cell_type": "markdown",
   "metadata": {},
   "source": [
    "### As you can see, everytime the probability of 1 is > 50%, the model is predicting a 1. "
   ]
  },
  {
   "cell_type": "code",
   "execution_count": 33,
   "metadata": {},
   "outputs": [
    {
     "name": "stdout",
     "output_type": "stream",
     "text": [
      "[[140  11]\n",
      " [  9 104]]\n"
     ]
    }
   ],
   "source": [
    "# Confusion Matrix to see false positives and negatives\n",
    "\n",
    "print(metrics.confusion_matrix(Y_test, test_pred))"
   ]
  },
  {
   "cell_type": "markdown",
   "metadata": {},
   "source": [
    "### 135 under budget houses were predicted correctly, 7 were predicted to be over budget when they were actually under budget, 11 were thought to be under budget when they were actually over budget, and 111 over budget houses were predicted correctly."
   ]
  },
  {
   "cell_type": "markdown",
   "metadata": {},
   "source": [
    "## Final Scores:"
   ]
  },
  {
   "cell_type": "code",
   "execution_count": 34,
   "metadata": {},
   "outputs": [
    {
     "name": "stdout",
     "output_type": "stream",
     "text": [
      "Train accuracy score:  0.921495327103\n",
      "Test accuracy score:  0.924242424242\n"
     ]
    }
   ],
   "source": [
    "print(\"Train accuracy score: \", sklearn.metrics.accuracy_score(Y_train, train_preds))\n",
    "print(\"Test accuracy score: \", sklearn.metrics.accuracy_score(Y_test, test_pred))"
   ]
  },
  {
   "cell_type": "code",
   "execution_count": 35,
   "metadata": {},
   "outputs": [
    {
     "name": "stdout",
     "output_type": "stream",
     "text": [
      "             precision    recall  f1-score   support\n",
      "\n",
      "          0       0.94      0.93      0.93       151\n",
      "          1       0.90      0.92      0.91       113\n",
      "\n",
      "avg / total       0.92      0.92      0.92       264\n",
      "\n"
     ]
    }
   ],
   "source": [
    "# This still doesn't mean much. What if there are very few occurences at all of the positive?\n",
    "# Say 99% of the houses here are under my budget. Then just by randomly guessing 0 every time, you'll have an accuracy\n",
    "# score of 99%\n",
    "# Classification Report solves that issue, by giving us some important metrics\n",
    "\n",
    "print(metrics.classification_report(Y_test, test_pred))"
   ]
  },
  {
   "cell_type": "markdown",
   "metadata": {},
   "source": [
    "**Precision** is how good the model is not labelling positives as negatives. tp/(tp+fp) (agressive approach) <br>\n",
    "**Recall** is the ability of the model to find all the positives. tp/(tp+fn) (conservative approach) <br>\n",
    "**F1-score** is the weighted mean of precision and recall. 1 is the best value and 0 is the worst. <br>"
   ]
  },
  {
   "cell_type": "markdown",
   "metadata": {},
   "source": [
    "For fun, let's predict if a 1500 sq ft house with a 60 quality rating will be in imy budget. "
   ]
  },
  {
   "cell_type": "code",
   "execution_count": 36,
   "metadata": {},
   "outputs": [
    {
     "name": "stderr",
     "output_type": "stream",
     "text": [
      "C:\\devtool\\app\\Anaconda3\\lib\\site-packages\\sklearn\\utils\\validation.py:395: DeprecationWarning: Passing 1d arrays as data is deprecated in 0.17 and will raise ValueError in 0.19. Reshape your data either using X.reshape(-1, 1) if your data has a single feature or X.reshape(1, -1) if it contains a single sample.\n",
      "  DeprecationWarning)\n"
     ]
    },
    {
     "data": {
      "text/plain": [
       "array([[ 0.18042004,  0.81957996]])"
      ]
     },
     "execution_count": 36,
     "metadata": {},
     "output_type": "execute_result"
    }
   ],
   "source": [
    "model.predict_proba(np.array([1500,60]))"
   ]
  },
  {
   "cell_type": "markdown",
   "metadata": {},
   "source": [
    "### There's an ~81% chance that a 1500 sq ft house with a 60 quality score is over my budget."
   ]
  },
  {
   "cell_type": "markdown",
   "metadata": {},
   "source": [
    "## Dummy Variables and Logistic Regressions\n",
    "\n",
    "We can also use categorical variables as predictors in logistic regressions, we just have to turn them into dummy features."
   ]
  },
  {
   "cell_type": "code",
   "execution_count": 37,
   "metadata": {},
   "outputs": [
    {
     "data": {
      "text/html": [
       "<div>\n",
       "<style>\n",
       "    .dataframe thead tr:only-child th {\n",
       "        text-align: right;\n",
       "    }\n",
       "\n",
       "    .dataframe thead th {\n",
       "        text-align: left;\n",
       "    }\n",
       "\n",
       "    .dataframe tbody tr th {\n",
       "        vertical-align: top;\n",
       "    }\n",
       "</style>\n",
       "<table border=\"1\" class=\"dataframe\">\n",
       "  <thead>\n",
       "    <tr style=\"text-align: right;\">\n",
       "      <th></th>\n",
       "      <th>rentals</th>\n",
       "      <th>day_of_week</th>\n",
       "      <th>season</th>\n",
       "      <th>holiday</th>\n",
       "      <th>temp</th>\n",
       "      <th>humidity</th>\n",
       "    </tr>\n",
       "  </thead>\n",
       "  <tbody>\n",
       "    <tr>\n",
       "      <th>0</th>\n",
       "      <td>109</td>\n",
       "      <td>Monday</td>\n",
       "      <td>Spring</td>\n",
       "      <td>0</td>\n",
       "      <td>21</td>\n",
       "      <td>0.500</td>\n",
       "    </tr>\n",
       "    <tr>\n",
       "      <th>1</th>\n",
       "      <td>45</td>\n",
       "      <td>Tuesday</td>\n",
       "      <td>Spring</td>\n",
       "      <td>1</td>\n",
       "      <td>25</td>\n",
       "      <td>0.414</td>\n",
       "    </tr>\n",
       "    <tr>\n",
       "      <th>2</th>\n",
       "      <td>63</td>\n",
       "      <td>Wednesday</td>\n",
       "      <td>Spring</td>\n",
       "      <td>0</td>\n",
       "      <td>15</td>\n",
       "      <td>0.352</td>\n",
       "    </tr>\n",
       "    <tr>\n",
       "      <th>3</th>\n",
       "      <td>105</td>\n",
       "      <td>Thursday</td>\n",
       "      <td>Spring</td>\n",
       "      <td>0</td>\n",
       "      <td>26</td>\n",
       "      <td>0.305</td>\n",
       "    </tr>\n",
       "    <tr>\n",
       "      <th>4</th>\n",
       "      <td>20</td>\n",
       "      <td>Friday</td>\n",
       "      <td>Spring</td>\n",
       "      <td>1</td>\n",
       "      <td>10</td>\n",
       "      <td>0.236</td>\n",
       "    </tr>\n",
       "  </tbody>\n",
       "</table>\n",
       "</div>"
      ],
      "text/plain": [
       "   rentals day_of_week  season  holiday  temp  humidity\n",
       "0      109      Monday  Spring        0    21     0.500\n",
       "1       45     Tuesday  Spring        1    25     0.414\n",
       "2       63   Wednesday  Spring        0    15     0.352\n",
       "3      105    Thursday  Spring        0    26     0.305\n",
       "4       20      Friday  Spring        1    10     0.236"
      ]
     },
     "execution_count": 37,
     "metadata": {},
     "output_type": "execute_result"
    }
   ],
   "source": [
    "bike = pd.read_csv('bike_rentals.csv')\n",
    "bike.head()"
   ]
  },
  {
   "cell_type": "code",
   "execution_count": 38,
   "metadata": {},
   "outputs": [
    {
     "data": {
      "text/html": [
       "<div>\n",
       "<style>\n",
       "    .dataframe thead tr:only-child th {\n",
       "        text-align: right;\n",
       "    }\n",
       "\n",
       "    .dataframe thead th {\n",
       "        text-align: left;\n",
       "    }\n",
       "\n",
       "    .dataframe tbody tr th {\n",
       "        vertical-align: top;\n",
       "    }\n",
       "</style>\n",
       "<table border=\"1\" class=\"dataframe\">\n",
       "  <thead>\n",
       "    <tr style=\"text-align: right;\">\n",
       "      <th></th>\n",
       "      <th>rentals</th>\n",
       "      <th>day_of_week</th>\n",
       "      <th>season</th>\n",
       "      <th>holiday</th>\n",
       "      <th>temp</th>\n",
       "      <th>humidity</th>\n",
       "      <th>over100</th>\n",
       "    </tr>\n",
       "  </thead>\n",
       "  <tbody>\n",
       "    <tr>\n",
       "      <th>0</th>\n",
       "      <td>109</td>\n",
       "      <td>Monday</td>\n",
       "      <td>Spring</td>\n",
       "      <td>0</td>\n",
       "      <td>21</td>\n",
       "      <td>0.500</td>\n",
       "      <td>1</td>\n",
       "    </tr>\n",
       "    <tr>\n",
       "      <th>1</th>\n",
       "      <td>45</td>\n",
       "      <td>Tuesday</td>\n",
       "      <td>Spring</td>\n",
       "      <td>1</td>\n",
       "      <td>25</td>\n",
       "      <td>0.414</td>\n",
       "      <td>0</td>\n",
       "    </tr>\n",
       "    <tr>\n",
       "      <th>2</th>\n",
       "      <td>63</td>\n",
       "      <td>Wednesday</td>\n",
       "      <td>Spring</td>\n",
       "      <td>0</td>\n",
       "      <td>15</td>\n",
       "      <td>0.352</td>\n",
       "      <td>0</td>\n",
       "    </tr>\n",
       "    <tr>\n",
       "      <th>3</th>\n",
       "      <td>105</td>\n",
       "      <td>Thursday</td>\n",
       "      <td>Spring</td>\n",
       "      <td>0</td>\n",
       "      <td>26</td>\n",
       "      <td>0.305</td>\n",
       "      <td>1</td>\n",
       "    </tr>\n",
       "    <tr>\n",
       "      <th>4</th>\n",
       "      <td>20</td>\n",
       "      <td>Friday</td>\n",
       "      <td>Spring</td>\n",
       "      <td>1</td>\n",
       "      <td>10</td>\n",
       "      <td>0.236</td>\n",
       "      <td>0</td>\n",
       "    </tr>\n",
       "  </tbody>\n",
       "</table>\n",
       "</div>"
      ],
      "text/plain": [
       "   rentals day_of_week  season  holiday  temp  humidity  over100\n",
       "0      109      Monday  Spring        0    21     0.500        1\n",
       "1       45     Tuesday  Spring        1    25     0.414        0\n",
       "2       63   Wednesday  Spring        0    15     0.352        0\n",
       "3      105    Thursday  Spring        0    26     0.305        1\n",
       "4       20      Friday  Spring        1    10     0.236        0"
      ]
     },
     "execution_count": 38,
     "metadata": {},
     "output_type": "execute_result"
    }
   ],
   "source": [
    "# We will be predicting if there will be over 100 bicycle's rented out on any particular day, using only some features\n",
    "\n",
    "def over100(x):\n",
    "    if x>100:\n",
    "        return 1\n",
    "    else:\n",
    "        return 0\n",
    "bike['over100'] = bike['rentals'].apply(over100)\n",
    "bike.head()"
   ]
  },
  {
   "cell_type": "code",
   "execution_count": 39,
   "metadata": {},
   "outputs": [
    {
     "data": {
      "text/html": [
       "<div>\n",
       "<style>\n",
       "    .dataframe thead tr:only-child th {\n",
       "        text-align: right;\n",
       "    }\n",
       "\n",
       "    .dataframe thead th {\n",
       "        text-align: left;\n",
       "    }\n",
       "\n",
       "    .dataframe tbody tr th {\n",
       "        vertical-align: top;\n",
       "    }\n",
       "</style>\n",
       "<table border=\"1\" class=\"dataframe\">\n",
       "  <thead>\n",
       "    <tr style=\"text-align: right;\">\n",
       "      <th></th>\n",
       "      <th>season</th>\n",
       "      <th>day_of_week</th>\n",
       "      <th>holiday</th>\n",
       "      <th>temp</th>\n",
       "      <th>humidity</th>\n",
       "      <th>over100</th>\n",
       "    </tr>\n",
       "  </thead>\n",
       "  <tbody>\n",
       "    <tr>\n",
       "      <th>0</th>\n",
       "      <td>Spring</td>\n",
       "      <td>Monday</td>\n",
       "      <td>0</td>\n",
       "      <td>21</td>\n",
       "      <td>0.500</td>\n",
       "      <td>1</td>\n",
       "    </tr>\n",
       "    <tr>\n",
       "      <th>1</th>\n",
       "      <td>Spring</td>\n",
       "      <td>Tuesday</td>\n",
       "      <td>1</td>\n",
       "      <td>25</td>\n",
       "      <td>0.414</td>\n",
       "      <td>0</td>\n",
       "    </tr>\n",
       "    <tr>\n",
       "      <th>2</th>\n",
       "      <td>Spring</td>\n",
       "      <td>Wednesday</td>\n",
       "      <td>0</td>\n",
       "      <td>15</td>\n",
       "      <td>0.352</td>\n",
       "      <td>0</td>\n",
       "    </tr>\n",
       "    <tr>\n",
       "      <th>3</th>\n",
       "      <td>Spring</td>\n",
       "      <td>Thursday</td>\n",
       "      <td>0</td>\n",
       "      <td>26</td>\n",
       "      <td>0.305</td>\n",
       "      <td>1</td>\n",
       "    </tr>\n",
       "    <tr>\n",
       "      <th>4</th>\n",
       "      <td>Spring</td>\n",
       "      <td>Friday</td>\n",
       "      <td>1</td>\n",
       "      <td>10</td>\n",
       "      <td>0.236</td>\n",
       "      <td>0</td>\n",
       "    </tr>\n",
       "  </tbody>\n",
       "</table>\n",
       "</div>"
      ],
      "text/plain": [
       "   season day_of_week  holiday  temp  humidity  over100\n",
       "0  Spring      Monday        0    21     0.500        1\n",
       "1  Spring     Tuesday        1    25     0.414        0\n",
       "2  Spring   Wednesday        0    15     0.352        0\n",
       "3  Spring    Thursday        0    26     0.305        1\n",
       "4  Spring      Friday        1    10     0.236        0"
      ]
     },
     "execution_count": 39,
     "metadata": {},
     "output_type": "execute_result"
    }
   ],
   "source": [
    "# Just dropping price in a vry long winded way\n",
    "\n",
    "bikes = bike[['season','day_of_week','holiday','temp','humidity','over100']]  \n",
    "bikes.head()"
   ]
  },
  {
   "cell_type": "code",
   "execution_count": 40,
   "metadata": {},
   "outputs": [
    {
     "data": {
      "text/html": [
       "<div>\n",
       "<style>\n",
       "    .dataframe thead tr:only-child th {\n",
       "        text-align: right;\n",
       "    }\n",
       "\n",
       "    .dataframe thead th {\n",
       "        text-align: left;\n",
       "    }\n",
       "\n",
       "    .dataframe tbody tr th {\n",
       "        vertical-align: top;\n",
       "    }\n",
       "</style>\n",
       "<table border=\"1\" class=\"dataframe\">\n",
       "  <thead>\n",
       "    <tr style=\"text-align: right;\">\n",
       "      <th></th>\n",
       "      <th>holiday</th>\n",
       "      <th>temp</th>\n",
       "      <th>humidity</th>\n",
       "      <th>over100</th>\n",
       "      <th>dum_Spring</th>\n",
       "      <th>dum_Summer</th>\n",
       "      <th>dum_Winter</th>\n",
       "      <th>dum_Friday</th>\n",
       "      <th>dum_Saturday</th>\n",
       "      <th>dum_Sunday</th>\n",
       "      <th>dum_Thursday</th>\n",
       "      <th>dum_Tuesday</th>\n",
       "      <th>dum_Wednesday</th>\n",
       "    </tr>\n",
       "  </thead>\n",
       "  <tbody>\n",
       "    <tr>\n",
       "      <th>0</th>\n",
       "      <td>0</td>\n",
       "      <td>21</td>\n",
       "      <td>0.500</td>\n",
       "      <td>1</td>\n",
       "      <td>1</td>\n",
       "      <td>0</td>\n",
       "      <td>0</td>\n",
       "      <td>0</td>\n",
       "      <td>0</td>\n",
       "      <td>0</td>\n",
       "      <td>0</td>\n",
       "      <td>0</td>\n",
       "      <td>0</td>\n",
       "    </tr>\n",
       "    <tr>\n",
       "      <th>1</th>\n",
       "      <td>1</td>\n",
       "      <td>25</td>\n",
       "      <td>0.414</td>\n",
       "      <td>0</td>\n",
       "      <td>1</td>\n",
       "      <td>0</td>\n",
       "      <td>0</td>\n",
       "      <td>0</td>\n",
       "      <td>0</td>\n",
       "      <td>0</td>\n",
       "      <td>0</td>\n",
       "      <td>1</td>\n",
       "      <td>0</td>\n",
       "    </tr>\n",
       "    <tr>\n",
       "      <th>2</th>\n",
       "      <td>0</td>\n",
       "      <td>15</td>\n",
       "      <td>0.352</td>\n",
       "      <td>0</td>\n",
       "      <td>1</td>\n",
       "      <td>0</td>\n",
       "      <td>0</td>\n",
       "      <td>0</td>\n",
       "      <td>0</td>\n",
       "      <td>0</td>\n",
       "      <td>0</td>\n",
       "      <td>0</td>\n",
       "      <td>1</td>\n",
       "    </tr>\n",
       "    <tr>\n",
       "      <th>3</th>\n",
       "      <td>0</td>\n",
       "      <td>26</td>\n",
       "      <td>0.305</td>\n",
       "      <td>1</td>\n",
       "      <td>1</td>\n",
       "      <td>0</td>\n",
       "      <td>0</td>\n",
       "      <td>0</td>\n",
       "      <td>0</td>\n",
       "      <td>0</td>\n",
       "      <td>1</td>\n",
       "      <td>0</td>\n",
       "      <td>0</td>\n",
       "    </tr>\n",
       "    <tr>\n",
       "      <th>4</th>\n",
       "      <td>1</td>\n",
       "      <td>10</td>\n",
       "      <td>0.236</td>\n",
       "      <td>0</td>\n",
       "      <td>1</td>\n",
       "      <td>0</td>\n",
       "      <td>0</td>\n",
       "      <td>1</td>\n",
       "      <td>0</td>\n",
       "      <td>0</td>\n",
       "      <td>0</td>\n",
       "      <td>0</td>\n",
       "      <td>0</td>\n",
       "    </tr>\n",
       "  </tbody>\n",
       "</table>\n",
       "</div>"
      ],
      "text/plain": [
       "   holiday  temp  humidity  over100  dum_Spring  dum_Summer  dum_Winter  \\\n",
       "0        0    21     0.500        1           1           0           0   \n",
       "1        1    25     0.414        0           1           0           0   \n",
       "2        0    15     0.352        0           1           0           0   \n",
       "3        0    26     0.305        1           1           0           0   \n",
       "4        1    10     0.236        0           1           0           0   \n",
       "\n",
       "   dum_Friday  dum_Saturday  dum_Sunday  dum_Thursday  dum_Tuesday  \\\n",
       "0           0             0           0             0            0   \n",
       "1           0             0           0             0            1   \n",
       "2           0             0           0             0            0   \n",
       "3           0             0           0             1            0   \n",
       "4           1             0           0             0            0   \n",
       "\n",
       "   dum_Wednesday  \n",
       "0              0  \n",
       "1              0  \n",
       "2              1  \n",
       "3              0  \n",
       "4              0  "
      ]
     },
     "execution_count": 40,
     "metadata": {},
     "output_type": "execute_result"
    }
   ],
   "source": [
    "# Getting dummies for all cat variables (season & day_of_week)\n",
    "\n",
    "df_dummies = pd.get_dummies(bikes,prefix = 'dum')\n",
    "logit_data = df_dummies.drop(['dum_Fall','dum_Monday'],axis=1) # Anyone know why we do this?\n",
    "logit_data.head()"
   ]
  },
  {
   "cell_type": "code",
   "execution_count": 41,
   "metadata": {
    "collapsed": true
   },
   "outputs": [],
   "source": [
    "# Taking out our X's and Y's \n",
    "\n",
    "X = logit_data.drop('over100',axis=1)\n",
    "Y = logit_data[['over100']]"
   ]
  },
  {
   "cell_type": "code",
   "execution_count": 42,
   "metadata": {},
   "outputs": [
    {
     "name": "stderr",
     "output_type": "stream",
     "text": [
      "C:\\devtool\\app\\Anaconda3\\lib\\site-packages\\sklearn\\utils\\validation.py:526: DataConversionWarning: A column-vector y was passed when a 1d array was expected. Please change the shape of y to (n_samples, ), for example using ravel().\n",
      "  y = column_or_1d(y, warn=True)\n"
     ]
    },
    {
     "data": {
      "text/plain": [
       "0.87637362637362637"
      ]
     },
     "execution_count": 42,
     "metadata": {},
     "output_type": "execute_result"
    }
   ],
   "source": [
    "logit = LogisticRegression()\n",
    "mod1 = logit.fit(X,Y)\n",
    "mod1.score(X,Y)"
   ]
  },
  {
   "cell_type": "code",
   "execution_count": 43,
   "metadata": {},
   "outputs": [
    {
     "data": {
      "text/plain": [
       "over100    0.203297\n",
       "dtype: float64"
      ]
     },
     "execution_count": 43,
     "metadata": {},
     "output_type": "execute_result"
    }
   ],
   "source": [
    "Y.mean()"
   ]
  },
  {
   "cell_type": "markdown",
   "metadata": {},
   "source": [
    "### That's an impressive jump in accuracy! Only 20% of the days had over 100 bike rentals, but we were able to predict them with ~88% accuracy. Again, remember the validation, and don't forget the salt"
   ]
  },
  {
   "cell_type": "code",
   "execution_count": 44,
   "metadata": {},
   "outputs": [
    {
     "name": "stdout",
     "output_type": "stream",
     "text": [
      "(243, 12)\n",
      "(121, 12)\n",
      "(243, 1)\n",
      "(121, 1)\n"
     ]
    }
   ],
   "source": [
    "X_train, X_test, Y_train, Y_test = train_test_split(X,Y,test_size = 0.33)\n",
    "print(X_train.shape)\n",
    "print(X_test.shape)\n",
    "print(Y_train.shape)\n",
    "print(Y_test.shape)"
   ]
  },
  {
   "cell_type": "code",
   "execution_count": 45,
   "metadata": {},
   "outputs": [
    {
     "name": "stderr",
     "output_type": "stream",
     "text": [
      "C:\\devtool\\app\\Anaconda3\\lib\\site-packages\\sklearn\\utils\\validation.py:526: DataConversionWarning: A column-vector y was passed when a 1d array was expected. Please change the shape of y to (n_samples, ), for example using ravel().\n",
      "  y = column_or_1d(y, warn=True)\n"
     ]
    },
    {
     "data": {
      "text/plain": [
       "0.89711934156378603"
      ]
     },
     "execution_count": 45,
     "metadata": {},
     "output_type": "execute_result"
    }
   ],
   "source": [
    "mod2 = logit.fit(X_train,Y_train)\n",
    "train_preds = mod2.predict(X_train)\n",
    "mod2.score(X_train,Y_train)"
   ]
  },
  {
   "cell_type": "markdown",
   "metadata": {},
   "source": [
    "Accuracy score not too different"
   ]
  },
  {
   "cell_type": "code",
   "execution_count": 46,
   "metadata": {},
   "outputs": [
    {
     "name": "stderr",
     "output_type": "stream",
     "text": [
      "C:\\devtool\\app\\Anaconda3\\lib\\site-packages\\sklearn\\utils\\validation.py:526: DataConversionWarning: A column-vector y was passed when a 1d array was expected. Please change the shape of y to (n_samples, ), for example using ravel().\n",
      "  y = column_or_1d(y, warn=True)\n"
     ]
    },
    {
     "data": {
      "text/plain": [
       "0.85123966942148765"
      ]
     },
     "execution_count": 46,
     "metadata": {},
     "output_type": "execute_result"
    }
   ],
   "source": [
    "mod3 = logit.fit(X_test,Y_test)\n",
    "test_preds = mod3.predict(X_test)\n",
    "mod3.score(X_test,Y_test)"
   ]
  },
  {
   "cell_type": "code",
   "execution_count": 47,
   "metadata": {},
   "outputs": [
    {
     "name": "stdout",
     "output_type": "stream",
     "text": [
      "Train score:  0.818930041152\n",
      "Test score:  0.851239669421\n"
     ]
    }
   ],
   "source": [
    "print(\"Train score: \",mod2.score(X_train,Y_train))\n",
    "print(\"Test score: \",mod3.score(X_test,Y_test))"
   ]
  },
  {
   "cell_type": "markdown",
   "metadata": {},
   "source": [
    "### Increased accuracy score in test set, but still quite similar to train, so it looks good! \n",
    "\n",
    "### 85% of the time, it works every time!"
   ]
  },
  {
   "cell_type": "code",
   "execution_count": 48,
   "metadata": {},
   "outputs": [
    {
     "name": "stdout",
     "output_type": "stream",
     "text": [
      "[[94  2]\n",
      " [16  9]]\n"
     ]
    }
   ],
   "source": [
    "print(metrics.confusion_matrix(Y_test, test_preds))"
   ]
  },
  {
   "cell_type": "markdown",
   "metadata": {},
   "source": [
    "However, the confusion matrix tells a different story. 11/16 (~70%) are false positives\n",
    "\n"
   ]
  },
  {
   "cell_type": "code",
   "execution_count": 49,
   "metadata": {},
   "outputs": [
    {
     "name": "stdout",
     "output_type": "stream",
     "text": [
      "             precision    recall  f1-score   support\n",
      "\n",
      "          0       0.85      0.98      0.91        96\n",
      "          1       0.82      0.36      0.50        25\n",
      "\n",
      "avg / total       0.85      0.85      0.83       121\n",
      "\n"
     ]
    }
   ],
   "source": [
    "print(metrics.classification_report(Y_test, test_preds))"
   ]
  },
  {
   "cell_type": "markdown",
   "metadata": {},
   "source": [
    "# In-Class (& Out-of-Class) Activity 4:\n",
    "\n",
    "Remember the Human Resource dataset? Use logistic regressions to find the best model you can to predict if an employee will leave the company or not. \n",
    "\n",
    "Make sure to validate it! \n"
   ]
  },
  {
   "cell_type": "code",
   "execution_count": 50,
   "metadata": {},
   "outputs": [
    {
     "data": {
      "text/html": [
       "<div>\n",
       "<style>\n",
       "    .dataframe thead tr:only-child th {\n",
       "        text-align: right;\n",
       "    }\n",
       "\n",
       "    .dataframe thead th {\n",
       "        text-align: left;\n",
       "    }\n",
       "\n",
       "    .dataframe tbody tr th {\n",
       "        vertical-align: top;\n",
       "    }\n",
       "</style>\n",
       "<table border=\"1\" class=\"dataframe\">\n",
       "  <thead>\n",
       "    <tr style=\"text-align: right;\">\n",
       "      <th></th>\n",
       "      <th>satisfaction_level</th>\n",
       "      <th>last_evaluation</th>\n",
       "      <th>number_project</th>\n",
       "      <th>average_montly_hours</th>\n",
       "      <th>time_spend_company</th>\n",
       "      <th>Work_accident</th>\n",
       "      <th>left</th>\n",
       "      <th>promotion_last_5years</th>\n",
       "      <th>sales</th>\n",
       "      <th>salary</th>\n",
       "    </tr>\n",
       "  </thead>\n",
       "  <tbody>\n",
       "    <tr>\n",
       "      <th>0</th>\n",
       "      <td>0.38</td>\n",
       "      <td>0.53</td>\n",
       "      <td>2</td>\n",
       "      <td>157</td>\n",
       "      <td>3</td>\n",
       "      <td>0</td>\n",
       "      <td>1</td>\n",
       "      <td>0</td>\n",
       "      <td>sales</td>\n",
       "      <td>low</td>\n",
       "    </tr>\n",
       "    <tr>\n",
       "      <th>1</th>\n",
       "      <td>0.80</td>\n",
       "      <td>0.86</td>\n",
       "      <td>5</td>\n",
       "      <td>262</td>\n",
       "      <td>6</td>\n",
       "      <td>0</td>\n",
       "      <td>1</td>\n",
       "      <td>0</td>\n",
       "      <td>sales</td>\n",
       "      <td>medium</td>\n",
       "    </tr>\n",
       "    <tr>\n",
       "      <th>2</th>\n",
       "      <td>0.11</td>\n",
       "      <td>0.88</td>\n",
       "      <td>7</td>\n",
       "      <td>272</td>\n",
       "      <td>4</td>\n",
       "      <td>0</td>\n",
       "      <td>1</td>\n",
       "      <td>0</td>\n",
       "      <td>sales</td>\n",
       "      <td>medium</td>\n",
       "    </tr>\n",
       "    <tr>\n",
       "      <th>3</th>\n",
       "      <td>0.72</td>\n",
       "      <td>0.87</td>\n",
       "      <td>5</td>\n",
       "      <td>223</td>\n",
       "      <td>5</td>\n",
       "      <td>0</td>\n",
       "      <td>1</td>\n",
       "      <td>0</td>\n",
       "      <td>sales</td>\n",
       "      <td>low</td>\n",
       "    </tr>\n",
       "    <tr>\n",
       "      <th>4</th>\n",
       "      <td>0.37</td>\n",
       "      <td>0.52</td>\n",
       "      <td>2</td>\n",
       "      <td>159</td>\n",
       "      <td>3</td>\n",
       "      <td>0</td>\n",
       "      <td>1</td>\n",
       "      <td>0</td>\n",
       "      <td>sales</td>\n",
       "      <td>low</td>\n",
       "    </tr>\n",
       "  </tbody>\n",
       "</table>\n",
       "</div>"
      ],
      "text/plain": [
       "   satisfaction_level  last_evaluation  number_project  average_montly_hours  \\\n",
       "0                0.38             0.53               2                   157   \n",
       "1                0.80             0.86               5                   262   \n",
       "2                0.11             0.88               7                   272   \n",
       "3                0.72             0.87               5                   223   \n",
       "4                0.37             0.52               2                   159   \n",
       "\n",
       "   time_spend_company  Work_accident  left  promotion_last_5years  sales  \\\n",
       "0                   3              0     1                      0  sales   \n",
       "1                   6              0     1                      0  sales   \n",
       "2                   4              0     1                      0  sales   \n",
       "3                   5              0     1                      0  sales   \n",
       "4                   3              0     1                      0  sales   \n",
       "\n",
       "   salary  \n",
       "0     low  \n",
       "1  medium  \n",
       "2  medium  \n",
       "3     low  \n",
       "4     low  "
      ]
     },
     "execution_count": 50,
     "metadata": {},
     "output_type": "execute_result"
    }
   ],
   "source": [
    "# Your code below:\n",
    "hr_df = pd.read_csv('hr_data.csv')\n",
    "hr_df.head()\n"
   ]
  },
  {
   "cell_type": "code",
   "execution_count": 51,
   "metadata": {},
   "outputs": [
    {
     "data": {
      "text/plain": [
       "['satisfaction_level',\n",
       " 'last_evaluation',\n",
       " 'number_project',\n",
       " 'average_montly_hours',\n",
       " 'time_spend_company',\n",
       " 'Work_accident',\n",
       " 'left',\n",
       " 'promotion_last_5years',\n",
       " 'dummy_IT',\n",
       " 'dummy_RandD',\n",
       " 'dummy_accounting',\n",
       " 'dummy_hr',\n",
       " 'dummy_management',\n",
       " 'dummy_marketing',\n",
       " 'dummy_product_mng',\n",
       " 'dummy_sales',\n",
       " 'dummy_support',\n",
       " 'dummy_technical',\n",
       " 'dummy_high',\n",
       " 'dummy_low',\n",
       " 'dummy_medium']"
      ]
     },
     "execution_count": 51,
     "metadata": {},
     "output_type": "execute_result"
    }
   ],
   "source": [
    "hr_df_dummy = pd.get_dummies(hr_df, prefix='dummy')\n",
    "hr_df_dummy.head()\n",
    "list(hr_df_dummy)"
   ]
  },
  {
   "cell_type": "code",
   "execution_count": 52,
   "metadata": {},
   "outputs": [
    {
     "data": {
      "text/plain": [
       "'\\nimport seaborn as sns\\n\\ncorrelations_map= hr_df_dummy.corr()\\nplt.figure(figsize=(15, 15))\\nsns.heatmap(correlations_map, annot=True, cbar=True, cmap=\"coolwarm_r\")\\nplt.xticks(rotation=90, fontsize=15)\\nplt.yticks(rotation=0, fontsize=15)\\nplt.show()\\n'"
      ]
     },
     "execution_count": 52,
     "metadata": {},
     "output_type": "execute_result"
    }
   ],
   "source": [
    "'''\n",
    "import seaborn as sns\n",
    "\n",
    "correlations_map= hr_df_dummy.corr()\n",
    "plt.figure(figsize=(15, 15))\n",
    "sns.heatmap(correlations_map, annot=True, cbar=True, cmap=\"coolwarm_r\")\n",
    "plt.xticks(rotation=90, fontsize=15)\n",
    "plt.yticks(rotation=0, fontsize=15)\n",
    "plt.show()\n",
    "'''"
   ]
  },
  {
   "cell_type": "code",
   "execution_count": 60,
   "metadata": {
    "collapsed": true
   },
   "outputs": [],
   "source": [
    "#factors: all except left\n",
    "#prediction: left (0 or 1)\n",
    "#'dummy_IT', 'dummy_RandD', 'dummy_accounting', 'dummy_hr', 'dummy_management', 'dummy_marketing', 'dummy_product_mng', 'dummy_support', 'dummy_technical', \n",
    "\n",
    "X = hr_df_dummy.drop(['left', 'last_evaluation', 'dummy_high'], axis=1)\n",
    "Y = hr_df_dummy[['left']]\n"
   ]
  },
  {
   "cell_type": "code",
   "execution_count": 61,
   "metadata": {},
   "outputs": [
    {
     "name": "stderr",
     "output_type": "stream",
     "text": [
      "C:\\devtool\\app\\Anaconda3\\lib\\site-packages\\sklearn\\utils\\validation.py:526: DataConversionWarning: A column-vector y was passed when a 1d array was expected. Please change the shape of y to (n_samples, ), for example using ravel().\n",
      "  y = column_or_1d(y, warn=True)\n"
     ]
    },
    {
     "data": {
      "text/plain": [
       "0.7959197279818655"
      ]
     },
     "execution_count": 61,
     "metadata": {},
     "output_type": "execute_result"
    }
   ],
   "source": [
    "hr_model = LogisticRegression()\n",
    "hr_model.fit(X, Y)\n",
    "hr_model.score(X, Y)"
   ]
  },
  {
   "cell_type": "code",
   "execution_count": 62,
   "metadata": {},
   "outputs": [
    {
     "data": {
      "text/plain": [
       "left    0.238083\n",
       "dtype: float64"
      ]
     },
     "execution_count": 62,
     "metadata": {},
     "output_type": "execute_result"
    }
   ],
   "source": [
    "Y.mean()"
   ]
  },
  {
   "cell_type": "code",
   "execution_count": 69,
   "metadata": {},
   "outputs": [
    {
     "name": "stdout",
     "output_type": "stream",
     "text": [
      "(14849, 18)\n",
      "(150, 18)\n",
      "(14849, 1)\n",
      "(150, 1)\n"
     ]
    }
   ],
   "source": [
    "#Validation\n",
    "X_train, X_test, Y_train, Y_test = train_test_split(X, Y, test_size = 0.01)\n",
    "print(X_train.shape)\n",
    "print(X_test.shape)\n",
    "print(Y_train.shape)\n",
    "print(Y_test.shape)"
   ]
  },
  {
   "cell_type": "code",
   "execution_count": 70,
   "metadata": {},
   "outputs": [
    {
     "name": "stderr",
     "output_type": "stream",
     "text": [
      "C:\\devtool\\app\\Anaconda3\\lib\\site-packages\\sklearn\\utils\\validation.py:526: DataConversionWarning: A column-vector y was passed when a 1d array was expected. Please change the shape of y to (n_samples, ), for example using ravel().\n",
      "  y = column_or_1d(y, warn=True)\n"
     ]
    },
    {
     "data": {
      "text/plain": [
       "0.79567647653040607"
      ]
     },
     "execution_count": 70,
     "metadata": {},
     "output_type": "execute_result"
    }
   ],
   "source": [
    "hr_model.fit(X_train, Y_train)\n",
    "train_predicts = hr_model.predict(X_train)\n",
    "hr_model.score(X_train, Y_train)"
   ]
  },
  {
   "cell_type": "code",
   "execution_count": 72,
   "metadata": {},
   "outputs": [
    {
     "data": {
      "text/plain": [
       "0.80000000000000004"
      ]
     },
     "execution_count": 72,
     "metadata": {},
     "output_type": "execute_result"
    }
   ],
   "source": [
    "test_predicts = hr_model.predict(X_test)\n",
    "hr_model.score(X_test, Y_test)"
   ]
  },
  {
   "cell_type": "code",
   "execution_count": 73,
   "metadata": {},
   "outputs": [
    {
     "data": {
      "text/plain": [
       "left    0.233333\n",
       "dtype: float64"
      ]
     },
     "execution_count": 73,
     "metadata": {},
     "output_type": "execute_result"
    }
   ],
   "source": [
    "Y_test.mean()"
   ]
  },
  {
   "cell_type": "code",
   "execution_count": 74,
   "metadata": {
    "scrolled": false
   },
   "outputs": [
    {
     "name": "stdout",
     "output_type": "stream",
     "text": [
      "[0 0 0 0 0 0 0 0 1 1 0 0 0 0 0 0 0 1 0 0 0 0 0 0 1 0 0 0 1 0 0 0 0 0 0 0 0\n",
      " 0 0 0 0 0 0 0 0 0 0 0 0 0 0 0 0 0 0 0 0 0 0 0 0 0 0 1 0 0 1 0 0 0 1 0 0 0\n",
      " 0 0 0 0 0 0 0 1 0 0 0 0 1 0 1 0 0 0 1 0 0 0 0 0 0 0 0 0 0 0 0 1 1 0 1 0 0\n",
      " 0 0 0 0 0 0 0 0 1 0 0 0 0 0 0 0 1 0 0 0 0 0 1 0 0 1 0 0 0 0 0 0 1 1 0 0 0\n",
      " 0 0]\n"
     ]
    }
   ],
   "source": [
    "print(test_predicts)"
   ]
  },
  {
   "cell_type": "code",
   "execution_count": 75,
   "metadata": {},
   "outputs": [
    {
     "name": "stdout",
     "output_type": "stream",
     "text": [
      "[[ 0.73629722  0.26370278]\n",
      " [ 0.52122751  0.47877249]\n",
      " [ 0.93867492  0.06132508]\n",
      " [ 0.51496893  0.48503107]\n",
      " [ 0.9700026   0.0299974 ]\n",
      " [ 0.97056921  0.02943079]\n",
      " [ 0.76932198  0.23067802]\n",
      " [ 0.93521902  0.06478098]\n",
      " [ 0.21846191  0.78153809]\n",
      " [ 0.47765231  0.52234769]\n",
      " [ 0.93894207  0.06105793]\n",
      " [ 0.89356317  0.10643683]\n",
      " [ 0.79721604  0.20278396]\n",
      " [ 0.79973521  0.20026479]\n",
      " [ 0.97387228  0.02612772]\n",
      " [ 0.94205129  0.05794871]\n",
      " [ 0.9469288   0.0530712 ]\n",
      " [ 0.49177969  0.50822031]\n",
      " [ 0.86322479  0.13677521]\n",
      " [ 0.78625813  0.21374187]\n",
      " [ 0.68306405  0.31693595]\n",
      " [ 0.65564624  0.34435376]\n",
      " [ 0.93088964  0.06911036]\n",
      " [ 0.82064239  0.17935761]\n",
      " [ 0.23096365  0.76903635]\n",
      " [ 0.82809856  0.17190144]\n",
      " [ 0.81680232  0.18319768]\n",
      " [ 0.99151774  0.00848226]\n",
      " [ 0.27129285  0.72870715]\n",
      " [ 0.95342469  0.04657531]\n",
      " [ 0.94493575  0.05506425]\n",
      " [ 0.54363434  0.45636566]\n",
      " [ 0.9494533   0.0505467 ]\n",
      " [ 0.79843975  0.20156025]\n",
      " [ 0.7268436   0.2731564 ]\n",
      " [ 0.91220179  0.08779821]\n",
      " [ 0.8211989   0.1788011 ]\n",
      " [ 0.92634151  0.07365849]\n",
      " [ 0.98764813  0.01235187]\n",
      " [ 0.9733618   0.0266382 ]\n",
      " [ 0.67671112  0.32328888]\n",
      " [ 0.97275219  0.02724781]\n",
      " [ 0.85998197  0.14001803]\n",
      " [ 0.98195078  0.01804922]\n",
      " [ 0.78922073  0.21077927]\n",
      " [ 0.79158679  0.20841321]\n",
      " [ 0.87841394  0.12158606]\n",
      " [ 0.79052552  0.20947448]\n",
      " [ 0.84481923  0.15518077]\n",
      " [ 0.75523336  0.24476664]\n",
      " [ 0.90673163  0.09326837]\n",
      " [ 0.52804308  0.47195692]\n",
      " [ 0.807221    0.192779  ]\n",
      " [ 0.86085166  0.13914834]\n",
      " [ 0.93306249  0.06693751]\n",
      " [ 0.52522495  0.47477505]\n",
      " [ 0.97099083  0.02900917]\n",
      " [ 0.59881891  0.40118109]\n",
      " [ 0.7890593   0.2109407 ]\n",
      " [ 0.80919852  0.19080148]\n",
      " [ 0.82297762  0.17702238]\n",
      " [ 0.65198377  0.34801623]\n",
      " [ 0.83191549  0.16808451]\n",
      " [ 0.33729483  0.66270517]\n",
      " [ 0.89541361  0.10458639]\n",
      " [ 0.94856915  0.05143085]\n",
      " [ 0.1368385   0.8631615 ]\n",
      " [ 0.945231    0.054769  ]\n",
      " [ 0.88567417  0.11432583]\n",
      " [ 0.8813741   0.1186259 ]\n",
      " [ 0.27427476  0.72572524]\n",
      " [ 0.98333153  0.01666847]\n",
      " [ 0.76936673  0.23063327]\n",
      " [ 0.92739369  0.07260631]\n",
      " [ 0.85607316  0.14392684]\n",
      " [ 0.89015605  0.10984395]\n",
      " [ 0.84775166  0.15224834]\n",
      " [ 0.83713414  0.16286586]\n",
      " [ 0.83467383  0.16532617]\n",
      " [ 0.94172742  0.05827258]\n",
      " [ 0.98253834  0.01746166]\n",
      " [ 0.27424876  0.72575124]\n",
      " [ 0.91213812  0.08786188]\n",
      " [ 0.96383193  0.03616807]\n",
      " [ 0.69476034  0.30523966]\n",
      " [ 0.52696467  0.47303533]\n",
      " [ 0.4961591   0.5038409 ]\n",
      " [ 0.68678875  0.31321125]\n",
      " [ 0.40925722  0.59074278]\n",
      " [ 0.69537681  0.30462319]\n",
      " [ 0.77321881  0.22678119]\n",
      " [ 0.76962892  0.23037108]\n",
      " [ 0.4868442   0.5131558 ]\n",
      " [ 0.97990883  0.02009117]\n",
      " [ 0.93359948  0.06640052]\n",
      " [ 0.8053288   0.1946712 ]\n",
      " [ 0.93660434  0.06339566]\n",
      " [ 0.82709963  0.17290037]\n",
      " [ 0.95938291  0.04061709]\n",
      " [ 0.84363185  0.15636815]\n",
      " [ 0.82086216  0.17913784]\n",
      " [ 0.73088044  0.26911956]\n",
      " [ 0.9232392   0.0767608 ]\n",
      " [ 0.87873228  0.12126772]\n",
      " [ 0.68721742  0.31278258]\n",
      " [ 0.24142827  0.75857173]\n",
      " [ 0.4881584   0.5118416 ]\n",
      " [ 0.73460567  0.26539433]\n",
      " [ 0.4600763   0.5399237 ]\n",
      " [ 0.97239986  0.02760014]\n",
      " [ 0.80717699  0.19282301]\n",
      " [ 0.57134779  0.42865221]\n",
      " [ 0.97646514  0.02353486]\n",
      " [ 0.80851463  0.19148537]\n",
      " [ 0.53835437  0.46164563]\n",
      " [ 0.81804851  0.18195149]\n",
      " [ 0.94258749  0.05741251]\n",
      " [ 0.98275775  0.01724225]\n",
      " [ 0.95403554  0.04596446]\n",
      " [ 0.42978515  0.57021485]\n",
      " [ 0.79761526  0.20238474]\n",
      " [ 0.83504057  0.16495943]\n",
      " [ 0.50268561  0.49731439]\n",
      " [ 0.6474353   0.3525647 ]\n",
      " [ 0.94881835  0.05118165]\n",
      " [ 0.8375179   0.1624821 ]\n",
      " [ 0.88970128  0.11029872]\n",
      " [ 0.37454793  0.62545207]\n",
      " [ 0.63013297  0.36986703]\n",
      " [ 0.97994055  0.02005945]\n",
      " [ 0.85043198  0.14956802]\n",
      " [ 0.65020205  0.34979795]\n",
      " [ 0.9072992   0.0927008 ]\n",
      " [ 0.22035773  0.77964227]\n",
      " [ 0.86209017  0.13790983]\n",
      " [ 0.91048608  0.08951392]\n",
      " [ 0.44869184  0.55130816]\n",
      " [ 0.77690254  0.22309746]\n",
      " [ 0.53493416  0.46506584]\n",
      " [ 0.64985205  0.35014795]\n",
      " [ 0.69668869  0.30331131]\n",
      " [ 0.70921375  0.29078625]\n",
      " [ 0.88967421  0.11032579]\n",
      " [ 0.48181013  0.51818987]\n",
      " [ 0.3548713   0.6451287 ]\n",
      " [ 0.58695474  0.41304526]\n",
      " [ 0.91167137  0.08832863]\n",
      " [ 0.82800188  0.17199812]\n",
      " [ 0.64243433  0.35756567]\n",
      " [ 0.84306323  0.15693677]]\n"
     ]
    }
   ],
   "source": [
    "test_predicts_proba = hr_model.predict_proba(X_test)\n",
    "print(test_predicts_proba)"
   ]
  },
  {
   "cell_type": "code",
   "execution_count": 76,
   "metadata": {},
   "outputs": [
    {
     "name": "stdout",
     "output_type": "stream",
     "text": [
      "             precision    recall  f1-score   support\n",
      "\n",
      "          0       0.83      0.93      0.88       115\n",
      "          1       0.62      0.37      0.46        35\n",
      "\n",
      "avg / total       0.78      0.80      0.78       150\n",
      "\n"
     ]
    }
   ],
   "source": [
    "print(metrics.classification_report(Y_test, test_predicts))"
   ]
  },
  {
   "cell_type": "code",
   "execution_count": 77,
   "metadata": {},
   "outputs": [
    {
     "name": "stdout",
     "output_type": "stream",
     "text": [
      "[[107   8]\n",
      " [ 22  13]]\n"
     ]
    }
   ],
   "source": [
    "print(metrics.confusion_matrix(Y_test, test_predicts))"
   ]
  },
  {
   "cell_type": "code",
   "execution_count": null,
   "metadata": {
    "collapsed": true
   },
   "outputs": [],
   "source": []
  }
 ],
 "metadata": {
  "kernelspec": {
   "display_name": "Python 3",
   "language": "python",
   "name": "python3"
  },
  "language_info": {
   "codemirror_mode": {
    "name": "ipython",
    "version": 3
   },
   "file_extension": ".py",
   "mimetype": "text/x-python",
   "name": "python",
   "nbconvert_exporter": "python",
   "pygments_lexer": "ipython3",
   "version": "3.6.1"
  }
 },
 "nbformat": 4,
 "nbformat_minor": 2
}
