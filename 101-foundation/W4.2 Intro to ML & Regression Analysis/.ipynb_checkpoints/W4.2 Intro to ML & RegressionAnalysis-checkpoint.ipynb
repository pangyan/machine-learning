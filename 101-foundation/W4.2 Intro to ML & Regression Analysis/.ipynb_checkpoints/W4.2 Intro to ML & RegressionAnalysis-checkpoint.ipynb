{
 "cells": [
  {
   "cell_type": "markdown",
   "metadata": {},
   "source": [
    "# Recap & Agenda\n",
    "\n",
    "### Last Class\n",
    "\n",
    "Last class, we learnt the basics of algorithms and scratch coded an algorithm ourselves. By this point you should generally know how algorithms work and how the process of creating one looks like. \n",
    "<br>\n",
    "The process itself is super important, because making a Machine Learning model is usually a much shorter process than cleaning and wrangling the data. While creating our own algorithm from scratch last class, we covered the following steps:\n",
    "\n",
    "1. Collect/Import data <br>\n",
    "2. Clean & Wrangle data <br>\n",
    "3. EDA <br>\n",
    "4. Normalize data (feature scaling) <br>\n",
    "5. Create algo & generate predictions <br>\n",
    "6. Denormalize data <br>\n",
    "7. Calculate error <br>\n",
    "8. Manually consider ways to improve the model, implement changes, and repeat 1-7 <br>\n",
    "    - if changes improve the model keep them <br>\n",
    "    - if changes make the model worse, throw them out\n",
    "    \n",
    "What is different about Machine learning is that there are pre-made algorithms in Python libraries that we can use, essentially OOB. So in essence, learning Machine Learning is not just about learning how to make algorithms, but also learning what every algorithm does, what its use cases and pros & cons.\n",
    "\n",
    "Furthermore, from a beginner's perspective, it is less important to understand the mechanics and the Maths behind each algorithm and more useful to understand where and how they can be applied to derive insight. \n",
    "\n",
    "\n",
    "### Agenda\n",
    "- Introduction to Machine Learning\n",
    "- Introduction to regressions\n",
    "- Linear Regressions\n",
    "- Multivariate Regressions\n",
    "- Logistic Regressions\n",
    "- Mini-project"
   ]
  },
  {
   "cell_type": "markdown",
   "metadata": {},
   "source": [
    "# 1.0 Introduction to Machine Learning\n",
    "\n",
    "Machine Learning is a subset of Artificial Intelligence where it allows computers and computational systems to learn without being told exactly what to look for or being explicitly programmed. \n",
    "\n",
    "Think of Facebook's facial recognition systems, Amazon's or Netflix's recommendation systems; they're all practial applications of ML. It has exploded to the forefront of company's and people's minds because of the explosion in data creation and storage that the world is seeing for the past years. This will only increase, and ML algorithms are a way to extract actionable insight from this data without extensive human input. \n",
    "\n",
    "**How to think of ML algorithms**\n",
    "\n",
    "Think of someone who uses ML algorithms as a car mechanic, who is trying to diagnose and consequently solve problems with customer's cars. He has a wide array of tools at his disposals. But every single tool is only good for very specific tasks. The mechanic needs to know what tool to apply where so he can easily and efficiently diagnose and solve issues (e.g. he would not be a very good mechanic if he tried painting the car with a hammer). \n",
    "\n",
    "A Machine Learning Engineer is very similar to a mechanic by that analogy. There are hundreds upon hundreds of algorithms and statistical techniques that exist, and it is very important to know which technique to use for what purpose. In this vein, as we introduce numerous Machine Learning algorithms, we will talk about\n",
    "- What it does, some of it's basic mechanics  \n",
    "- Most common use cases\n",
    "- Pros and cons \n",
    "- How to implement it in Python & intepret results\n",
    "\n",
    "\n",
    "### Supervised vs Unsupervised Learning\n",
    "\n",
    "In general, Machine Learning algorithms can be classified into two categories: Supervised and Unsupervised. It's important to understand the differences between them to see how we can categorise these algorithms and see where they can be used. \n",
    "\n",
    "**Supervised Learning**\n",
    "\n",
    "Supervised Learning is when an algorithm reqruies input variables (your Xs) and output variables (your Ys). Supervised algorithms in general try to use the Xs to make predictions on Y, and when you have newly gathered data, they can use the model to predict the Ys. All predictive algorithms by definition then fall into the supervised category. In actuality, this is the category in which most Machine Learning algorithms fall.\n",
    "\n",
    "Examples of Supervised algorithms are regressions, decision trees, KNNs etc. \n",
    "\n",
    "**Unsupervised Learning**\n",
    "\n",
    "This class of algorithms does not require any output variables (Ys), and is not geared for predictions. Rather you are trying to find the inherent patters and distributions in your dataset, which is often then used to inform more predictive ventures. \n",
    "\n",
    "Examples of unsupervised learning algorithms are k-means and hierarchical clustering, gaussian mixture models, some forms of Neural Networks etc.\n"
   ]
  },
  {
   "cell_type": "markdown",
   "metadata": {},
   "source": [
    "# 2.0 Regression Analysis\n",
    "\n",
    "### What are regressions anyways?\n",
    "\n",
    "Regressions are techniques to find the significance of the relationship between a Y (dependent variable), and one (or numerous) X (independent variable). \n",
    "\n",
    "Regression are very popular and are very widely used in many many industries and sectors, because they are very simple ways to build predictive models. It's trivial to check how 'good' your model is, check your error, and tweak it to make it better.\n",
    "\n",
    "For example, let's say we had a data set of houses with four characteristics: square footage, location, building age and price it last sold for. Let's say you're trying to predict price and are trying to find other variables that strogly affect price.\n",
    "\n",
    "To do that, you can run linear regression on price as the dependent variable (your Y), and other variables one by one as X. You can also combine all your variables to run a multivariate regression.\n",
    "\n",
    "To emphasize, the idea behind this is really simple. All you're doing is fitting a straight line to a set of observations. \n",
    "\n",
    "The method usually used is called OLS (Ordinary Least Squares), where it tries to minize the squared errors between the line and each point. That's it! Python does this all for you, and I won't go into the mechanics of this, but it is very useful as you will see!  \n",
    "\n",
    "This is the regression equation:\n",
    "    \n",
    "Y = β0 + β1*X1 + β2*X2 + … + βn*Xn  (same as y = mx + c)\n",
    " \n",
    " X1, X2 ... Xn are called the 'predictor' variables, that we are using to predict the dependent variable. This is because you can use the equation of the line to predict unobserved values."
   ]
  },
  {
   "cell_type": "markdown",
   "metadata": {},
   "source": [
    "### 2.1 Linear Regressions\n",
    "\n",
    "Linear Regressions are the simplest types of regressions where you have one X predicting a Y. Often used to see the impact an independent variable has on the dependent variable, these are more useful for EDA and less practical. \n",
    "\n",
    "**Use Cases & Data Types:** Linear regressins can basically be used anywhere you have continous data (any possible values between a range, range can be between infinities). Y is something you are trying to predict (housing price in the above example), and your X is one of your conitnuous, independent variables.\n",
    "\n",
    "**Pros:** \n",
    "- Simple to understand and execute\n",
    "- Computationally inexpensive\n",
    "- Easy to spot relationships and interpret output\n",
    "\n",
    "**Cons:**\n",
    "- Only a linear fit can be discerned (bad at predicting non-linear datasets, i.e. most)\n",
    "- Very sensitive to outliers\n",
    "- Drawbacks in real life practicalities"
   ]
  },
  {
   "cell_type": "code",
   "execution_count": 1,
   "metadata": {},
   "outputs": [
    {
     "data": {
      "text/html": [
       "<div>\n",
       "<style>\n",
       "    .dataframe thead tr:only-child th {\n",
       "        text-align: right;\n",
       "    }\n",
       "\n",
       "    .dataframe thead th {\n",
       "        text-align: left;\n",
       "    }\n",
       "\n",
       "    .dataframe tbody tr th {\n",
       "        vertical-align: top;\n",
       "    }\n",
       "</style>\n",
       "<table border=\"1\" class=\"dataframe\">\n",
       "  <thead>\n",
       "    <tr style=\"text-align: right;\">\n",
       "      <th></th>\n",
       "      <th>price</th>\n",
       "      <th>sq_feet</th>\n",
       "      <th>quality</th>\n",
       "    </tr>\n",
       "  </thead>\n",
       "  <tbody>\n",
       "    <tr>\n",
       "      <th>0</th>\n",
       "      <td>30992.64</td>\n",
       "      <td>718</td>\n",
       "      <td>38</td>\n",
       "    </tr>\n",
       "    <tr>\n",
       "      <th>1</th>\n",
       "      <td>21187.60</td>\n",
       "      <td>601</td>\n",
       "      <td>30</td>\n",
       "    </tr>\n",
       "    <tr>\n",
       "      <th>2</th>\n",
       "      <td>47161.68</td>\n",
       "      <td>896</td>\n",
       "      <td>41</td>\n",
       "    </tr>\n",
       "    <tr>\n",
       "      <th>3</th>\n",
       "      <td>15338.82</td>\n",
       "      <td>421</td>\n",
       "      <td>19</td>\n",
       "    </tr>\n",
       "    <tr>\n",
       "      <th>4</th>\n",
       "      <td>29759.07</td>\n",
       "      <td>551</td>\n",
       "      <td>49</td>\n",
       "    </tr>\n",
       "  </tbody>\n",
       "</table>\n",
       "</div>"
      ],
      "text/plain": [
       "      price  sq_feet  quality\n",
       "0  30992.64      718       38\n",
       "1  21187.60      601       30\n",
       "2  47161.68      896       41\n",
       "3  15338.82      421       19\n",
       "4  29759.07      551       49"
      ]
     },
     "execution_count": 1,
     "metadata": {},
     "output_type": "execute_result"
    }
   ],
   "source": [
    "import pandas as pd\n",
    "\n",
    "house = pd.read_csv('housing_prices.csv')\n",
    "house.head()  # Clearly, out Y here is price and X's are sq_feet and quality"
   ]
  },
  {
   "cell_type": "code",
   "execution_count": 2,
   "metadata": {},
   "outputs": [
    {
     "data": {
      "image/png": "[encoded data removed]",
      "text/plain": [
       "<matplotlib.figure.Figure at 0x161ec339780>"
      ]
     },
     "metadata": {},
     "output_type": "display_data"
    }
   ],
   "source": [
    "# Let's first see if we can spot a relationship again between quality and price\n",
    "\n",
    "import matplotlib.pyplot as plt\n",
    "\n",
    "plt.figure(figsize=(16,12))\n",
    "plt.scatter(house['quality'],house['price'])\n",
    "plt.xlabel('Quality',fontsize=20)\n",
    "plt.ylabel('Price',fontsize=20)\n",
    "plt.show()\n"
   ]
  },
  {
   "cell_type": "code",
   "execution_count": 25,
   "metadata": {},
   "outputs": [
    {
     "name": "stdout",
     "output_type": "stream",
     "text": [
      "[ 38  30  41  19  49  88  95  80  38  54  56  49  87  21  12  94  21  78\n",
      "  93  48  15  14  32  40  93  51  32  89  58  32  91  80  94  15  50  99\n",
      "  96  22  28  41  61  85  17  83  34  76  23   7  60  68  84  12  42  80\n",
      "  48  72  63  93  30  50  46  99  87  10  87  33  62  88  52  87  14  22\n",
      "   4  80  64  59  85   1   1  21  87   3  50  82  25  20  52  19  15   1\n",
      "  10  79   2  54  96  40  32  76  37 100   3  68  97  37  49  18  19  29\n",
      "  98  97  53  90  29  56  72  28   8  39  78  65  60  52  70  27  89  99\n",
      "  31   8  87  67  10  37  79  15  95  58  15  44  20  58  13  86  77  76\n",
      "  28  48   8   8  95  87  41  47  55  92  34   3 100  21  10  48  93  89\n",
      "  29  12  44  59 100  37   2  36  97  28  60  30  55   1  64  38  97  65\n",
      "  75  57  44  64  33  60  75  84  28  86  50  53  33  61  35  58  96  17\n",
      "  30   5  29  79  75   6  16  49  57  66  97  21   5  32  30  36  25  46\n",
      "  43  55  77  82   7  67  58  54  66  17  57   3  49  11  41  36  18  33\n",
      "  69  57  59  86  54  50  32  26  34  27   2  32  75  82   3  62  66   6\n",
      "  68  92  78  99  17  55   7  40  96  89  59  37  90   2  92  39  81  84\n",
      "  10  70  54  20  49  79  45  94  40   8  82  56  19 100  72  12   5  29\n",
      "  17  98  87  37  48  66  75  96  10  43  74   5  15  17  42  59  30  75\n",
      "  53  63   6  12  33  98  76   8  42  40  91   3 100  98   2  18 100  72\n",
      "  67  68  81  31  62  78  71  12  29  73  45  54  53  15  57   3  76  65\n",
      "  70  73  50  82  12  10  23  70  16  86  33  75  78  49  31   3  11   5\n",
      "  58  98  28  46  62  62  17  38  21  45  63  52  71  33  38   5  85  43\n",
      "  53  32  45  68  26  12  27  65  31  63  37  86  15  29   4  44  16  13\n",
      "   8  70  57  36  70  91  41  64  50  38  95  32  23  44  47  57   9  87\n",
      "  30  25  25  50  81  70  20  28  61  97  73  53   8   5  97  16  72  17\n",
      "  25  82  17  41  22  57  71  68  39  76  50   3  85  83  96  38  71  41\n",
      "  13  47  29  46  57  44  75  40  10  83  39  89  88  74  99   2  20  76\n",
      "   1   5  92  23  93   2   2  60  88  36  87  24  61  22  17  27  32  59\n",
      "  37  48   6   3  90  44  15  65  35  77  58   5  78  88  22  18  32  48\n",
      "  47  30  78  55  63  29   1   3  88  27  25  86  91  28  26   3  53  70\n",
      "  83  26   6  29  76  27  73  31  27  85  44  52  22  78  64   8  59  21\n",
      "  65  35  24  64   7  52  73  74  63  89  14  28  63  55  18  92  10  15\n",
      "  69  38  92  55  70  58  11   7  84  39  84  19  43  68  23  95  90  37\n",
      "  65  10  35  67  35  69  34  20  42  23  81   8  45  68  30  69  68  62\n",
      "  26  71  67  20  44  78  97  24  68  62   4  97  35  13  63  61  32  60\n",
      "  75  80  75   2  70  13  50   6  49  43  66  52  43  26  37  49  11  35\n",
      "  62  10  47   1  39  91  58  31   3  57   2  78 100  10  65  70  79  67\n",
      "  94  31  15  20   5  93   7  80  71  64  18  28  67  56  56  31  71  65\n",
      "  57  22  30  62  45  67  91  31  93  41  46  32  86  55   6  89  31  70\n",
      "  53  99  55  76  90  45  47  29  36  54  34  21  33  87  91  79  32  66\n",
      "  27  90  25  92  47   9  43  67  17  85  66  65  76   6  74  86  28  10\n",
      "  64  26  70  78  28  94  84  89  88  93  18  45  75  40  47  81  17  93\n",
      "  16  91  25  76   4  95  45  79  66  71   2   6  69  54  13  53  58  31\n",
      "  48  49   2  44  64  55  71   9  22  28  52  53  35  87  87  94   5  40\n",
      "  77  76  28  21  93  86  74  10   3  51  44  12  15  50  57  12  12  19\n",
      "  99  30  67  38  21  64  10]\n"
     ]
    }
   ],
   "source": [
    "# Let's clean our data and remove Nulls\n",
    "import numpy as np\n",
    "house_q = house[['price','quality']]\n",
    "house_q = house_q.dropna(how='any')\n",
    "\n",
    "X = np.array(house_q['quality'])\n",
    "Y = np.array(house_q['price'])\n",
    "\n",
    "print(X)\n",
    "\n",
    "X = np.array(house_q['quality']).reshape(799,1)\n",
    "Y = np.array(house_q['price']).reshape(799,1)\n",
    "\n",
    "#print(X)"
   ]
  },
  {
   "cell_type": "code",
   "execution_count": 26,
   "metadata": {
    "collapsed": true
   },
   "outputs": [],
   "source": [
    "#np.array(house_q['price']).reshape"
   ]
  },
  {
   "cell_type": "code",
   "execution_count": 29,
   "metadata": {},
   "outputs": [],
   "source": [
    "import sklearn\n",
    "from sklearn.linear_model import LinearRegression\n",
    "\n",
    "lm = LinearRegression()\n",
    "lm = lm.fit(X,Y)\n",
    "\n",
    "#lm.fit?"
   ]
  },
  {
   "cell_type": "code",
   "execution_count": 30,
   "metadata": {},
   "outputs": [
    {
     "name": "stdout",
     "output_type": "stream",
     "text": [
      "Intercept  [ 5361.44901479]\n",
      "Coefficient  [[ 1207.31991775]]\n"
     ]
    }
   ],
   "source": [
    "# Now we can make our equation!\n",
    "\n",
    "print(\"Intercept \", lm.intercept_)\n",
    "print(\"Coefficient \", lm.coef_)"
   ]
  },
  {
   "cell_type": "code",
   "execution_count": 31,
   "metadata": {},
   "outputs": [
    {
     "name": "stdout",
     "output_type": "stream",
     "text": [
      "MSE:  796036028.08\n"
     ]
    }
   ],
   "source": [
    "preds = lm.predict(X)\n",
    "MSE  = np.mean((Y-preds)**2)\n",
    "print('MSE: ', MSE)"
   ]
  },
  {
   "cell_type": "markdown",
   "metadata": {},
   "source": [
    "Remember our custom algorithm's MSE? It was over a billion. We're already doing better! "
   ]
  },
  {
   "cell_type": "code",
   "execution_count": 33,
   "metadata": {},
   "outputs": [
    {
     "data": {
      "image/png": "[encoded data removed]",
      "text/plain": [
       "<matplotlib.figure.Figure at 0x161edb915f8>"
      ]
     },
     "metadata": {},
     "output_type": "display_data"
    }
   ],
   "source": [
    "# Let's see what the plot shows\n",
    "\n",
    "plt.figure(figsize=(16,12))\n",
    "plt.scatter(X,Y)\n",
    "plt.plot(X,preds,color='r')\n",
    "plt.xlabel('Quality',fontsize=20)\n",
    "plt.ylabel('Price',fontsize=20)\n",
    "plt.show()"
   ]
  },
  {
   "cell_type": "markdown",
   "metadata": {},
   "source": [
    "Another good way to see how our regression is performing is to use a metric called R-squared. \n",
    "\n",
    "R-squared measures how much of the variance in your dependent variable (Y) is expalained by the variance in your independent variable (X). Essentially, it tells you 'how' good a predictor your X is. "
   ]
  },
  {
   "cell_type": "code",
   "execution_count": 34,
   "metadata": {},
   "outputs": [
    {
     "name": "stdout",
     "output_type": "stream",
     "text": [
      "R^2 Score:  0.599512806993\n"
     ]
    }
   ],
   "source": [
    "from sklearn.metrics import r2_score\n",
    "\n",
    "print(\"R^2 Score: \", r2_score(Y, preds))"
   ]
  },
  {
   "cell_type": "markdown",
   "metadata": {},
   "source": [
    "This tells you that ~60% of the fluctuations and change in price is explained by quality. That's actually pretty good for a single variabe!"
   ]
  },
  {
   "cell_type": "markdown",
   "metadata": {},
   "source": [
    "I'm pretty sure I know the answer to this, but for curiosity's sake, let's try see what sq_feet's MSE & R^2 is"
   ]
  },
  {
   "cell_type": "code",
   "execution_count": 35,
   "metadata": {},
   "outputs": [
    {
     "name": "stdout",
     "output_type": "stream",
     "text": [
      "Intercept  [ 3344.53934357]\n",
      "coefficient  [[ 50.24004577]]\n",
      "MSE:  1441121907.37\n",
      "R^2:  0.274968912081\n"
     ]
    }
   ],
   "source": [
    "X2 = np.array(house['sq_feet']).reshape(799,1)\n",
    "lm.fit(X2,Y)\n",
    "print(\"Intercept \", lm.intercept_)\n",
    "print(\"coefficient \", lm.coef_)\n",
    "print(\"MSE: \", np.mean((Y-lm.predict(X2))**2))\n",
    "print(\"R^2: \", r2_score(Y, lm.predict(X2)))"
   ]
  },
  {
   "cell_type": "markdown",
   "metadata": {},
   "source": [
    "Much worse on all aspects."
   ]
  },
  {
   "cell_type": "markdown",
   "metadata": {},
   "source": [
    "# In-Class Activity 1:\n",
    "\n",
    "Can you use dimensionality reduction (as last time or differently) and see what the MSE for that new variable is?\n",
    "Which variable was the best predictor?\n"
   ]
  },
  {
   "cell_type": "code",
   "execution_count": 39,
   "metadata": {},
   "outputs": [
    {
     "name": "stdout",
     "output_type": "stream",
     "text": [
      "Intercept  [ 5570.56348724]\n",
      "coefficient  [[ 0.98729392]]\n",
      "MSE:  83220290.7152\n",
      "R^2:  0.958131718347\n"
     ]
    }
   ],
   "source": [
    "#Your code below:\n",
    "X3 = np.array(house['sq_feet'] * house['quality']).reshape(799,1)\n",
    "lm.fit(X3,Y)\n",
    "preds3 = lm.predict(X3)\n",
    "print(\"Intercept \", lm.intercept_)\n",
    "print(\"coefficient \", lm.coef_)\n",
    "print(\"MSE: \", np.mean((Y-lm.predict(X3))**2))\n",
    "print(\"R^2: \", r2_score(Y, lm.predict(X3)))\n",
    "\n",
    "\n"
   ]
  },
  {
   "cell_type": "code",
   "execution_count": 40,
   "metadata": {},
   "outputs": [
    {
     "data": {
      "image/png": "[encoded data removed]",
      "text/plain": [
       "<matplotlib.figure.Figure at 0x161ef163b38>"
      ]
     },
     "metadata": {},
     "output_type": "display_data"
    }
   ],
   "source": [
    "plt.figure(figsize=(16,12))\n",
    "plt.scatter(X3,Y)\n",
    "plt.plot(X3,preds3,color='r')\n",
    "plt.xlabel('Quality',fontsize=20)\n",
    "plt.ylabel('Price',fontsize=20)\n",
    "plt.show()"
   ]
  },
  {
   "cell_type": "markdown",
   "metadata": {},
   "source": [
    "### How can we improve this model?\n",
    "\n",
    "So far we know that we have a certain level of error, but how can we go about improving our model? There is a chance that even if we minimise error, our model might not be actually suited for data that it hasn't seen. How do we avoid that?\n",
    "\n",
    "Any ideas?\n"
   ]
  },
  {
   "cell_type": "markdown",
   "metadata": {},
   "source": [
    "## 2.2 Train/Test Splits \n",
    "\n",
    "Train/Test splits are incredibly important because they allow you to train your model on part of the data, and test it on 'unseen' data that the model hasn't seen yet. This way, you can minimise error and see how good your model performs on unseen data. Remember, any model you build is by definition going to be used to predict unseen data, so it's crucial that Train/Test is done, and that it's done right.\n",
    "\n",
    "The idea is simple: we take our dataset, and split it randomly in a ratio (normally 75:25). We then train a model on the bigger dataset and try minimise error, and then test how good it is at predicting on the test dataset. We get the best of both worlds in that way!"
   ]
  },
  {
   "cell_type": "code",
   "execution_count": 41,
   "metadata": {},
   "outputs": [
    {
     "name": "stdout",
     "output_type": "stream",
     "text": [
      "(599, 1)\n",
      "(599, 1)\n",
      "(200, 1)\n",
      "(200, 1)\n"
     ]
    },
    {
     "name": "stderr",
     "output_type": "stream",
     "text": [
      "C:\\devtool\\app\\Anaconda3\\lib\\site-packages\\sklearn\\cross_validation.py:44: DeprecationWarning: This module was deprecated in version 0.18 in favor of the model_selection module into which all the refactored classes and functions are moved. Also note that the interface of the new CV iterators are different from that of this module. This module will be removed in 0.20.\n",
      "  \"This module will be removed in 0.20.\", DeprecationWarning)\n"
     ]
    }
   ],
   "source": [
    "from sklearn import cross_validation\n",
    "\n",
    "X_train, X_test, Y_train, Y_test = cross_validation.train_test_split(X,Y, test_size = 0.25,  random_state = 2)\n",
    "\n",
    "   \n",
    "print(X_train.shape)\n",
    "print(Y_train.shape)\n",
    "print(X_test.shape)\n",
    "print(Y_test.shape)"
   ]
  },
  {
   "cell_type": "code",
   "execution_count": 44,
   "metadata": {},
   "outputs": [
    {
     "name": "stdout",
     "output_type": "stream",
     "text": [
      "Intercept  [ 6512.64246484]\n",
      "Ccoefficient  [[ 1171.48849612]]\n",
      "MSE on train data:  796162428.803\n",
      "R^2 on train data:  0.582668111295\n"
     ]
    }
   ],
   "source": [
    "# Now, let's build a linear regression model on our test data, and then compare errors\n",
    "\n",
    "lm = LinearRegression()\n",
    "lin = lm.fit(X_train,Y_train)\n",
    "print(\"Intercept \", lin.intercept_)\n",
    "print(\"Ccoefficient \", lin.coef_)\n",
    "print(\"MSE on train data: \", np.mean((Y_train-lin.predict(X_train))**2))\n",
    "print(\"R^2 on train data: \", r2_score(Y_train,lin.predict(X_train)))"
   ]
  },
  {
   "cell_type": "code",
   "execution_count": 45,
   "metadata": {},
   "outputs": [
    {
     "name": "stdout",
     "output_type": "stream",
     "text": [
      "MSE on Test data :  796036028.08\n",
      "R^2 on Test data:  0.63937778417\n"
     ]
    }
   ],
   "source": [
    "predictions = lin.predict(X_test)\n",
    "mse = np.mean(Y_test - predictions)\n",
    "print(\"MSE on Test data : \", MSE)  \n",
    "print(\"R^2 on Test data: \", r2_score(Y_test,lm.predict(X_test)))"
   ]
  },
  {
   "cell_type": "markdown",
   "metadata": {},
   "source": [
    "### That's rather interesting and unique. We're getting a better MSE and R^2 on test data and train data. Not always the case\n",
    "\n",
    "### Note: in most real-life cases, it won't behave like this."
   ]
  },
  {
   "cell_type": "markdown",
   "metadata": {},
   "source": [
    "## In-Class Activity 2: \n",
    "\n",
    "Can you import the bike_rentals dataset and try to predict rental numbers using linear regressions?"
   ]
  },
  {
   "cell_type": "code",
   "execution_count": 78,
   "metadata": {},
   "outputs": [
    {
     "data": {
      "image/png": "[encoded data removed]",
      "text/plain": [
       "<matplotlib.figure.Figure at 0x161ef96d1d0>"
      ]
     },
     "metadata": {},
     "output_type": "display_data"
    }
   ],
   "source": [
    "# Your code below:\n",
    "rentals = pd.read_csv('bike_rentals.csv')\n",
    "rentals.head()  # Clearly, out Y here is price and X's are sq_feet and quality\n",
    "\n",
    "# rentals, day_of_week, season, holiday, temp, humidity\n",
    "\n",
    "rentals_q = rentals[['rentals','day_of_week','season','humidity','holiday', 'temp']]\n",
    "rentals_q = rentals_q.dropna(how='any')\n",
    "\n",
    "X_humidity = np.array(rentals_q['humidity']).reshape(364, 1)\n",
    "X_holiday = np.array(rentals_q['holiday']).reshape(364, 1)\n",
    "X_temp = np.array(rentals_q['temp']).reshape(364, 1)\n",
    "Y = np.array(rentals_q['rentals']).reshape(364, 1)\n",
    "\n",
    "lm = LinearRegression()\n",
    "lin = lm.fit(X_humidity, Y)\n",
    "preds = lin.predict(X_humidity)\n",
    "#print(\"Intercept \", lin.intercept_)\n",
    "#print(\"Ccoefficient \", lin.coef_)\n",
    "#print(\"MSE on data: \", np.mean((Y-lin.predict(X))**2))\n",
    "#print(\"R^2 on data: \", r2_score(Y,lin.predict(X)))\n",
    "\n",
    "f, axes = plt.subplots(nrows=1, ncols=3, figsize=(15, 12))\n",
    "#plt.figure(figsize=(16,12))\n",
    "axes[0].set_title(\"humidity vs rentals\")\n",
    "axes[0].scatter(X_humidity,Y)\n",
    "axes[0].plot(X_humidity,preds,color='r')\n",
    "axes[0].set_xlabel('humidity',fontsize=20)\n",
    "axes[0].set_ylabel('rentals',fontsize=20)\n",
    "\n",
    "\n",
    "#lm = LinearRegression()\n",
    "lin = lm.fit(X_holiday, Y)\n",
    "preds = lin.predict(X_holiday)\n",
    "axes[1].set_title(\"holiday vs rentals\")\n",
    "axes[1].scatter(X_holiday,Y)\n",
    "axes[1].plot(X_holiday,preds,color='r')\n",
    "axes[1].set_xlabel('holiday',fontsize=20)\n",
    "axes[1].set_ylabel('rentals',fontsize=20)\n",
    "\n",
    "lin = lm.fit(X_temp, Y)\n",
    "preds = lin.predict(X_temp)\n",
    "axes[2].set_title(\"temp vs rentals\")\n",
    "axes[2].scatter(X_temp,Y)\n",
    "axes[2].plot(X_temp,preds,color='r')\n",
    "axes[2].set_xlabel('temp',fontsize=20)\n",
    "axes[2].set_ylabel('rentals',fontsize=20)\n",
    "\n",
    "plt.show()"
   ]
  },
  {
   "cell_type": "markdown",
   "metadata": {},
   "source": [
    "### 2.3 Multivariate Regressions\n",
    "\n",
    "Frankly, one variable is never really going to be a good predictor in real life. Problems are far more complex and have numerous layers to them. One way to include more than one variable into your regression analysis is the unimaginatively named Multivariate Regression. \n",
    "\n",
    "Think back to our regression equation. We can have as many variables as we like in our Multivariate equation right? \n",
    "\n",
    "We just need to be careful of one thing: multicollinearity. This is when your predictor variables themselves are highly correlated. This can artifically push our R^2 up, and lower our MSE, but also, multicollinearity errors can hide significant coefficients. There are many ways to avoid it, but the best will always be dimensionality reduction.\n",
    "\n",
    "Let's try multivariate regressions first on a trivial case, the housing dataset."
   ]
  },
  {
   "cell_type": "code",
   "execution_count": 63,
   "metadata": {},
   "outputs": [
    {
     "data": {
      "text/html": [
       "<div>\n",
       "<style>\n",
       "    .dataframe thead tr:only-child th {\n",
       "        text-align: right;\n",
       "    }\n",
       "\n",
       "    .dataframe thead th {\n",
       "        text-align: left;\n",
       "    }\n",
       "\n",
       "    .dataframe tbody tr th {\n",
       "        vertical-align: top;\n",
       "    }\n",
       "</style>\n",
       "<table border=\"1\" class=\"dataframe\">\n",
       "  <thead>\n",
       "    <tr style=\"text-align: right;\">\n",
       "      <th></th>\n",
       "      <th>sq_feet</th>\n",
       "      <th>quality</th>\n",
       "    </tr>\n",
       "  </thead>\n",
       "  <tbody>\n",
       "    <tr>\n",
       "      <th>0</th>\n",
       "      <td>718</td>\n",
       "      <td>38</td>\n",
       "    </tr>\n",
       "    <tr>\n",
       "      <th>1</th>\n",
       "      <td>601</td>\n",
       "      <td>30</td>\n",
       "    </tr>\n",
       "    <tr>\n",
       "      <th>2</th>\n",
       "      <td>896</td>\n",
       "      <td>41</td>\n",
       "    </tr>\n",
       "    <tr>\n",
       "      <th>3</th>\n",
       "      <td>421</td>\n",
       "      <td>19</td>\n",
       "    </tr>\n",
       "    <tr>\n",
       "      <th>4</th>\n",
       "      <td>551</td>\n",
       "      <td>49</td>\n",
       "    </tr>\n",
       "  </tbody>\n",
       "</table>\n",
       "</div>"
      ],
      "text/plain": [
       "   sq_feet  quality\n",
       "0      718       38\n",
       "1      601       30\n",
       "2      896       41\n",
       "3      421       19\n",
       "4      551       49"
      ]
     },
     "execution_count": 63,
     "metadata": {},
     "output_type": "execute_result"
    }
   ],
   "source": [
    "X = house.drop('price',axis=1)\n",
    "Y = house[['price']]"
   ]
  },
  {
   "cell_type": "code",
   "execution_count": 64,
   "metadata": {},
   "outputs": [
    {
     "name": "stdout",
     "output_type": "stream",
     "text": [
      "(599, 2)\n",
      "(599, 1)\n",
      "(200, 2)\n",
      "(200, 1)\n"
     ]
    }
   ],
   "source": [
    "X_train, X_test, Y_train, Y_test = cross_validation.train_test_split(X,Y,test_size = 0.25, random_state = 5)\n",
    "\n",
    "print(X_train.shape)\n",
    "print(Y_train.shape)\n",
    "print(X_test.shape)\n",
    "print(Y_test.shape)"
   ]
  },
  {
   "cell_type": "code",
   "execution_count": 100,
   "metadata": {},
   "outputs": [
    {
     "name": "stdout",
     "output_type": "stream",
     "text": [
      "Our intercept  [-0.72555754]\n",
      "Our coefficient  [[ 0.00052875  0.01085747]]\n",
      "MSE on train data:  overBudget?    0.090795\n",
      "dtype: float64\n",
      "R^2 on train data:  0.631438518983\n"
     ]
    }
   ],
   "source": [
    "lm2 = LinearRegression()\n",
    "\n",
    "linmod = lm2.fit(X_train,Y_train)\n",
    "print(\"Our intercept \", linmod.intercept_)\n",
    "print(\"Our coefficient \", linmod.coef_)\n",
    "print(\"MSE on train data: \", np.mean((Y-linmod.predict(X))**2))\n",
    "print(\"R^2 on train data: \", r2_score(Y_train,linmod.predict(X_train)))"
   ]
  },
  {
   "cell_type": "code",
   "execution_count": 103,
   "metadata": {},
   "outputs": [
    {
     "name": "stdout",
     "output_type": "stream",
     "text": [
      "Our intercept  [-0.7155631]\n",
      "Our coefficient  [[ 0.00047841  0.01131809]]\n",
      "MSE on train data:  overBudget?    0.091262\n",
      "dtype: float64\n",
      "R^2 on train data:  0.637962935696\n"
     ]
    }
   ],
   "source": [
    "linmod3 = lm2.fit(X_test,Y_test)\n",
    "print(\"Our intercept \", linmod3.intercept_)\n",
    "print(\"Our coefficient \", linmod3.coef_)\n",
    "print(\"MSE on train data: \", np.mean((Y-linmod3.predict(X))**2))\n",
    "print(\"R^2 on train data: \", r2_score(Y_test,linmod3.predict(X_test)))"
   ]
  },
  {
   "cell_type": "markdown",
   "metadata": {},
   "source": [
    "Notice our R^2 has improved drastically, but our MSE has increased also. \n",
    "\n",
    "How would we solve this problem?"
   ]
  },
  {
   "cell_type": "markdown",
   "metadata": {},
   "source": [
    "# In-Class Activity 3:\n",
    "\n",
    "Using the bike rental dataset, can you try use all you've learnt to make a good predictive model for number of rentals? Feel free to use linear or multivariate regressions.\n"
   ]
  },
  {
   "cell_type": "code",
   "execution_count": null,
   "metadata": {
    "collapsed": true
   },
   "outputs": [],
   "source": [
    "# Your code below:\n",
    "\n",
    "\n",
    "\n"
   ]
  },
  {
   "cell_type": "markdown",
   "metadata": {},
   "source": [
    "### 2.4 Logisic Regressions\n",
    "\n",
    "Logsitic regression is a classification algorithm to predict binary outcomes from continuous or categorical data. Unlike linear regressions, logistic regressions only classify your input variables into binaries (yes/no, 1/0), and this makes them quite powerful in numerous real world cases. \n",
    "\n",
    "**Use Cases & Data Types:** Your dependent variable must be binary (1/0), and your independent variables can be continuous, categorical or ordinal. There are many different real life problems that logistic regressions can provide predictions for such as transcation classifications & fraud detection.\n",
    "\n",
    "**Pros:** \n",
    "- Very useful for real life classification problems\n",
    "- Data type insensitive: continuous or categorical predictors\n",
    "- Good for tagging mechanisms \n",
    "\n",
    "**Cons:**\n",
    "- Can be computationally expensive\n",
    "- Easy to overfit (validation is super important)\n",
    "- Can be hard to interpret sometimes"
   ]
  },
  {
   "cell_type": "code",
   "execution_count": 272,
   "metadata": {},
   "outputs": [
    {
     "data": {
      "text/html": [
       "<div>\n",
       "<style>\n",
       "    .dataframe thead tr:only-child th {\n",
       "        text-align: right;\n",
       "    }\n",
       "\n",
       "    .dataframe thead th {\n",
       "        text-align: left;\n",
       "    }\n",
       "\n",
       "    .dataframe tbody tr th {\n",
       "        vertical-align: top;\n",
       "    }\n",
       "</style>\n",
       "<table border=\"1\" class=\"dataframe\">\n",
       "  <thead>\n",
       "    <tr style=\"text-align: right;\">\n",
       "      <th></th>\n",
       "      <th>price</th>\n",
       "      <th>sq_feet</th>\n",
       "      <th>quality</th>\n",
       "      <th>overBudget?</th>\n",
       "    </tr>\n",
       "  </thead>\n",
       "  <tbody>\n",
       "    <tr>\n",
       "      <th>0</th>\n",
       "      <td>30992.64</td>\n",
       "      <td>718</td>\n",
       "      <td>38</td>\n",
       "      <td>0</td>\n",
       "    </tr>\n",
       "    <tr>\n",
       "      <th>1</th>\n",
       "      <td>21187.60</td>\n",
       "      <td>601</td>\n",
       "      <td>30</td>\n",
       "      <td>0</td>\n",
       "    </tr>\n",
       "    <tr>\n",
       "      <th>2</th>\n",
       "      <td>47161.68</td>\n",
       "      <td>896</td>\n",
       "      <td>41</td>\n",
       "      <td>0</td>\n",
       "    </tr>\n",
       "    <tr>\n",
       "      <th>3</th>\n",
       "      <td>15338.82</td>\n",
       "      <td>421</td>\n",
       "      <td>19</td>\n",
       "      <td>0</td>\n",
       "    </tr>\n",
       "    <tr>\n",
       "      <th>4</th>\n",
       "      <td>29759.07</td>\n",
       "      <td>551</td>\n",
       "      <td>49</td>\n",
       "      <td>0</td>\n",
       "    </tr>\n",
       "  </tbody>\n",
       "</table>\n",
       "</div>"
      ],
      "text/plain": [
       "      price  sq_feet  quality  overBudget?\n",
       "0  30992.64      718       38            0\n",
       "1  21187.60      601       30            0\n",
       "2  47161.68      896       41            0\n",
       "3  15338.82      421       19            0\n",
       "4  29759.07      551       49            0"
      ]
     },
     "execution_count": 272,
     "metadata": {},
     "output_type": "execute_result"
    }
   ],
   "source": [
    "# First, i'm going to say that my budget for buying a house is $60,000\n",
    "\n",
    "def expensive(x):\n",
    "    if x> 60000:\n",
    "        return 1\n",
    "    else:\n",
    "        return 0\n",
    "    \n",
    "house['overBudget?'] = house['price'].apply(expensive)\n",
    "house.head()"
   ]
  },
  {
   "cell_type": "code",
   "execution_count": 309,
   "metadata": {},
   "outputs": [
    {
     "data": {
      "text/html": [
       "<div>\n",
       "<style>\n",
       "    .dataframe thead tr:only-child th {\n",
       "        text-align: right;\n",
       "    }\n",
       "\n",
       "    .dataframe thead th {\n",
       "        text-align: left;\n",
       "    }\n",
       "\n",
       "    .dataframe tbody tr th {\n",
       "        vertical-align: top;\n",
       "    }\n",
       "</style>\n",
       "<table border=\"1\" class=\"dataframe\">\n",
       "  <thead>\n",
       "    <tr style=\"text-align: right;\">\n",
       "      <th></th>\n",
       "      <th>sq_feet</th>\n",
       "      <th>quality</th>\n",
       "      <th>overBudget?</th>\n",
       "    </tr>\n",
       "  </thead>\n",
       "  <tbody>\n",
       "    <tr>\n",
       "      <th>0</th>\n",
       "      <td>718</td>\n",
       "      <td>38</td>\n",
       "      <td>0</td>\n",
       "    </tr>\n",
       "    <tr>\n",
       "      <th>1</th>\n",
       "      <td>601</td>\n",
       "      <td>30</td>\n",
       "      <td>0</td>\n",
       "    </tr>\n",
       "    <tr>\n",
       "      <th>2</th>\n",
       "      <td>896</td>\n",
       "      <td>41</td>\n",
       "      <td>0</td>\n",
       "    </tr>\n",
       "    <tr>\n",
       "      <th>3</th>\n",
       "      <td>421</td>\n",
       "      <td>19</td>\n",
       "      <td>0</td>\n",
       "    </tr>\n",
       "    <tr>\n",
       "      <th>4</th>\n",
       "      <td>551</td>\n",
       "      <td>49</td>\n",
       "      <td>0</td>\n",
       "    </tr>\n",
       "  </tbody>\n",
       "</table>\n",
       "</div>"
      ],
      "text/plain": [
       "   sq_feet  quality  overBudget?\n",
       "0      718       38            0\n",
       "1      601       30            0\n",
       "2      896       41            0\n",
       "3      421       19            0\n",
       "4      551       49            0"
      ]
     },
     "execution_count": 309,
     "metadata": {},
     "output_type": "execute_result"
    }
   ],
   "source": [
    "# Dropping price because we don't need it\n",
    "\n",
    "house_dich = house.drop('price',axis=1)\n",
    "house_dich.head()"
   ]
  },
  {
   "cell_type": "code",
   "execution_count": 310,
   "metadata": {
    "collapsed": true
   },
   "outputs": [],
   "source": [
    "X = house[['sq_feet','quality']]  # Seperating out X's and Y's\n",
    "Y = house[['overBudget?']]"
   ]
  },
  {
   "cell_type": "code",
   "execution_count": 311,
   "metadata": {},
   "outputs": [
    {
     "name": "stderr",
     "output_type": "stream",
     "text": [
      "C:\\ProgramData\\Anaconda3\\lib\\site-packages\\sklearn\\utils\\validation.py:526: DataConversionWarning: A column-vector y was passed when a 1d array was expected. Please change the shape of y to (n_samples, ), for example using ravel().\n",
      "  y = column_or_1d(y, warn=True)\n"
     ]
    },
    {
     "data": {
      "text/plain": [
       "0.92615769712140172"
      ]
     },
     "execution_count": 311,
     "metadata": {},
     "output_type": "execute_result"
    }
   ],
   "source": [
    "# Let's see how accurately we can predict whether a house is over budget using sq_feet and quality\n",
    "\n",
    "from sklearn.linear_model import LogisticRegression\n",
    "from sklearn.cross_validation import train_test_split\n",
    "from sklearn import metrics\n",
    "\n",
    "model = LogisticRegression()\n",
    "model = model.fit(X,Y)\n",
    "model.score(X,Y)"
   ]
  },
  {
   "cell_type": "code",
   "execution_count": 312,
   "metadata": {},
   "outputs": [
    {
     "name": "stdout",
     "output_type": "stream",
     "text": [
      "overBudget?    0.441802\n",
      "dtype: float64\n"
     ]
    }
   ],
   "source": [
    "# First, let's see how many houses are actually over budget for me:\n",
    "\n",
    "print(Y.mean())"
   ]
  },
  {
   "cell_type": "markdown",
   "metadata": {},
   "source": [
    "This is looking decent! Roughly half the houses are over budget for me, but using quality and sq_feet, we've managed to predict 93% of houses correctly."
   ]
  },
  {
   "cell_type": "markdown",
   "metadata": {},
   "source": [
    "### All looks go so far, but take it with a grain of salt until we perform validation"
   ]
  },
  {
   "cell_type": "code",
   "execution_count": 313,
   "metadata": {},
   "outputs": [
    {
     "name": "stdout",
     "output_type": "stream",
     "text": [
      "(535, 2)\n",
      "(264, 2)\n",
      "(535, 1)\n",
      "(264, 1)\n"
     ]
    }
   ],
   "source": [
    "X_train, X_test, Y_train, Y_test = train_test_split(X,Y,test_size = 0.33)\n",
    "print(X_train.shape)\n",
    "print(X_test.shape)\n",
    "print(Y_train.shape)\n",
    "print(Y_test.shape)"
   ]
  },
  {
   "cell_type": "code",
   "execution_count": 314,
   "metadata": {},
   "outputs": [
    {
     "name": "stderr",
     "output_type": "stream",
     "text": [
      "C:\\ProgramData\\Anaconda3\\lib\\site-packages\\sklearn\\utils\\validation.py:526: DataConversionWarning: A column-vector y was passed when a 1d array was expected. Please change the shape of y to (n_samples, ), for example using ravel().\n",
      "  y = column_or_1d(y, warn=True)\n"
     ]
    },
    {
     "data": {
      "text/plain": [
       "0.91401869158878501"
      ]
     },
     "execution_count": 314,
     "metadata": {},
     "output_type": "execute_result"
    }
   ],
   "source": [
    "model = model.fit(X_train,Y_train)\n",
    "train_preds = model.predict(X_train)\n",
    "model.score(X_train,Y_train)\n"
   ]
  },
  {
   "cell_type": "markdown",
   "metadata": {},
   "source": [
    "A little lower training score than before, but let's see how our test score is"
   ]
  },
  {
   "cell_type": "code",
   "execution_count": 315,
   "metadata": {},
   "outputs": [
    {
     "name": "stdout",
     "output_type": "stream",
     "text": [
      "0.924242424242\n"
     ]
    }
   ],
   "source": [
    "test_pred = model.predict(X_test)\n",
    "print(model.score(X_test,Y_test))"
   ]
  },
  {
   "cell_type": "code",
   "execution_count": 316,
   "metadata": {},
   "outputs": [
    {
     "name": "stdout",
     "output_type": "stream",
     "text": [
      "[0 0 0 0 1 0 1 0 0 0 0 0 1 1 0 0 0 1 0 1 0 1 0 0 1 0 0 0 1 0 1 1 0 1 1 0 0\n",
      " 0 0 1 1 1 1 1 0 0 1 1 1 0 1 0 1 0 1 0 0 0 0 1 0 0 0 0 1 1 0 1 1 0 0 1 0 0\n",
      " 0 0 0 0 1 1 1 0 1 1 1 1 1 1 1 1 0 0 1 1 1 1 0 0 0 1 0 1 0 1 0 0 1 1 1 1 1\n",
      " 0 0 1 0 0 1 1 0 0 0 1 0 0 0 0 0 1 1 0 0 0 1 1 0 1 0 1 1 0 0 0 0 0 1 0 0 0\n",
      " 1 0 0 0 1 0 1 0 0 0 1 1 1 0 1 0 0 1 0 0 0 1 0 0 0 1 1 0 0 0 1 0 0 1 0 0 1\n",
      " 0 1 0 0 1 1 0 0 0 0 0 1 1 1 1 0 1 1 0 1 1 1 1 0 1 0 0 1 1 0 0 1 0 0 0 0 1\n",
      " 0 1 0 1 1 0 0 0 0 0 1 1 1 1 0 0 1 1 0 0 1 1 1 1 0 0 1 0 1 1 0 0 0 0 1 0 0\n",
      " 0 1 1 0 1]\n"
     ]
    }
   ],
   "source": [
    "print(test_pred)"
   ]
  },
  {
   "cell_type": "code",
   "execution_count": 317,
   "metadata": {},
   "outputs": [
    {
     "name": "stdout",
     "output_type": "stream",
     "text": [
      "[[ 0.85155143  0.14844857]\n",
      " [ 0.96320173  0.03679827]\n",
      " [ 0.89399626  0.10600374]\n",
      " [ 0.99327732  0.00672268]\n",
      " [ 0.04618969  0.95381031]\n",
      " [ 0.8175376   0.1824624 ]\n",
      " [ 0.3252788   0.6747212 ]\n",
      " [ 0.54452899  0.45547101]\n",
      " [ 0.99162661  0.00837339]\n",
      " [ 0.7712162   0.2287838 ]\n",
      " [ 0.93064159  0.06935841]\n",
      " [ 0.83206804  0.16793196]\n",
      " [ 0.27897163  0.72102837]\n",
      " [ 0.43395295  0.56604705]\n",
      " [ 0.99635026  0.00364974]\n",
      " [ 0.7122416   0.2877584 ]\n",
      " [ 0.92592147  0.07407853]\n",
      " [ 0.00419957  0.99580043]\n",
      " [ 0.91032926  0.08967074]\n",
      " [ 0.42202698  0.57797302]\n",
      " [ 0.54077082  0.45922918]\n",
      " [ 0.0367495   0.9632505 ]\n",
      " [ 0.96868855  0.03131145]\n",
      " [ 0.974721    0.025279  ]\n",
      " [ 0.36646212  0.63353788]\n",
      " [ 0.99613789  0.00386211]\n",
      " [ 0.98831166  0.01168834]\n",
      " [ 0.97280414  0.02719586]\n",
      " [ 0.25272451  0.74727549]\n",
      " [ 0.89267325  0.10732675]\n",
      " [ 0.00384735  0.99615265]\n",
      " [ 0.06446878  0.93553122]\n",
      " [ 0.54554859  0.45445141]\n",
      " [ 0.19278377  0.80721623]\n",
      " [ 0.17605728  0.82394272]\n",
      " [ 0.82032099  0.17967901]\n",
      " [ 0.76021312  0.23978688]\n",
      " [ 0.7647646   0.2352354 ]\n",
      " [ 0.79203732  0.20796268]\n",
      " [ 0.04689276  0.95310724]\n",
      " [ 0.365278    0.634722  ]\n",
      " [ 0.00528997  0.99471003]\n",
      " [ 0.44481468  0.55518532]\n",
      " [ 0.04116821  0.95883179]\n",
      " [ 0.87491131  0.12508869]\n",
      " [ 0.92871394  0.07128606]\n",
      " [ 0.02279029  0.97720971]\n",
      " [ 0.11598203  0.88401797]\n",
      " [ 0.49427353  0.50572647]\n",
      " [ 0.96373471  0.03626529]\n",
      " [ 0.31910362  0.68089638]\n",
      " [ 0.85283407  0.14716593]\n",
      " [ 0.17470678  0.82529322]\n",
      " [ 0.95867115  0.04132885]\n",
      " [ 0.22055556  0.77944444]\n",
      " [ 0.71463017  0.28536983]\n",
      " [ 0.98667984  0.01332016]\n",
      " [ 0.98712104  0.01287896]\n",
      " [ 0.56246105  0.43753895]\n",
      " [ 0.1328948   0.8671052 ]\n",
      " [ 0.94936253  0.05063747]\n",
      " [ 0.8818405   0.1181595 ]\n",
      " [ 0.79963381  0.20036619]\n",
      " [ 0.9666528   0.0333472 ]\n",
      " [ 0.4431965   0.5568035 ]\n",
      " [ 0.14024369  0.85975631]\n",
      " [ 0.83982937  0.16017063]\n",
      " [ 0.00998256  0.99001744]\n",
      " [ 0.02091259  0.97908741]\n",
      " [ 0.97724311  0.02275689]\n",
      " [ 0.68941726  0.31058274]\n",
      " [ 0.18127855  0.81872145]\n",
      " [ 0.90019778  0.09980222]\n",
      " [ 0.94838974  0.05161026]\n",
      " [ 0.94320128  0.05679872]\n",
      " [ 0.98537889  0.01462111]\n",
      " [ 0.96298593  0.03701407]\n",
      " [ 0.54186397  0.45813603]\n",
      " [ 0.01637108  0.98362892]\n",
      " [ 0.16190306  0.83809694]\n",
      " [ 0.01007936  0.98992064]\n",
      " [ 0.99477028  0.00522972]\n",
      " [ 0.06947575  0.93052425]\n",
      " [ 0.04767072  0.95232928]\n",
      " [ 0.38883966  0.61116034]\n",
      " [ 0.48029028  0.51970972]\n",
      " [ 0.02824009  0.97175991]\n",
      " [ 0.48096054  0.51903946]\n",
      " [ 0.04476285  0.95523715]\n",
      " [ 0.03200933  0.96799067]\n",
      " [ 0.94046254  0.05953746]\n",
      " [ 0.71731608  0.28268392]\n",
      " [ 0.00215974  0.99784026]\n",
      " [ 0.34762435  0.65237565]\n",
      " [ 0.18091258  0.81908742]\n",
      " [ 0.40349009  0.59650991]\n",
      " [ 0.97586044  0.02413956]\n",
      " [ 0.9321516   0.0678484 ]\n",
      " [ 0.97001355  0.02998645]\n",
      " [ 0.0765617   0.9234383 ]\n",
      " [ 0.92602431  0.07397569]\n",
      " [ 0.40089598  0.59910402]\n",
      " [ 0.7816984   0.2183016 ]\n",
      " [ 0.25988951  0.74011049]\n",
      " [ 0.92882595  0.07117405]\n",
      " [ 0.54259048  0.45740952]\n",
      " [ 0.3908708   0.6091292 ]\n",
      " [ 0.25231826  0.74768174]\n",
      " [ 0.19037499  0.80962501]\n",
      " [ 0.28038963  0.71961037]\n",
      " [ 0.44229534  0.55770466]\n",
      " [ 0.96500704  0.03499296]\n",
      " [ 0.74260623  0.25739377]\n",
      " [ 0.05158782  0.94841218]\n",
      " [ 0.97605962  0.02394038]\n",
      " [ 0.84435782  0.15564218]\n",
      " [ 0.43162532  0.56837468]\n",
      " [ 0.00974467  0.99025533]\n",
      " [ 0.94995458  0.05004542]\n",
      " [ 0.68513353  0.31486647]\n",
      " [ 0.79976183  0.20023817]\n",
      " [ 0.44482074  0.55517926]\n",
      " [ 0.77013888  0.22986112]\n",
      " [ 0.66231879  0.33768121]\n",
      " [ 0.93076638  0.06923362]\n",
      " [ 0.68603043  0.31396957]\n",
      " [ 0.9729006   0.0270994 ]\n",
      " [ 0.07466979  0.92533021]\n",
      " [ 0.00570257  0.99429743]\n",
      " [ 0.98645707  0.01354293]\n",
      " [ 0.94370582  0.05629418]\n",
      " [ 0.87705822  0.12294178]\n",
      " [ 0.05182742  0.94817258]\n",
      " [ 0.37786746  0.62213254]\n",
      " [ 0.9171937   0.0828063 ]\n",
      " [ 0.00423023  0.99576977]\n",
      " [ 0.92059155  0.07940845]\n",
      " [ 0.11326221  0.88673779]\n",
      " [ 0.14583229  0.85416771]\n",
      " [ 0.98117919  0.01882081]\n",
      " [ 0.99535713  0.00464287]\n",
      " [ 0.94709961  0.05290039]\n",
      " [ 0.60546615  0.39453385]\n",
      " [ 0.79582852  0.20417148]\n",
      " [ 0.48332798  0.51667202]\n",
      " [ 0.79460752  0.20539248]\n",
      " [ 0.97344745  0.02655255]\n",
      " [ 0.91617586  0.08382414]\n",
      " [ 0.02477499  0.97522501]\n",
      " [ 0.97663442  0.02336558]\n",
      " [ 0.95942829  0.04057171]\n",
      " [ 0.70773934  0.29226066]\n",
      " [ 0.40722721  0.59277279]\n",
      " [ 0.79693068  0.20306932]\n",
      " [ 0.18731068  0.81268932]\n",
      " [ 0.99650631  0.00349369]\n",
      " [ 0.9359343   0.0640657 ]\n",
      " [ 0.80231378  0.19768622]\n",
      " [ 0.0065197   0.9934803 ]\n",
      " [ 0.07348021  0.92651979]\n",
      " [ 0.21454844  0.78545156]\n",
      " [ 0.97018822  0.02981178]\n",
      " [ 0.01735574  0.98264426]\n",
      " [ 0.95652657  0.04347343]\n",
      " [ 0.93921253  0.06078747]\n",
      " [ 0.16624222  0.83375778]\n",
      " [ 0.96545594  0.03454406]\n",
      " [ 0.94714806  0.05285194]\n",
      " [ 0.93845407  0.06154593]\n",
      " [ 0.27133004  0.72866996]\n",
      " [ 0.64605754  0.35394246]\n",
      " [ 0.85680559  0.14319441]\n",
      " [ 0.9737181   0.0262819 ]\n",
      " [ 0.00622208  0.99377792]\n",
      " [ 0.26911664  0.73088336]\n",
      " [ 0.84859494  0.15140506]\n",
      " [ 0.51353693  0.48646307]\n",
      " [ 0.8748902   0.1251098 ]\n",
      " [ 0.01214575  0.98785425]\n",
      " [ 0.74636097  0.25363903]\n",
      " [ 0.9960756   0.0039244 ]\n",
      " [ 0.28591286  0.71408714]\n",
      " [ 0.7689808   0.2310192 ]\n",
      " [ 0.9883902   0.0116098 ]\n",
      " [ 0.08516776  0.91483224]\n",
      " [ 0.79728273  0.20271727]\n",
      " [ 0.37158776  0.62841224]\n",
      " [ 0.59998702  0.40001298]\n",
      " [ 0.98212697  0.01787303]\n",
      " [ 0.03253357  0.96746643]\n",
      " [ 0.00637146  0.99362854]\n",
      " [ 0.97132391  0.02867609]\n",
      " [ 0.71785028  0.28214972]\n",
      " [ 0.98264099  0.01735901]\n",
      " [ 0.52277062  0.47722938]\n",
      " [ 0.73423411  0.26576589]\n",
      " [ 0.07847644  0.92152356]\n",
      " [ 0.03108559  0.96891441]\n",
      " [ 0.04957495  0.95042505]\n",
      " [ 0.43790837  0.56209163]\n",
      " [ 0.51041813  0.48958187]\n",
      " [ 0.0214888   0.9785112 ]\n",
      " [ 0.04385432  0.95614568]\n",
      " [ 0.81306852  0.18693148]\n",
      " [ 0.25661812  0.74338188]\n",
      " [ 0.25401493  0.74598507]\n",
      " [ 0.0374006   0.9625994 ]\n",
      " [ 0.01485223  0.98514777]\n",
      " [ 0.60156507  0.39843493]\n",
      " [ 0.12837874  0.87162126]\n",
      " [ 0.59042361  0.40957639]\n",
      " [ 0.60355793  0.39644207]\n",
      " [ 0.00323274  0.99676726]\n",
      " [ 0.12471598  0.87528402]\n",
      " [ 0.70216487  0.29783513]\n",
      " [ 0.6350025   0.3649975 ]\n",
      " [ 0.11797086  0.88202914]\n",
      " [ 0.78192561  0.21807439]\n",
      " [ 0.9985204   0.0014796 ]\n",
      " [ 0.9572183   0.0427817 ]\n",
      " [ 0.93412847  0.06587153]\n",
      " [ 0.28093172  0.71906828]\n",
      " [ 0.93104955  0.06895045]\n",
      " [ 0.13687739  0.86312261]\n",
      " [ 0.53806673  0.46193327]\n",
      " [ 0.15706545  0.84293455]\n",
      " [ 0.03017423  0.96982577]\n",
      " [ 0.95840967  0.04159033]\n",
      " [ 0.52994079  0.47005921]\n",
      " [ 0.73592972  0.26407028]\n",
      " [ 0.99325936  0.00674064]\n",
      " [ 0.99555     0.00445   ]\n",
      " [ 0.28875602  0.71124398]\n",
      " [ 0.1331151   0.8668849 ]\n",
      " [ 0.01171214  0.98828786]\n",
      " [ 0.15533433  0.84466567]\n",
      " [ 0.99471283  0.00528717]\n",
      " [ 0.98545952  0.01454048]\n",
      " [ 0.05421234  0.94578766]\n",
      " [ 0.25466642  0.74533358]\n",
      " [ 0.93290192  0.06709808]\n",
      " [ 0.77848251  0.22151749]\n",
      " [ 0.01164458  0.98835542]\n",
      " [ 0.26001494  0.73998506]\n",
      " [ 0.04665442  0.95334558]\n",
      " [ 0.3850471   0.6149529 ]\n",
      " [ 0.90662297  0.09337703]\n",
      " [ 0.99441943  0.00558057]\n",
      " [ 0.21648696  0.78351304]\n",
      " [ 0.97292102  0.02707898]\n",
      " [ 0.00994652  0.99005348]\n",
      " [ 0.33021387  0.66978613]\n",
      " [ 0.9144338   0.0855662 ]\n",
      " [ 0.99172545  0.00827455]\n",
      " [ 0.54266878  0.45733122]\n",
      " [ 0.91909697  0.08090303]\n",
      " [ 0.00734732  0.99265268]\n",
      " [ 0.96094646  0.03905354]\n",
      " [ 0.99431853  0.00568147]\n",
      " [ 0.99663047  0.00336953]\n",
      " [ 0.39691706  0.60308294]\n",
      " [ 0.06156278  0.93843722]\n",
      " [ 0.5193599   0.4806401 ]\n",
      " [ 0.01067463  0.98932537]]\n"
     ]
    }
   ],
   "source": [
    "probs = model.predict_proba(X_test)\n",
    "print(probs)"
   ]
  },
  {
   "cell_type": "markdown",
   "metadata": {},
   "source": [
    "### As you can see, everytime the probability of 1 is > 50%, the model is predicting a 1. "
   ]
  },
  {
   "cell_type": "code",
   "execution_count": 318,
   "metadata": {},
   "outputs": [
    {
     "name": "stdout",
     "output_type": "stream",
     "text": [
      "[[138  11]\n",
      " [  9 106]]\n"
     ]
    }
   ],
   "source": [
    "# Confusion Matrix to see false positives and negatives\n",
    "\n",
    "print(metrics.confusion_matrix(Y_test, test_pred))"
   ]
  },
  {
   "cell_type": "markdown",
   "metadata": {},
   "source": [
    "### 135 under budget houses were predicted correctly, 7 were predicted to be over budget when they were actually under budget, 11 were thought to be under budget when they were actually over budget, and 111 over budget houses were predicted correctly."
   ]
  },
  {
   "cell_type": "markdown",
   "metadata": {},
   "source": [
    "## Final Scores:"
   ]
  },
  {
   "cell_type": "code",
   "execution_count": 319,
   "metadata": {},
   "outputs": [
    {
     "name": "stdout",
     "output_type": "stream",
     "text": [
      "Train accuracy score:  0.914018691589\n",
      "Test accuracy score:  0.924242424242\n"
     ]
    }
   ],
   "source": [
    "print(\"Train accuracy score: \", sklearn.metrics.accuracy_score(Y_train, train_preds))\n",
    "print(\"Test accuracy score: \", sklearn.metrics.accuracy_score(Y_test, test_pred))"
   ]
  },
  {
   "cell_type": "code",
   "execution_count": 320,
   "metadata": {},
   "outputs": [
    {
     "name": "stdout",
     "output_type": "stream",
     "text": [
      "             precision    recall  f1-score   support\n",
      "\n",
      "          0       0.94      0.93      0.93       149\n",
      "          1       0.91      0.92      0.91       115\n",
      "\n",
      "avg / total       0.92      0.92      0.92       264\n",
      "\n"
     ]
    }
   ],
   "source": [
    "# This still doesn't mean much. What if there are very few occurences at all of the positive?\n",
    "# Say 99% of the houses here are under my budget. Then just by randomly guessing 0 every time, you'll have an accuracy\n",
    "# score of 99%\n",
    "# Classification Report solves that issue, by giving us some important metrics\n",
    "\n",
    "print(metrics.classification_report(Y_test, test_pred))"
   ]
  },
  {
   "cell_type": "markdown",
   "metadata": {},
   "source": [
    "**Precision** is how good the model is not labelling positives as negatives. tp/(tp+fp) <br>\n",
    "**Recall** is the ability of the model to find all the positives. tp/(tp+fn) <br>\n",
    "**F1-score** is the weighted mean of precision and recall. 1 is the best value and 0 is the worst. <br>"
   ]
  },
  {
   "cell_type": "markdown",
   "metadata": {},
   "source": [
    "For fun, let's predict if a 1500 sq ft house with a 60 quality rating will be in imy budget. "
   ]
  },
  {
   "cell_type": "code",
   "execution_count": 162,
   "metadata": {},
   "outputs": [
    {
     "name": "stderr",
     "output_type": "stream",
     "text": [
      "C:\\ProgramData\\Anaconda3\\lib\\site-packages\\sklearn\\utils\\validation.py:395: DeprecationWarning: Passing 1d arrays as data is deprecated in 0.17 and will raise ValueError in 0.19. Reshape your data either using X.reshape(-1, 1) if your data has a single feature or X.reshape(1, -1) if it contains a single sample.\n",
      "  DeprecationWarning)\n"
     ]
    },
    {
     "data": {
      "text/plain": [
       "array([[ 0.19463846,  0.80536154]])"
      ]
     },
     "execution_count": 162,
     "metadata": {},
     "output_type": "execute_result"
    }
   ],
   "source": [
    "model.predict_proba(np.array([1500,60]))"
   ]
  },
  {
   "cell_type": "markdown",
   "metadata": {},
   "source": [
    "### There's an ~81% chance that a 1500 sq ft house with a 60 quality score is over my budget."
   ]
  },
  {
   "cell_type": "markdown",
   "metadata": {},
   "source": [
    "## Dummy Variables and Logistic Regressions\n",
    "\n",
    "We can also use categorical variables as predictors in logistic regressions, we just have to turn them into dummy features."
   ]
  },
  {
   "cell_type": "code",
   "execution_count": 283,
   "metadata": {},
   "outputs": [
    {
     "data": {
      "text/html": [
       "<div>\n",
       "<style>\n",
       "    .dataframe thead tr:only-child th {\n",
       "        text-align: right;\n",
       "    }\n",
       "\n",
       "    .dataframe thead th {\n",
       "        text-align: left;\n",
       "    }\n",
       "\n",
       "    .dataframe tbody tr th {\n",
       "        vertical-align: top;\n",
       "    }\n",
       "</style>\n",
       "<table border=\"1\" class=\"dataframe\">\n",
       "  <thead>\n",
       "    <tr style=\"text-align: right;\">\n",
       "      <th></th>\n",
       "      <th>rentals</th>\n",
       "      <th>day_of_week</th>\n",
       "      <th>season</th>\n",
       "      <th>holiday</th>\n",
       "      <th>temp</th>\n",
       "      <th>humidity</th>\n",
       "    </tr>\n",
       "  </thead>\n",
       "  <tbody>\n",
       "    <tr>\n",
       "      <th>0</th>\n",
       "      <td>109</td>\n",
       "      <td>Monday</td>\n",
       "      <td>Spring</td>\n",
       "      <td>0</td>\n",
       "      <td>21</td>\n",
       "      <td>0.500</td>\n",
       "    </tr>\n",
       "    <tr>\n",
       "      <th>1</th>\n",
       "      <td>45</td>\n",
       "      <td>Tuesday</td>\n",
       "      <td>Spring</td>\n",
       "      <td>1</td>\n",
       "      <td>25</td>\n",
       "      <td>0.414</td>\n",
       "    </tr>\n",
       "    <tr>\n",
       "      <th>2</th>\n",
       "      <td>63</td>\n",
       "      <td>Wednesday</td>\n",
       "      <td>Spring</td>\n",
       "      <td>0</td>\n",
       "      <td>15</td>\n",
       "      <td>0.352</td>\n",
       "    </tr>\n",
       "    <tr>\n",
       "      <th>3</th>\n",
       "      <td>105</td>\n",
       "      <td>Thursday</td>\n",
       "      <td>Spring</td>\n",
       "      <td>0</td>\n",
       "      <td>26</td>\n",
       "      <td>0.305</td>\n",
       "    </tr>\n",
       "    <tr>\n",
       "      <th>4</th>\n",
       "      <td>20</td>\n",
       "      <td>Friday</td>\n",
       "      <td>Spring</td>\n",
       "      <td>1</td>\n",
       "      <td>10</td>\n",
       "      <td>0.236</td>\n",
       "    </tr>\n",
       "  </tbody>\n",
       "</table>\n",
       "</div>"
      ],
      "text/plain": [
       "   rentals day_of_week  season  holiday  temp  humidity\n",
       "0      109      Monday  Spring        0    21     0.500\n",
       "1       45     Tuesday  Spring        1    25     0.414\n",
       "2       63   Wednesday  Spring        0    15     0.352\n",
       "3      105    Thursday  Spring        0    26     0.305\n",
       "4       20      Friday  Spring        1    10     0.236"
      ]
     },
     "execution_count": 283,
     "metadata": {},
     "output_type": "execute_result"
    }
   ],
   "source": [
    "bike = pd.read_csv('bike_rentals.csv')\n",
    "bike.head()"
   ]
  },
  {
   "cell_type": "code",
   "execution_count": 284,
   "metadata": {},
   "outputs": [
    {
     "data": {
      "text/html": [
       "<div>\n",
       "<style>\n",
       "    .dataframe thead tr:only-child th {\n",
       "        text-align: right;\n",
       "    }\n",
       "\n",
       "    .dataframe thead th {\n",
       "        text-align: left;\n",
       "    }\n",
       "\n",
       "    .dataframe tbody tr th {\n",
       "        vertical-align: top;\n",
       "    }\n",
       "</style>\n",
       "<table border=\"1\" class=\"dataframe\">\n",
       "  <thead>\n",
       "    <tr style=\"text-align: right;\">\n",
       "      <th></th>\n",
       "      <th>rentals</th>\n",
       "      <th>day_of_week</th>\n",
       "      <th>season</th>\n",
       "      <th>holiday</th>\n",
       "      <th>temp</th>\n",
       "      <th>humidity</th>\n",
       "      <th>over100</th>\n",
       "    </tr>\n",
       "  </thead>\n",
       "  <tbody>\n",
       "    <tr>\n",
       "      <th>0</th>\n",
       "      <td>109</td>\n",
       "      <td>Monday</td>\n",
       "      <td>Spring</td>\n",
       "      <td>0</td>\n",
       "      <td>21</td>\n",
       "      <td>0.500</td>\n",
       "      <td>1</td>\n",
       "    </tr>\n",
       "    <tr>\n",
       "      <th>1</th>\n",
       "      <td>45</td>\n",
       "      <td>Tuesday</td>\n",
       "      <td>Spring</td>\n",
       "      <td>1</td>\n",
       "      <td>25</td>\n",
       "      <td>0.414</td>\n",
       "      <td>0</td>\n",
       "    </tr>\n",
       "    <tr>\n",
       "      <th>2</th>\n",
       "      <td>63</td>\n",
       "      <td>Wednesday</td>\n",
       "      <td>Spring</td>\n",
       "      <td>0</td>\n",
       "      <td>15</td>\n",
       "      <td>0.352</td>\n",
       "      <td>0</td>\n",
       "    </tr>\n",
       "    <tr>\n",
       "      <th>3</th>\n",
       "      <td>105</td>\n",
       "      <td>Thursday</td>\n",
       "      <td>Spring</td>\n",
       "      <td>0</td>\n",
       "      <td>26</td>\n",
       "      <td>0.305</td>\n",
       "      <td>1</td>\n",
       "    </tr>\n",
       "    <tr>\n",
       "      <th>4</th>\n",
       "      <td>20</td>\n",
       "      <td>Friday</td>\n",
       "      <td>Spring</td>\n",
       "      <td>1</td>\n",
       "      <td>10</td>\n",
       "      <td>0.236</td>\n",
       "      <td>0</td>\n",
       "    </tr>\n",
       "  </tbody>\n",
       "</table>\n",
       "</div>"
      ],
      "text/plain": [
       "   rentals day_of_week  season  holiday  temp  humidity  over100\n",
       "0      109      Monday  Spring        0    21     0.500        1\n",
       "1       45     Tuesday  Spring        1    25     0.414        0\n",
       "2       63   Wednesday  Spring        0    15     0.352        0\n",
       "3      105    Thursday  Spring        0    26     0.305        1\n",
       "4       20      Friday  Spring        1    10     0.236        0"
      ]
     },
     "execution_count": 284,
     "metadata": {},
     "output_type": "execute_result"
    }
   ],
   "source": [
    "# We will be predicting if there will be over 100 bicycle's rented out on any particular day, using only some features\n",
    "\n",
    "def over100(x):\n",
    "    if x>100:\n",
    "        return 1\n",
    "    else:\n",
    "        return 0\n",
    "bike['over100'] = bike['rentals'].apply(over100)\n",
    "bike.head()"
   ]
  },
  {
   "cell_type": "code",
   "execution_count": 285,
   "metadata": {},
   "outputs": [
    {
     "data": {
      "text/html": [
       "<div>\n",
       "<style>\n",
       "    .dataframe thead tr:only-child th {\n",
       "        text-align: right;\n",
       "    }\n",
       "\n",
       "    .dataframe thead th {\n",
       "        text-align: left;\n",
       "    }\n",
       "\n",
       "    .dataframe tbody tr th {\n",
       "        vertical-align: top;\n",
       "    }\n",
       "</style>\n",
       "<table border=\"1\" class=\"dataframe\">\n",
       "  <thead>\n",
       "    <tr style=\"text-align: right;\">\n",
       "      <th></th>\n",
       "      <th>season</th>\n",
       "      <th>day_of_week</th>\n",
       "      <th>holiday</th>\n",
       "      <th>temp</th>\n",
       "      <th>humidity</th>\n",
       "      <th>over100</th>\n",
       "    </tr>\n",
       "  </thead>\n",
       "  <tbody>\n",
       "    <tr>\n",
       "      <th>0</th>\n",
       "      <td>Spring</td>\n",
       "      <td>Monday</td>\n",
       "      <td>0</td>\n",
       "      <td>21</td>\n",
       "      <td>0.500</td>\n",
       "      <td>1</td>\n",
       "    </tr>\n",
       "    <tr>\n",
       "      <th>1</th>\n",
       "      <td>Spring</td>\n",
       "      <td>Tuesday</td>\n",
       "      <td>1</td>\n",
       "      <td>25</td>\n",
       "      <td>0.414</td>\n",
       "      <td>0</td>\n",
       "    </tr>\n",
       "    <tr>\n",
       "      <th>2</th>\n",
       "      <td>Spring</td>\n",
       "      <td>Wednesday</td>\n",
       "      <td>0</td>\n",
       "      <td>15</td>\n",
       "      <td>0.352</td>\n",
       "      <td>0</td>\n",
       "    </tr>\n",
       "    <tr>\n",
       "      <th>3</th>\n",
       "      <td>Spring</td>\n",
       "      <td>Thursday</td>\n",
       "      <td>0</td>\n",
       "      <td>26</td>\n",
       "      <td>0.305</td>\n",
       "      <td>1</td>\n",
       "    </tr>\n",
       "    <tr>\n",
       "      <th>4</th>\n",
       "      <td>Spring</td>\n",
       "      <td>Friday</td>\n",
       "      <td>1</td>\n",
       "      <td>10</td>\n",
       "      <td>0.236</td>\n",
       "      <td>0</td>\n",
       "    </tr>\n",
       "  </tbody>\n",
       "</table>\n",
       "</div>"
      ],
      "text/plain": [
       "   season day_of_week  holiday  temp  humidity  over100\n",
       "0  Spring      Monday        0    21     0.500        1\n",
       "1  Spring     Tuesday        1    25     0.414        0\n",
       "2  Spring   Wednesday        0    15     0.352        0\n",
       "3  Spring    Thursday        0    26     0.305        1\n",
       "4  Spring      Friday        1    10     0.236        0"
      ]
     },
     "execution_count": 285,
     "metadata": {},
     "output_type": "execute_result"
    }
   ],
   "source": [
    "# Just dropping price in a vry long winded way\n",
    "\n",
    "bikes = bike[['season','day_of_week','holiday','temp','humidity','over100']]  \n",
    "bikes.head()"
   ]
  },
  {
   "cell_type": "code",
   "execution_count": 286,
   "metadata": {},
   "outputs": [
    {
     "data": {
      "text/html": [
       "<div>\n",
       "<style>\n",
       "    .dataframe thead tr:only-child th {\n",
       "        text-align: right;\n",
       "    }\n",
       "\n",
       "    .dataframe thead th {\n",
       "        text-align: left;\n",
       "    }\n",
       "\n",
       "    .dataframe tbody tr th {\n",
       "        vertical-align: top;\n",
       "    }\n",
       "</style>\n",
       "<table border=\"1\" class=\"dataframe\">\n",
       "  <thead>\n",
       "    <tr style=\"text-align: right;\">\n",
       "      <th></th>\n",
       "      <th>holiday</th>\n",
       "      <th>temp</th>\n",
       "      <th>humidity</th>\n",
       "      <th>over100</th>\n",
       "      <th>dum_Spring</th>\n",
       "      <th>dum_Summer</th>\n",
       "      <th>dum_Winter</th>\n",
       "      <th>dum_Friday</th>\n",
       "      <th>dum_Saturday</th>\n",
       "      <th>dum_Sunday</th>\n",
       "      <th>dum_Thursday</th>\n",
       "      <th>dum_Tuesday</th>\n",
       "      <th>dum_Wednesday</th>\n",
       "    </tr>\n",
       "  </thead>\n",
       "  <tbody>\n",
       "    <tr>\n",
       "      <th>0</th>\n",
       "      <td>0</td>\n",
       "      <td>21</td>\n",
       "      <td>0.500</td>\n",
       "      <td>1</td>\n",
       "      <td>1</td>\n",
       "      <td>0</td>\n",
       "      <td>0</td>\n",
       "      <td>0</td>\n",
       "      <td>0</td>\n",
       "      <td>0</td>\n",
       "      <td>0</td>\n",
       "      <td>0</td>\n",
       "      <td>0</td>\n",
       "    </tr>\n",
       "    <tr>\n",
       "      <th>1</th>\n",
       "      <td>1</td>\n",
       "      <td>25</td>\n",
       "      <td>0.414</td>\n",
       "      <td>0</td>\n",
       "      <td>1</td>\n",
       "      <td>0</td>\n",
       "      <td>0</td>\n",
       "      <td>0</td>\n",
       "      <td>0</td>\n",
       "      <td>0</td>\n",
       "      <td>0</td>\n",
       "      <td>1</td>\n",
       "      <td>0</td>\n",
       "    </tr>\n",
       "    <tr>\n",
       "      <th>2</th>\n",
       "      <td>0</td>\n",
       "      <td>15</td>\n",
       "      <td>0.352</td>\n",
       "      <td>0</td>\n",
       "      <td>1</td>\n",
       "      <td>0</td>\n",
       "      <td>0</td>\n",
       "      <td>0</td>\n",
       "      <td>0</td>\n",
       "      <td>0</td>\n",
       "      <td>0</td>\n",
       "      <td>0</td>\n",
       "      <td>1</td>\n",
       "    </tr>\n",
       "    <tr>\n",
       "      <th>3</th>\n",
       "      <td>0</td>\n",
       "      <td>26</td>\n",
       "      <td>0.305</td>\n",
       "      <td>1</td>\n",
       "      <td>1</td>\n",
       "      <td>0</td>\n",
       "      <td>0</td>\n",
       "      <td>0</td>\n",
       "      <td>0</td>\n",
       "      <td>0</td>\n",
       "      <td>1</td>\n",
       "      <td>0</td>\n",
       "      <td>0</td>\n",
       "    </tr>\n",
       "    <tr>\n",
       "      <th>4</th>\n",
       "      <td>1</td>\n",
       "      <td>10</td>\n",
       "      <td>0.236</td>\n",
       "      <td>0</td>\n",
       "      <td>1</td>\n",
       "      <td>0</td>\n",
       "      <td>0</td>\n",
       "      <td>1</td>\n",
       "      <td>0</td>\n",
       "      <td>0</td>\n",
       "      <td>0</td>\n",
       "      <td>0</td>\n",
       "      <td>0</td>\n",
       "    </tr>\n",
       "  </tbody>\n",
       "</table>\n",
       "</div>"
      ],
      "text/plain": [
       "   holiday  temp  humidity  over100  dum_Spring  dum_Summer  dum_Winter  \\\n",
       "0        0    21     0.500        1           1           0           0   \n",
       "1        1    25     0.414        0           1           0           0   \n",
       "2        0    15     0.352        0           1           0           0   \n",
       "3        0    26     0.305        1           1           0           0   \n",
       "4        1    10     0.236        0           1           0           0   \n",
       "\n",
       "   dum_Friday  dum_Saturday  dum_Sunday  dum_Thursday  dum_Tuesday  \\\n",
       "0           0             0           0             0            0   \n",
       "1           0             0           0             0            1   \n",
       "2           0             0           0             0            0   \n",
       "3           0             0           0             1            0   \n",
       "4           1             0           0             0            0   \n",
       "\n",
       "   dum_Wednesday  \n",
       "0              0  \n",
       "1              0  \n",
       "2              1  \n",
       "3              0  \n",
       "4              0  "
      ]
     },
     "execution_count": 286,
     "metadata": {},
     "output_type": "execute_result"
    }
   ],
   "source": [
    "# Getting dummies for all cat variables (season & day_of_week)\n",
    "\n",
    "df_dummies = pd.get_dummies(bikes,prefix = 'dum')\n",
    "logit_data = df_dummies.drop(['dum_Fall','dum_Monday'],axis=1) # Anyone know why we do this?\n",
    "logit_data.head()"
   ]
  },
  {
   "cell_type": "code",
   "execution_count": 287,
   "metadata": {
    "collapsed": true
   },
   "outputs": [],
   "source": [
    "# Taking out our X's and Y's \n",
    "\n",
    "X = logit_data.drop('over100',axis=1)\n",
    "Y = logit_data[['over100']]"
   ]
  },
  {
   "cell_type": "code",
   "execution_count": 288,
   "metadata": {},
   "outputs": [
    {
     "name": "stderr",
     "output_type": "stream",
     "text": [
      "C:\\ProgramData\\Anaconda3\\lib\\site-packages\\sklearn\\utils\\validation.py:526: DataConversionWarning: A column-vector y was passed when a 1d array was expected. Please change the shape of y to (n_samples, ), for example using ravel().\n",
      "  y = column_or_1d(y, warn=True)\n"
     ]
    },
    {
     "data": {
      "text/plain": [
       "0.87637362637362637"
      ]
     },
     "execution_count": 288,
     "metadata": {},
     "output_type": "execute_result"
    }
   ],
   "source": [
    "logit = LogisticRegression()\n",
    "mod1 = logit.fit(X,Y)\n",
    "mod1.score(X,Y)"
   ]
  },
  {
   "cell_type": "code",
   "execution_count": 289,
   "metadata": {},
   "outputs": [
    {
     "data": {
      "text/plain": [
       "over100    0.203297\n",
       "dtype: float64"
      ]
     },
     "execution_count": 289,
     "metadata": {},
     "output_type": "execute_result"
    }
   ],
   "source": [
    "Y.mean()"
   ]
  },
  {
   "cell_type": "markdown",
   "metadata": {},
   "source": [
    "### That's an impressive jump in accuracy! Only 20% of the days had over 100 bike rentals, but we were able to predict them with ~88% accuracy. Again, remember the validation, and don't forget the salt"
   ]
  },
  {
   "cell_type": "code",
   "execution_count": 290,
   "metadata": {},
   "outputs": [
    {
     "name": "stdout",
     "output_type": "stream",
     "text": [
      "(243, 12)\n",
      "(121, 12)\n",
      "(243, 1)\n",
      "(121, 1)\n"
     ]
    }
   ],
   "source": [
    "X_train, X_test, Y_train, Y_test = train_test_split(X,Y,test_size = 0.33)\n",
    "print(X_train.shape)\n",
    "print(X_test.shape)\n",
    "print(Y_train.shape)\n",
    "print(Y_test.shape)"
   ]
  },
  {
   "cell_type": "code",
   "execution_count": 303,
   "metadata": {},
   "outputs": [
    {
     "name": "stderr",
     "output_type": "stream",
     "text": [
      "C:\\ProgramData\\Anaconda3\\lib\\site-packages\\sklearn\\utils\\validation.py:526: DataConversionWarning: A column-vector y was passed when a 1d array was expected. Please change the shape of y to (n_samples, ), for example using ravel().\n",
      "  y = column_or_1d(y, warn=True)\n"
     ]
    },
    {
     "data": {
      "text/plain": [
       "0.84773662551440332"
      ]
     },
     "execution_count": 303,
     "metadata": {},
     "output_type": "execute_result"
    }
   ],
   "source": [
    "mod2 = logit.fit(X_train,Y_train)\n",
    "train_preds = mod2.predict(X_train)\n",
    "mod2.score(X_train,Y_train)"
   ]
  },
  {
   "cell_type": "markdown",
   "metadata": {},
   "source": [
    "Accuracy score not too different"
   ]
  },
  {
   "cell_type": "code",
   "execution_count": 304,
   "metadata": {},
   "outputs": [
    {
     "name": "stderr",
     "output_type": "stream",
     "text": [
      "C:\\ProgramData\\Anaconda3\\lib\\site-packages\\sklearn\\utils\\validation.py:526: DataConversionWarning: A column-vector y was passed when a 1d array was expected. Please change the shape of y to (n_samples, ), for example using ravel().\n",
      "  y = column_or_1d(y, warn=True)\n"
     ]
    },
    {
     "data": {
      "text/plain": [
       "0.88429752066115708"
      ]
     },
     "execution_count": 304,
     "metadata": {},
     "output_type": "execute_result"
    }
   ],
   "source": [
    "mod3 = logit.fit(X_test,Y_test)\n",
    "test_preds = mod3.predict(X_test)\n",
    "mod3.score(X_test,Y_test)"
   ]
  },
  {
   "cell_type": "code",
   "execution_count": 305,
   "metadata": {},
   "outputs": [
    {
     "name": "stdout",
     "output_type": "stream",
     "text": [
      "Train score:  0.851851851852\n",
      "Test score:  0.884297520661\n"
     ]
    }
   ],
   "source": [
    "print(\"Train score: \",mod2.score(X_train,Y_train))\n",
    "print(\"Test score: \",mod3.score(X_test,Y_test))"
   ]
  },
  {
   "cell_type": "markdown",
   "metadata": {},
   "source": [
    "### Increased accuracy score in test set, but still quite similar to train, so it looks good! \n",
    "\n",
    "### 85% of the time, it works every time!"
   ]
  },
  {
   "cell_type": "code",
   "execution_count": 306,
   "metadata": {},
   "outputs": [
    {
     "name": "stdout",
     "output_type": "stream",
     "text": [
      "[[91  3]\n",
      " [11 16]]\n"
     ]
    }
   ],
   "source": [
    "print(metrics.confusion_matrix(Y_test, test_preds))"
   ]
  },
  {
   "cell_type": "markdown",
   "metadata": {},
   "source": [
    "However, the confusion matrix tells a different story. 11/16 (~70%) are false positives\n",
    "\n"
   ]
  },
  {
   "cell_type": "code",
   "execution_count": 307,
   "metadata": {},
   "outputs": [
    {
     "name": "stdout",
     "output_type": "stream",
     "text": [
      "             precision    recall  f1-score   support\n",
      "\n",
      "          0       0.89      0.97      0.93        94\n",
      "          1       0.84      0.59      0.70        27\n",
      "\n",
      "avg / total       0.88      0.88      0.88       121\n",
      "\n"
     ]
    }
   ],
   "source": [
    "print(metrics.classification_report(Y_test, test_preds))"
   ]
  },
  {
   "cell_type": "markdown",
   "metadata": {},
   "source": [
    "# In-Class (& Out-of-Class) Activity 4:\n",
    "\n",
    "Remember the Human Resource dataset? Use logistic regressions to find the best model you can to predict if an employee will leave the company or not. \n",
    "\n",
    "Make sure to validate it! \n"
   ]
  },
  {
   "cell_type": "code",
   "execution_count": null,
   "metadata": {
    "collapsed": true
   },
   "outputs": [],
   "source": [
    "# Your code below:\n",
    "\n",
    "\n"
   ]
  }
 ],
 "metadata": {
  "kernelspec": {
   "display_name": "Python 3",
   "language": "python",
   "name": "python3"
  },
  "language_info": {
   "codemirror_mode": {
    "name": "ipython",
    "version": 3
   },
   "file_extension": ".py",
   "mimetype": "text/x-python",
   "name": "python",
   "nbconvert_exporter": "python",
   "pygments_lexer": "ipython3",
   "version": "3.6.1"
  }
 },
 "nbformat": 4,
 "nbformat_minor": 2
}
