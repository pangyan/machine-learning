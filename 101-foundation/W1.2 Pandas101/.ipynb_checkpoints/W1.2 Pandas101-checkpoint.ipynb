{
 "cells": [
  {
   "cell_type": "markdown",
   "metadata": {},
   "source": [
    "# Pandas 101\n",
    "\n",
    "Pandas is a very popular and ultra useful Python library that is used extensively for data manipulation. \n",
    "\n",
    "It can take data in many forms, such as from lists (or lists of lists), dictionaries, or even external files on your computer such as excel, CSVs etc. \n",
    "\n",
    "While learning Pandas, another library, numpy, will also be introduced to perform numerous functions with datasets.\n",
    "\n",
    "**A Word on Libraries**\n",
    "\n",
    "A library is a set of functions pre-written by someone that can be 'called' and used for their pre-defined purpose. Everything you have used and learnt so far is called the Python Standard Library, which comes pre-packaged. Pandas is an example of a library made with the Python Standard Library, that can be 'called' or imported  and it's useful predefined functions used with a lot less code."
   ]
  },
  {
   "cell_type": "markdown",
   "metadata": {},
   "source": [
    "## Importing Pandas"
   ]
  },
  {
   "cell_type": "code",
   "execution_count": null,
   "metadata": {
    "collapsed": true
   },
   "outputs": [],
   "source": [
    "# Let's first import pandas\n",
    "\n",
    "import pandas as pd # We rename pandas to pd so we don't have to write pandas. before every function that we call from Pandas"
   ]
  },
  {
   "cell_type": "markdown",
   "metadata": {},
   "source": [
    "## Making a DataFrame...\n",
    "\n",
    "A DataFrame object is basically a table in this sense. It acts and looks like any standard excel or SQL table. The magic is in taking different types of data and making them into tables so that it's easier for humans to read/use the data."
   ]
  },
  {
   "cell_type": "markdown",
   "metadata": {},
   "source": [
    "### ...From a List"
   ]
  },
  {
   "cell_type": "code",
   "execution_count": null,
   "metadata": {
    "collapsed": true
   },
   "outputs": [],
   "source": [
    "dataList = [[1251,65342,164323,'What'],[635,421,1125,'Who'],[12412,8585,85434,'Where']]\n",
    "\n",
    "df = pd.DataFrame(dataList)"
   ]
  },
  {
   "cell_type": "code",
   "execution_count": null,
   "metadata": {
    "collapsed": true
   },
   "outputs": [],
   "source": [
    "df.head() # Displaying your list in data form\n"
   ]
  },
  {
   "cell_type": "code",
   "execution_count": null,
   "metadata": {
    "collapsed": true
   },
   "outputs": [],
   "source": [
    "# Things to look out for: all sublists must be of the same length to input into a dataframe"
   ]
  },
  {
   "cell_type": "code",
   "execution_count": null,
   "metadata": {
    "collapsed": true
   },
   "outputs": [],
   "source": [
    "# Our column names aren't very descriptive though? What can we do?\n",
    "# Let's learn how to change them\n",
    "\n",
    "colNames = ['A','B','C','D']\n",
    "\n",
    "df.columns = colNames\n",
    "df.head() #Voila!"
   ]
  },
  {
   "cell_type": "markdown",
   "metadata": {},
   "source": [
    "## ....From a Dictionary\n",
    "\n",
    "Let's say you have a dictionary of dates and another value, say average temperature for that day"
   ]
  },
  {
   "cell_type": "code",
   "execution_count": null,
   "metadata": {
    "collapsed": true
   },
   "outputs": [],
   "source": [
    "tempDict = {'2017-09-10':35.5,'2017-09-11':33.3,'2017-09-12':31.0,'2017-09-13':34.6}\n",
    "\n",
    "tempDF = pd.DataFrame(list(tempDict.items()),columns = ['Date','Average Temperature'])\n",
    "\n",
    "# Notice that all you're really doing is extracting the key/value pairs and turning them into lists before passing into pandas"
   ]
  },
  {
   "cell_type": "code",
   "execution_count": null,
   "metadata": {
    "collapsed": true
   },
   "outputs": [],
   "source": [
    "tempDF.head()"
   ]
  },
  {
   "cell_type": "markdown",
   "metadata": {},
   "source": [
    "### ... From an Excel File\n",
    "\n",
    "This is something that would be most useful in real life. You have a dataset in excel somewhere, and you want to use Python to analyse it. "
   ]
  },
  {
   "cell_type": "code",
   "execution_count": null,
   "metadata": {
    "collapsed": true
   },
   "outputs": [],
   "source": [
    "cars = pd.read_excel('cars.xls') # If you keep it in the same folder as where your ipython notebook is, you just need the name\n",
    "# Otherwise, you have to provide a path to the file from your C drive in Windows, or /home/ folder in OSX\n",
    "\n",
    "cars.head()"
   ]
  },
  {
   "cell_type": "markdown",
   "metadata": {},
   "source": [
    "### ....From a CSV File\n",
    "\n",
    "A CSV file is called a comma seperated file and looks like this:\n",
    "\n",
    "ColA,ColB,ColC,ColD\n",
    "<br>\n",
    "1325,3115,6435,1526\n",
    "\n",
    "Every column is seperated by a comma, and a row is seperated be a new line. \n",
    "\n",
    "This is probably the most common form of a dataset that you will come across a lot in this class, and in real life.\n",
    "\n",
    "**Note:** The column separator doesn't have to be a comma, but can be any character. But remember that commonly occuring characters are a bad idea since they can occur in normal text data, and in that case, there may be conflicts with column changes"
   ]
  },
  {
   "cell_type": "code",
   "execution_count": null,
   "metadata": {
    "collapsed": true
   },
   "outputs": [],
   "source": [
    "mov = pd.read_csv('movie_metadata.csv')\n",
    "mov.head()"
   ]
  },
  {
   "cell_type": "markdown",
   "metadata": {},
   "source": [
    "### Data Exploration\n",
    "\n",
    "Now we know how to import datasets, let's learn some very useful Pandas functions."
   ]
  },
  {
   "cell_type": "code",
   "execution_count": null,
   "metadata": {
    "collapsed": true
   },
   "outputs": [],
   "source": [
    "# the head function that outputs the first 5 rows\n",
    "\n",
    "mov.head()"
   ]
  },
  {
   "cell_type": "code",
   "execution_count": null,
   "metadata": {
    "collapsed": true,
    "scrolled": false
   },
   "outputs": [],
   "source": [
    "# You can put in a number inside the brackets after head to see more rows\n",
    "\n",
    "mov.head(20)"
   ]
  },
  {
   "cell_type": "code",
   "execution_count": null,
   "metadata": {
    "collapsed": true
   },
   "outputs": [],
   "source": [
    "# To check the bottom of the dataset, use the tail function. \n",
    "# It works exactly the same way as the head function\n",
    "\n",
    "mov.tail()"
   ]
  },
  {
   "cell_type": "code",
   "execution_count": null,
   "metadata": {
    "collapsed": true
   },
   "outputs": [],
   "source": [
    "# Check the dimensions of the dataset by using the shape function\n",
    "\n",
    "mov.shape  # Our dataset has 5043 rows and 28 columns"
   ]
  },
  {
   "cell_type": "code",
   "execution_count": null,
   "metadata": {
    "collapsed": true
   },
   "outputs": [],
   "source": [
    "# The numbers you see on the left most column, that doesn't have a column header is called index\n",
    "# It helps makes rows unqiue and is in increments of 1 for an untampered dataset\n",
    "# A good way to tell if rows have been deleted during your analysis (by mistake or not) is to check the increment\n",
    "\n",
    "mov.index"
   ]
  },
  {
   "cell_type": "markdown",
   "metadata": {},
   "source": [
    "### Getting Familiar with your Dataset\n",
    "\n",
    "A starting part of exploratory analysis is to get familiar with the dataset.\n",
    "\n",
    "1) What are the dimensions of the dataset? \n",
    "<br>\n",
    "2) What kind of columns do you have?\n",
    "<br>\n",
    "3) What datatypes are these columns?\n",
    "<br>\n",
    "4) Are there lots of missing or Null values?"
   ]
  },
  {
   "cell_type": "code",
   "execution_count": null,
   "metadata": {
    "collapsed": true
   },
   "outputs": [],
   "source": [
    "# Gettins just column names out of a DataFrame\n",
    "\n",
    "col_names = list(mov)\n",
    "print(col_names)"
   ]
  },
  {
   "cell_type": "code",
   "execution_count": null,
   "metadata": {
    "collapsed": true
   },
   "outputs": [],
   "source": [
    "# Checking datatypes for your columns\n",
    "\n",
    "mov.dtypes\n",
    "\n",
    "# Object type is just text"
   ]
  },
  {
   "cell_type": "code",
   "execution_count": null,
   "metadata": {
    "collapsed": true
   },
   "outputs": [],
   "source": [
    "# Pandas has a nifty functionality to  summarise columns automatically for you, to give you a dataset snapshot\n",
    "\n",
    "mov.describe()"
   ]
  },
  {
   "cell_type": "code",
   "execution_count": null,
   "metadata": {
    "collapsed": true
   },
   "outputs": [],
   "source": [
    "# Get a snapshot of a random row by using the iloc function\n",
    "\n",
    "mov.iloc[124]"
   ]
  },
  {
   "cell_type": "code",
   "execution_count": null,
   "metadata": {
    "collapsed": true
   },
   "outputs": [],
   "source": [
    "# This is really useful in getting comfortable with your dataset. \n",
    "# But another thing we might want to know is...how many unique values are there in a column?\n",
    "# Example: how many different genres are in the dataset? \n",
    "# Answer: Numpy.unique\n",
    "\n",
    "import numpy as np\n",
    "\n",
    "# To take only a specific column out, we use the following notation df['column name']\n",
    "\n",
    "uniqueGenres = np.unique(mov['genres'])\n",
    "print(len(uniqueGenres))\n",
    "print(uniqueGenres)"
   ]
  },
  {
   "cell_type": "markdown",
   "metadata": {},
   "source": [
    "## In-Class Activity #1: \n",
    "\n",
    "Find the number of distinct Directors & Actors (actor_1_name) in the above datasaet. "
   ]
  },
  {
   "cell_type": "code",
   "execution_count": null,
   "metadata": {
    "collapsed": true
   },
   "outputs": [],
   "source": [
    "# Your code below\n",
    "\n",
    "\n",
    "\n",
    "\n"
   ]
  },
  {
   "cell_type": "markdown",
   "metadata": {},
   "source": [
    "### Sorting by columns\n",
    "\n",
    "Let's say  you want to sort this by IMDB Score. Pandas makes this really easy to do"
   ]
  },
  {
   "cell_type": "code",
   "execution_count": null,
   "metadata": {
    "collapsed": true
   },
   "outputs": [],
   "source": [
    "mov.sort_values(by='imdb_score', ascending = False)"
   ]
  },
  {
   "cell_type": "code",
   "execution_count": null,
   "metadata": {
    "collapsed": true
   },
   "outputs": [],
   "source": [
    "mov.iloc[1937]"
   ]
  },
  {
   "cell_type": "markdown",
   "metadata": {},
   "source": [
    "### In-Class Activity #2: Sort by budget, ascending\n"
   ]
  },
  {
   "cell_type": "code",
   "execution_count": null,
   "metadata": {
    "collapsed": true
   },
   "outputs": [],
   "source": [
    "# Your code below\n"
   ]
  },
  {
   "cell_type": "markdown",
   "metadata": {},
   "source": [
    "### Advanced Manipulation Techniques\n",
    "\n",
    "Now let's start doing some fun stuff, that we've become familiar with the basic functions. We will continue using the IMDB dataset"
   ]
  },
  {
   "cell_type": "code",
   "execution_count": null,
   "metadata": {
    "collapsed": true
   },
   "outputs": [],
   "source": [
    "# Filtering by column values:\n",
    "# Let's say you only wanted to see only Steven Spielberg films\n",
    "# How would you do that?\n",
    "\n",
    "spielberg = mov[mov.director_name == 'Steven Spielberg']\n",
    "\n",
    "# Another alternate way to do this would be:\n",
    "# spielberg = mov[mov['director_name'] == 'Steven Spielberg']"
   ]
  },
  {
   "cell_type": "code",
   "execution_count": null,
   "metadata": {
    "collapsed": true
   },
   "outputs": [],
   "source": [
    "spielberg.head()"
   ]
  },
  {
   "cell_type": "code",
   "execution_count": null,
   "metadata": {
    "collapsed": true
   },
   "outputs": [],
   "source": [
    "# Let's say you want to convert the color column to ordinal types (1s & 0s)\n",
    "# Why? Maybe you want to use it in your analysis somehow (example for later, Logistic Regression)\n",
    "# Before doing that, let's make sure there are only those two unique values in the column\n",
    "\n",
    "colorUq = np.unique(mov['color'])"
   ]
  },
  {
   "cell_type": "code",
   "execution_count": null,
   "metadata": {
    "collapsed": true
   },
   "outputs": [],
   "source": [
    "# Well well well... if you google the error, you'll find that the reason seems to be because of null values\n",
    "# Before we change the underlying data, let's first make a copy of the original dataset\n",
    "mov2 = mov.copy()\n",
    "\n",
    "# Filling in Nulls values:\n",
    "# Let's remove the null values only from the color row\n",
    "\n",
    "mov2 = mov2.dropna(how='any')\n",
    "\n",
    "# colorUq = np.unique(mov2['color'])\n",
    "mov2.head()"
   ]
  },
  {
   "cell_type": "code",
   "execution_count": null,
   "metadata": {
    "collapsed": true
   },
   "outputs": [],
   "source": [
    "colorUq = np.unique(mov2['color'])\n",
    "print(len(colorUq)) # There you go, now we only have two values obviously B/W and Color.\n",
    "print(colorUq)"
   ]
  },
  {
   "cell_type": "code",
   "execution_count": null,
   "metadata": {
    "collapsed": true
   },
   "outputs": [],
   "source": [
    "# We can't really use this still though for most cases. What if we wanted to change it to ordinal data type?\n",
    "# i.e. Color =1 and B/W = 0 \n",
    "\n",
    "colorDict = {'Color':1,'Black and White':0}\n",
    "mov2['color'] = mov2['color'].map(colorDict) # the map function maps the dictionary to the entire column\n",
    "mov2.head()"
   ]
  },
  {
   "cell_type": "code",
   "execution_count": null,
   "metadata": {
    "collapsed": true
   },
   "outputs": [],
   "source": [
    "print(np.unique(mov2['color'])) # All working now "
   ]
  },
  {
   "cell_type": "code",
   "execution_count": null,
   "metadata": {
    "collapsed": true
   },
   "outputs": [],
   "source": [
    "# A note on map: it works in the following structure for lists/dictionaries: map(func,datastore)\n",
    "\n",
    "def square(x):\n",
    "    return x**2\n",
    "\n",
    "y = [1,2,3]\n",
    "z = map(square,y)\n",
    "print(list(z))"
   ]
  },
  {
   "cell_type": "code",
   "execution_count": null,
   "metadata": {
    "collapsed": true
   },
   "outputs": [],
   "source": [
    "# Lambda functions are really really useful for numerous reasons.\n",
    "# They are used when you only want to do something once, and don't want to make a predefined function for it\n",
    "# In Pandas, they are used to do something to every row for a particular column\n",
    "\n",
    "# For example, let's say you wanted to get the duration in seconds and not minutes for the movie dataset\n",
    "# You can use the lambda function to iterate through the entire datatset and apply that transformation using the map functionality\n",
    "# Let's see how to use it:\n",
    "\n",
    "mov2['duration'] = mov2['duration'].map(lambda x: x * 60)\n",
    "mov2.head()"
   ]
  },
  {
   "cell_type": "code",
   "execution_count": null,
   "metadata": {
    "collapsed": true
   },
   "outputs": [],
   "source": [
    "# What if you wanted to keep the original column untouched? \n",
    "# Let's convert back to minutes now\n",
    "# We can create a new column like this and apply the inverse function\n",
    "\n",
    "mov2['duration_mins'] = mov2['duration']/60\n",
    "mov2.head()"
   ]
  },
  {
   "cell_type": "markdown",
   "metadata": {},
   "source": [
    "### Calculating Metrics\n",
    "\n",
    "We can do some more exploration of the dataset yet. \n",
    "<br>\n",
    "What if we wanted to find max/min/mean etc of columns? \n",
    "<br>\n",
    "How can we group by colunmns?\n"
   ]
  },
  {
   "cell_type": "code",
   "execution_count": null,
   "metadata": {
    "collapsed": true
   },
   "outputs": [],
   "source": [
    "# Calculating maximums and minimums\n",
    "\n",
    "mov2['budget'].max()"
   ]
  },
  {
   "cell_type": "code",
   "execution_count": null,
   "metadata": {
    "collapsed": true
   },
   "outputs": [],
   "source": [
    "# Wait, this sounds really wrong. \n",
    "# 12 billion USD budget? Let's investigate more\n",
    "# We can use the iloc function, and use filtering to just store the row by the maximum budget\n",
    "\n",
    "row = mov2[mov2['budget']==mov2['budget'].max()]\n",
    "row.iloc[0]"
   ]
  },
  {
   "cell_type": "code",
   "execution_count": null,
   "metadata": {
    "collapsed": true
   },
   "outputs": [],
   "source": [
    "# Anyways, let's move on\n",
    "\n",
    "mov2['budget'].min()"
   ]
  },
  {
   "cell_type": "code",
   "execution_count": null,
   "metadata": {
    "collapsed": true
   },
   "outputs": [],
   "source": [
    "mov2[mov2['budget']==mov2['budget'].min()].iloc[0]"
   ]
  },
  {
   "cell_type": "code",
   "execution_count": null,
   "metadata": {
    "collapsed": true
   },
   "outputs": [],
   "source": [
    "# Calculating the mean for budget\n",
    "mov2['budget'].mean()"
   ]
  },
  {
   "cell_type": "code",
   "execution_count": null,
   "metadata": {
    "collapsed": true
   },
   "outputs": [],
   "source": [
    "# Lastly, let's see if we can use Pandas to get the average budget and gross by actor\n",
    "roi = mov2[['director_name','actor_1_name','gross','budget']]\n",
    "roi = roi.groupby(['director_name','actor_1_name']).mean()\n",
    "roi.sort_values(by='gross')"
   ]
  },
  {
   "cell_type": "code",
   "execution_count": null,
   "metadata": {
    "collapsed": true
   },
   "outputs": [],
   "source": [
    "roi.sort_values(by='gross',ascending = False)"
   ]
  },
  {
   "cell_type": "markdown",
   "metadata": {},
   "source": [
    "## Taking things out of a DataFrame\n",
    "\n",
    "Now we have covered some basic data exploration, it's time to see how we can export data from a Pandas DataFrame."
   ]
  },
  {
   "cell_type": "markdown",
   "metadata": {},
   "source": [
    "### Column --> List\n",
    "\n",
    "Let's say you just want to take a column out to a list"
   ]
  },
  {
   "cell_type": "code",
   "execution_count": null,
   "metadata": {
    "collapsed": true
   },
   "outputs": [],
   "source": [
    "directors = mov2['director_name'].tolist()"
   ]
  },
  {
   "cell_type": "code",
   "execution_count": null,
   "metadata": {
    "collapsed": true
   },
   "outputs": [],
   "source": [
    "print(director)"
   ]
  },
  {
   "cell_type": "code",
   "execution_count": null,
   "metadata": {
    "collapsed": true
   },
   "outputs": [],
   "source": [
    "# 2nd more customised\n",
    "# Say you only wanted imdb scores of only James Cameron's films, with the film names\n",
    "\n",
    "cameron = []\n",
    "\n",
    "cameron.append(mov2.loc[mov2['director_name'] == 'James Cameron','movie_title'].tolist())\n",
    "cameron.append(mov2.loc[mov2['director_name']== 'James Cameron','imdb_score'].tolist())\n",
    "\n",
    "print(cameron)"
   ]
  },
  {
   "cell_type": "markdown",
   "metadata": {},
   "source": [
    "### DataFrame to CSV\n",
    "\n",
    "This is also a super useful function. Let's say you imported a data set in python, cleaned it and did some blending, slicing and manipulation. Now you want to take it back out. Pandas has built-in functions capable of doing that.\n",
    "\n",
    "**General Syntax Below:**\n",
    "\n",
    "df.to_csv(\"{your file path here}\", sep = \"{what seperator you want, e.g. comma}\", index = {True or False: if you want to keep the index})"
   ]
  },
  {
   "cell_type": "code",
   "execution_count": null,
   "metadata": {
    "collapsed": true
   },
   "outputs": [],
   "source": [
    "# Let's try it:\n",
    "mov2.to_csv('movies.csv' , sep=',' , index = False)"
   ]
  },
  {
   "cell_type": "markdown",
   "metadata": {},
   "source": [
    "## In-Class Activity #3\n",
    "\n",
    "What genre combinations makes the most money? See if you can group by genre on gross and sort by descending to find out what the top 3 grossing genre combinations are."
   ]
  },
  {
   "cell_type": "code",
   "execution_count": null,
   "metadata": {
    "collapsed": true
   },
   "outputs": [],
   "source": [
    "# Reading a new & fresh dataset\n",
    "mov = pd.read_csv('movie_metadata.csv')\n",
    "\n",
    "# YOUR CODE BELOW\n",
    "\n",
    "\n",
    "\n",
    "\n",
    "\n"
   ]
  },
  {
   "cell_type": "markdown",
   "metadata": {},
   "source": [
    "## In-Class Activity #4\n",
    "\n",
    "Let's dive in deeper now. Are the 2nd actors (actor_2_name) who were part of the top 10 highest grossing movies also a part of the top 10 2nd actors with the most facebook likes?"
   ]
  },
  {
   "cell_type": "code",
   "execution_count": null,
   "metadata": {
    "collapsed": true
   },
   "outputs": [],
   "source": [
    "mov = pd.read_csv('movie_metadata.csv')\n",
    "\n",
    "# Your code below\n",
    "\n",
    "\n",
    "\n",
    "\n",
    "\n"
   ]
  },
  {
   "cell_type": "markdown",
   "metadata": {},
   "source": [
    "## In-Class Activity #5 (Bonus)\n",
    "\n",
    "Find the average imdb_ratings by director, take it out into a list, write to a dictionary (director_name being the key and average rating being the value)?\n",
    "\n",
    "<br>\n",
    "<br>\n",
    "This problem reqruies using a mix of Pandas and the Python Standard Library."
   ]
  },
  {
   "cell_type": "code",
   "execution_count": null,
   "metadata": {
    "collapsed": true
   },
   "outputs": [],
   "source": [
    "mov = pd.read_csv('movie_metadata.csv')\n",
    "\n",
    "# Your code below\n",
    "\n",
    "\n",
    "\n",
    "\n",
    "\n",
    "\n"
   ]
  },
  {
   "cell_type": "markdown",
   "metadata": {},
   "source": [
    "## In-Class Activity #6\n",
    "\n",
    "Now let's use a new dataset: Human Resource Analytics. There are no exact questions I want to put forward here, but rather, it's an opportunity for you guys to follow some open ended directions and take this where you would want. \n",
    "\n",
    "Some things to explore:\n",
    "\n",
    "1) Are there any general patterns in people that are leaving that are very noticeable? \n",
    "<br>\n",
    "2) Are there any general patterns in people who are staying that are very noticeable?\n",
    "<br>\n",
    "3) Do you see any effects on salary or on employee's evaluation scores of how much an employee works?\n",
    "<br>\n",
    "4) How would you try to predict if an employee will leave? What columns/combination of columns would you use?"
   ]
  },
  {
   "cell_type": "code",
   "execution_count": null,
   "metadata": {
    "collapsed": true
   },
   "outputs": [],
   "source": []
  }
 ],
 "metadata": {
  "kernelspec": {
   "display_name": "Python 3",
   "language": "python",
   "name": "python3"
  },
  "language_info": {
   "codemirror_mode": {
    "name": "ipython",
    "version": 3
   },
   "file_extension": ".py",
   "mimetype": "text/x-python",
   "name": "python",
   "nbconvert_exporter": "python",
   "pygments_lexer": "ipython3",
   "version": "3.6.1"
  }
 },
 "nbformat": 4,
 "nbformat_minor": 2
}
